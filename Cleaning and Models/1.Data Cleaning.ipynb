{
 "cells": [
  {
   "cell_type": "code",
   "execution_count": 94,
   "id": "bd8f3e94",
   "metadata": {},
   "outputs": [],
   "source": [
    "import pandas as pd\n",
    "import numpy as np\n",
    "import re\n",
    "from re import search"
   ]
  },
  {
   "cell_type": "markdown",
   "id": "68f94c77",
   "metadata": {},
   "source": [
    "## Some cleaning functions"
   ]
  },
  {
   "cell_type": "code",
   "execution_count": 95,
   "id": "0f112e15",
   "metadata": {},
   "outputs": [],
   "source": [
    "def clean_website(s):\n",
    "\n",
    "    if search(\"projetocomprova\", s):  \n",
    "        s = s.split(\"/\")\n",
    "        s = s[2]\n",
    "    elif search(\"folha\", s):\n",
    "        s = s.strip(\"https://w{3,}\\d{1,}.\")\n",
    "        s = s.split(\"/\")\n",
    "        s = s[0]\n",
    "    else:\n",
    "        s = s.strip(\"https://\")\n",
    "        s = s.strip(\"*w{3,}+.\")\n",
    "        s = s.split(\"/\")\n",
    "        s = s[0]\n",
    "    \n",
    "    return s"
   ]
  },
  {
   "cell_type": "code",
   "execution_count": 96,
   "id": "e3d5dd52",
   "metadata": {},
   "outputs": [],
   "source": [
    "def clean_special_char(f):\n",
    "    \n",
    "    special = '\\W'\n",
    "    f = re.sub(\"#boato\", \"\", f)\n",
    "    f = re.sub(special, \" \", f)\n",
    "    \n",
    "    return f"
   ]
  },
  {
   "cell_type": "code",
   "execution_count": 97,
   "id": "64512ef5",
   "metadata": {},
   "outputs": [],
   "source": [
    "def clean_date(d):\n",
    "    \n",
    "    if re.search(\"Atualizada em\", d) != None:\n",
    "        d = d.split(\" \")\n",
    "        d = d[-3]\n",
    "    elif re.search(\"Publicado em\", d)!= None:\n",
    "        d = d.split(\" \")\n",
    "        d = d[5]\n",
    "    elif re.search(\" às\", d)!= None:\n",
    "        d = d.split(\" \")\n",
    "        d = d[0]\n",
    "    elif re.search(\"\\d{1}\\W\\d{2}\\W\\d{5}\",d) !=None:\n",
    "        d = d[0:9]\n",
    "    \n",
    "    else:\n",
    "        pass\n",
    "    \n",
    "    return d"
   ]
  },
  {
   "cell_type": "code",
   "execution_count": 98,
   "id": "5c0c1eb1",
   "metadata": {},
   "outputs": [],
   "source": [
    "def clean_author(a):\n",
    "\n",
    "    if re.search(\"\\d{2}\\W\\d{2}\\W\\d{4}\\s\\d{2}\\w{3}\", a) != None:\n",
    "        a = \"NaN\"\n",
    "    elif re.search('\\w{100,}',a) != None:\n",
    "        a = \"NaN\"\n",
    "    elif re.search(\"[Pp]or\",a) != None:\n",
    "        a = re.sub(\"[Pp]or\", \"\", a) \n",
    "    else:\n",
    "        pass\n",
    "\n",
    "    special = \"\\W\"\n",
    "    a = re.sub(special, \"\", a)\n",
    "    \n",
    "    return a"
   ]
  },
  {
   "cell_type": "markdown",
   "id": "2accaba9",
   "metadata": {},
   "source": [
    "### Cleaning FakeRecogna\n",
    "- Text column is already tokenized and lemmatized; #ok\n",
    "- Lower characters of every row;\n",
    "- There are special characters in the title; #ok\n",
    "- Standard date; #ok\n",
    "- Date and author are mixed up; almost #ok\n",
    "- Excract news agency from URL; #ok\n",
    "- There is a column of subtitles; #ok \n",
    "- Columns names are in Portuguese, translate to EN lower; #ok \n",
    "- Where the is date instead of author, input None; #ok\n",
    "- Rating 0 for fake, 1 for real, as float. #ok"
   ]
  },
  {
   "cell_type": "code",
   "execution_count": 100,
   "id": "c2f5e7b0",
   "metadata": {},
   "outputs": [],
   "source": [
    "fr = pd.read_excel(\"C:\\\\Users\\\\franc\\\\IH-Lab\\\\BR-FakeNews-Detector\\\\Data\\\\FakeRecogna.xlsx\")"
   ]
  },
  {
   "cell_type": "code",
   "execution_count": 101,
   "id": "b4d68acb",
   "metadata": {},
   "outputs": [],
   "source": [
    "#Columns names are in Portuguese, translate to EN lower;"
   ]
  },
  {
   "cell_type": "code",
   "execution_count": 102,
   "id": "17517b58",
   "metadata": {},
   "outputs": [],
   "source": [
    "fr.columns = ['title', \"subtitle\", \"text\", \"tag\", \"date\", \"author\", \"url\", \"rating\"]"
   ]
  },
  {
   "cell_type": "code",
   "execution_count": 103,
   "id": "7b534148",
   "metadata": {},
   "outputs": [],
   "source": [
    "#drop duplicates if any"
   ]
  },
  {
   "cell_type": "code",
   "execution_count": 104,
   "id": "55f01c72",
   "metadata": {},
   "outputs": [],
   "source": [
    "fr.drop_duplicates(subset=['text'], inplace=True)"
   ]
  },
  {
   "cell_type": "code",
   "execution_count": 105,
   "id": "997451be",
   "metadata": {},
   "outputs": [],
   "source": [
    "#lower characters of each row"
   ]
  },
  {
   "cell_type": "markdown",
   "id": "0f3136dc",
   "metadata": {},
   "source": [
    "for column in fr.columns:\n",
    "    fr[column] = fr[column].str.lower()"
   ]
  },
  {
   "cell_type": "code",
   "execution_count": 106,
   "id": "19d636b7",
   "metadata": {},
   "outputs": [],
   "source": [
    "#There are special characters in the title or text;"
   ]
  },
  {
   "cell_type": "code",
   "execution_count": 107,
   "id": "78b83266",
   "metadata": {},
   "outputs": [],
   "source": [
    "fr['title_processed'] = fr['title'].astype(str).apply(clean_special_char)"
   ]
  },
  {
   "cell_type": "code",
   "execution_count": 108,
   "id": "0d078c1f",
   "metadata": {},
   "outputs": [],
   "source": [
    "fr['text_processed'] = fr['text'].astype(str).apply(clean_special_char)"
   ]
  },
  {
   "cell_type": "code",
   "execution_count": 109,
   "id": "e32ea857",
   "metadata": {},
   "outputs": [],
   "source": [
    "#return only agency name instead of url"
   ]
  },
  {
   "cell_type": "code",
   "execution_count": 110,
   "id": "86dee71d",
   "metadata": {},
   "outputs": [],
   "source": [
    "fr['url_processed'] = fr['url'].astype(str).apply(clean_website)"
   ]
  },
  {
   "cell_type": "code",
   "execution_count": 111,
   "id": "9ff8ead3",
   "metadata": {},
   "outputs": [],
   "source": [
    "# return standard date"
   ]
  },
  {
   "cell_type": "code",
   "execution_count": 112,
   "id": "fb1f430f",
   "metadata": {},
   "outputs": [],
   "source": [
    "fr['date_processed'] = fr['date'].astype(str).apply(clean_date)"
   ]
  },
  {
   "cell_type": "code",
   "execution_count": 113,
   "id": "78fedf0f",
   "metadata": {},
   "outputs": [],
   "source": [
    "fr['date_processed'] = pd.to_datetime(fr['date_processed'], errors='coerce').dt.date"
   ]
  },
  {
   "cell_type": "code",
   "execution_count": 114,
   "id": "765518ce",
   "metadata": {},
   "outputs": [],
   "source": [
    "# Return Nan when there is a date instead of author"
   ]
  },
  {
   "cell_type": "code",
   "execution_count": 115,
   "id": "8bd0f636",
   "metadata": {},
   "outputs": [],
   "source": [
    "fr['author_processed'] = fr['author'].astype(str).apply(clean_author)"
   ]
  },
  {
   "cell_type": "code",
   "execution_count": 116,
   "id": "4cd0d5db",
   "metadata": {},
   "outputs": [],
   "source": [
    "fr['author_processed'] = np.where(fr['author_processed'] == \"NaN\", fr[\"url_processed\"], fr['author_processed'])"
   ]
  },
  {
   "cell_type": "code",
   "execution_count": 117,
   "id": "159f946a",
   "metadata": {},
   "outputs": [],
   "source": [
    "#Dealing with Nans"
   ]
  },
  {
   "cell_type": "code",
   "execution_count": 118,
   "id": "dd0536fb",
   "metadata": {},
   "outputs": [
    {
     "data": {
      "text/plain": [
       "(array([    5,   106,   166,   189,   192,   206,   220,   284,   327,\n",
       "          333,   348,   359,   382,   445,   452,   473,   498,   550,\n",
       "          582,   611,   628,   662,   672,   771,   810,   813,   880,\n",
       "          887,   911,   926,  1011,  1036,  1180,  1187,  1253,  1254,\n",
       "         1387,  1421,  1482,  1569,  1604,  1630,  1631,  1643,  1659,\n",
       "         1664,  1676,  1740,  1745,  1763,  1798,  1842,  1865,  1867,\n",
       "         1875,  1923,  2038,  2045,  2056,  2068,  2077,  2094,  2183,\n",
       "         2185,  2199,  2201,  2202,  2231,  2357,  2358,  2382,  2420,\n",
       "         2439,  2481,  2504,  2508,  2620,  2632,  2640,  2701,  2703,\n",
       "         2766,  2773,  2777,  2856,  2864,  2894,  2910,  2932,  2969,\n",
       "         3017,  3102,  3112,  3140,  3160,  3165,  3221,  3267,  3276,\n",
       "         3315,  3362,  3377,  3386,  3451,  3452,  3464,  3494,  3553,\n",
       "         3657,  3670,  3681,  3697,  3722,  3734,  3786,  3809,  3919,\n",
       "         3934,  3982,  4014,  4068,  4145,  4174,  4192,  4239,  4247,\n",
       "         4257,  4261,  4262,  4302,  4304,  4308,  4349,  4393,  4417,\n",
       "         4453,  4487,  4522,  4542,  4573,  4601,  4695,  4732,  4755,\n",
       "         4836,  4861,  4886,  4897,  4932,  4933,  4940,  4952,  5052,\n",
       "         5075,  5154,  5292,  5327,  5385,  5404,  5439,  5469,  5528,\n",
       "         5615,  5654,  5667,  5683,  5770,  5823,  5831,  5832,  5849,\n",
       "         5894,  5937,  5939,  5947,  5955,  6056,  6144,  6199,  6230,\n",
       "         6258,  6269,  6290,  6299,  6407,  6411,  6428,  6451,  6502,\n",
       "         6565,  6586,  6596,  6614,  6618,  6622,  6669,  6680,  6713,\n",
       "         6727,  6744,  6754,  6805,  6806,  6879,  6881,  6894,  6898,\n",
       "         6904,  6954,  6959,  6986,  7033,  7034,  7061,  7098,  7102,\n",
       "         7114,  7140,  7181,  7249,  7288,  7315,  7329,  7417,  7421,\n",
       "         7464,  7476,  7508,  7533,  7553,  7563,  7640,  7674,  7733,\n",
       "         7876,  7885,  7925,  8013,  8018,  8037,  8156,  8232,  8256,\n",
       "         8338,  8413,  8418,  8469,  8474,  8502,  8512,  8544,  8667,\n",
       "         8676,  8684,  8694,  8727,  8734,  8742,  8782,  8816,  8832,\n",
       "         8873,  8874,  8929,  8937,  8954,  9028,  9057,  9078,  9138,\n",
       "         9195,  9270,  9272,  9290,  9438,  9464,  9514,  9524,  9540,\n",
       "         9553,  9578,  9616,  9638,  9659,  9665,  9755,  9756,  9817,\n",
       "         9849,  9853,  9863,  9927,  9942,  9985, 10024, 10031, 10044,\n",
       "        10071, 10119, 10155, 10163, 10208, 10213, 10274, 10332, 10352,\n",
       "        10355, 10366, 10379, 10406, 10409, 10410, 10422, 10517, 10595,\n",
       "        10644, 10650, 10685, 10696, 10735, 10801, 10802, 10889, 10928,\n",
       "        10941, 10957, 11027, 11086, 11124, 11132, 11223, 11243, 11281,\n",
       "        11309, 11337, 11376, 11380, 11387, 11475, 11519, 11543, 11595,\n",
       "        11598, 11650, 11662, 11676, 11701, 11703, 11728, 11737, 11753,\n",
       "        11765, 11770], dtype=int64),)"
      ]
     },
     "execution_count": 118,
     "metadata": {},
     "output_type": "execute_result"
    }
   ],
   "source": [
    "np.where(fr['date_processed'].isna())"
   ]
  },
  {
   "cell_type": "code",
   "execution_count": 119,
   "id": "8c2712e1",
   "metadata": {},
   "outputs": [],
   "source": [
    "dt = list(np.where(fr['date_processed'].isna()))"
   ]
  },
  {
   "cell_type": "code",
   "execution_count": 120,
   "id": "dd7efe04",
   "metadata": {},
   "outputs": [
    {
     "data": {
      "text/plain": [
       "nan"
      ]
     },
     "execution_count": 120,
     "metadata": {},
     "output_type": "execute_result"
    }
   ],
   "source": [
    "fr['date'][359]"
   ]
  },
  {
   "cell_type": "code",
   "execution_count": null,
   "id": "587960a6",
   "metadata": {},
   "outputs": [],
   "source": [
    "fr.isna().sum() "
   ]
  },
  {
   "cell_type": "code",
   "execution_count": 122,
   "id": "c07dc5ad",
   "metadata": {},
   "outputs": [],
   "source": [
    "fr = fr.dropna(subset = ['text'])"
   ]
  },
  {
   "cell_type": "code",
   "execution_count": 123,
   "id": "689fee22",
   "metadata": {},
   "outputs": [],
   "source": [
    "it = list(np.where(fr['title_processed'].isna()))"
   ]
  },
  {
   "cell_type": "code",
   "execution_count": 124,
   "id": "0723ab07",
   "metadata": {},
   "outputs": [],
   "source": [
    "for i in it:\n",
    "    fr['title_processed'].iloc[i] = fr['text_processed'].iloc[i][0:50]"
   ]
  },
  {
   "cell_type": "code",
   "execution_count": 125,
   "id": "59c84f2c",
   "metadata": {},
   "outputs": [
    {
     "data": {
      "text/plain": [
       "title               0\n",
       "subtitle            0\n",
       "text                0\n",
       "tag                 0\n",
       "date                0\n",
       "author              0\n",
       "url                 0\n",
       "rating              0\n",
       "title_processed     0\n",
       "text_processed      0\n",
       "url_processed       0\n",
       "date_processed      0\n",
       "author_processed    0\n",
       "dtype: int64"
      ]
     },
     "execution_count": 125,
     "metadata": {},
     "output_type": "execute_result"
    }
   ],
   "source": [
    "fr.isin([\"NaN\"]).sum() "
   ]
  },
  {
   "cell_type": "code",
   "execution_count": 126,
   "id": "11ee2624",
   "metadata": {},
   "outputs": [
    {
     "data": {
      "text/plain": [
       "1.0    5951\n",
       "0.0    5935\n",
       "Name: rating, dtype: int64"
      ]
     },
     "execution_count": 126,
     "metadata": {},
     "output_type": "execute_result"
    }
   ],
   "source": [
    "fr['rating'].value_counts()"
   ]
  },
  {
   "cell_type": "code",
   "execution_count": 127,
   "id": "7bf34320",
   "metadata": {},
   "outputs": [
    {
     "data": {
      "text/plain": [
       "saúde             4454\n",
       "política          3941\n",
       "entretenimento    1405\n",
       "brasil             904\n",
       "ciência            602\n",
       "mundo              580\n",
       "Name: tag, dtype: int64"
      ]
     },
     "execution_count": 127,
     "metadata": {},
     "output_type": "execute_result"
    }
   ],
   "source": [
    "fr['tag'].value_counts()"
   ]
  },
  {
   "cell_type": "code",
   "execution_count": 128,
   "id": "5cf37fa7",
   "metadata": {},
   "outputs": [],
   "source": [
    "fr = fr.drop(['title', 'text', 'url', 'date', 'author'], axis = 1)"
   ]
  },
  {
   "cell_type": "code",
   "execution_count": 129,
   "id": "23e6a4db",
   "metadata": {},
   "outputs": [
    {
     "data": {
      "text/plain": [
       "Index(['subtitle', 'tag', 'rating', 'title_processed', 'text_processed',\n",
       "       'url_processed', 'date_processed', 'author_processed'],\n",
       "      dtype='object')"
      ]
     },
     "execution_count": 129,
     "metadata": {},
     "output_type": "execute_result"
    }
   ],
   "source": [
    "fr.columns"
   ]
  },
  {
   "cell_type": "code",
   "execution_count": 130,
   "id": "7636b85f",
   "metadata": {},
   "outputs": [],
   "source": [
    "fr.columns = [\"subtitle\", \"tag\", \"rating\", \"title\", \"text\", \"url\", \"date\", \"author\"]"
   ]
  },
  {
   "cell_type": "code",
   "execution_count": 131,
   "id": "b111a27d",
   "metadata": {},
   "outputs": [],
   "source": [
    "fr = fr.reindex(['title', \"subtitle\", \"text\", \"tag\", \"date\", \"author\", \"url\", \"rating\"], axis=1)"
   ]
  },
  {
   "cell_type": "code",
   "execution_count": null,
   "id": "ef218481",
   "metadata": {
    "scrolled": false
   },
   "outputs": [],
   "source": [
    "fr.to_csv(\"fr_cleaned_pro.tsv\")"
   ]
  },
  {
   "cell_type": "markdown",
   "id": "7b0a463e",
   "metadata": {},
   "source": [
    "### Cleaning AFP Checamos\n",
    "- Tokenize and lemmatize data;\n",
    "- Lower characters of Text's every row; #ok\n",
    "- Remove special characters from text; #ok\n",
    "- Remove hour; #ok\n",
    "- Include subtitles column with None; #ok\n",
    "- Convert tags to fr's; #ok\n",
    "- Excract news agency from URL; #ok\n",
    "- Since authors were not provided, call them AFP Brasil; #ok\n",
    "- Convert Ratings into 0 for fake, 1 for real; #ok\n",
    "- Convert date to datetime. #ok"
   ]
  },
  {
   "cell_type": "code",
   "execution_count": 152,
   "id": "58c5d11b",
   "metadata": {},
   "outputs": [],
   "source": [
    "afp = pd.read_csv(\"C:\\\\Users\\\\franc\\\\IH-Lab\\\\BR-FakeNews-Detector\\\\Data\\\\afp.tsv\", sep='\\t').drop([\"Unnamed: 0\", \"hour\"], axis = 1)"
   ]
  },
  {
   "cell_type": "code",
   "execution_count": 153,
   "id": "5745dfc5",
   "metadata": {},
   "outputs": [],
   "source": [
    "afp['subtitle'] = None"
   ]
  },
  {
   "cell_type": "code",
   "execution_count": 154,
   "id": "2c2606f8",
   "metadata": {},
   "outputs": [],
   "source": [
    "afp['url'] = afp['url'].astype(str).apply(clean_website) "
   ]
  },
  {
   "cell_type": "code",
   "execution_count": 155,
   "id": "4c916b01",
   "metadata": {},
   "outputs": [],
   "source": [
    "afp['text'] = afp['text'].astype(str).apply(clean_special_char)"
   ]
  },
  {
   "cell_type": "code",
   "execution_count": 156,
   "id": "bc0d1e21",
   "metadata": {},
   "outputs": [],
   "source": [
    "#Classify according to fr's tags: saúde, política, entretenimento, brasil, ciência, mundo,"
   ]
  },
  {
   "cell_type": "code",
   "execution_count": 157,
   "id": "a112fa83",
   "metadata": {},
   "outputs": [
    {
     "data": {
      "text/plain": [
       "Conflito na Ucrânia     50\n",
       "Nan                     42\n",
       "Eleições 2022           27\n",
       "COVID-19                 9\n",
       "VACINAS                  4\n",
       "Clima                    2\n",
       "Eleições França 2022     1\n",
       "Name: tag, dtype: int64"
      ]
     },
     "execution_count": 157,
     "metadata": {},
     "output_type": "execute_result"
    }
   ],
   "source": [
    "afp['tag'].value_counts()"
   ]
  },
  {
   "cell_type": "code",
   "execution_count": 158,
   "id": "01d37363",
   "metadata": {},
   "outputs": [],
   "source": [
    "def clean_tag(t):\n",
    "    \n",
    "    if t == \"Conflito na Ucrânia\" or t == \"Eleições França 2022\":\n",
    "        t = \"mundo\"\n",
    "    elif t == \"COVID-19\" or t == \"VACINAS\":\n",
    "        t = \"saúde\"\n",
    "    elif t == \"Clima\":\n",
    "        t = \"ciência\"\n",
    "    elif t == \"Eleições 2022\":\n",
    "        t = \"brasil\"\n",
    "    elif t == \"Nan\":\n",
    "        t = \"política\"\n",
    "    else:\n",
    "        pass\n",
    "    \n",
    "    return t"
   ]
  },
  {
   "cell_type": "code",
   "execution_count": 159,
   "id": "233842b9",
   "metadata": {},
   "outputs": [],
   "source": [
    "afp['tag'] = afp['tag'].astype(str).apply(clean_tag)"
   ]
  },
  {
   "cell_type": "code",
   "execution_count": 160,
   "id": "391c3df7",
   "metadata": {},
   "outputs": [],
   "source": [
    "afp['author'] = \"AFP Brasil\""
   ]
  },
  {
   "cell_type": "code",
   "execution_count": 161,
   "id": "02fb2655",
   "metadata": {},
   "outputs": [
    {
     "data": {
      "text/plain": [
       "Falso           83\n",
       "Enganoso        27\n",
       "Sem contexto    11\n",
       "Montagem         9\n",
       "Sem registro     2\n",
       "Sem Registro     1\n",
       "Sem Contexto     1\n",
       "Nan              1\n",
       "Name: rating, dtype: int64"
      ]
     },
     "execution_count": 161,
     "metadata": {},
     "output_type": "execute_result"
    }
   ],
   "source": [
    "afp['rating'].value_counts()"
   ]
  },
  {
   "cell_type": "code",
   "execution_count": 162,
   "id": "423a1ffc",
   "metadata": {},
   "outputs": [],
   "source": [
    "afp['rating']= 0.0"
   ]
  },
  {
   "cell_type": "code",
   "execution_count": 163,
   "id": "10ae4fc2",
   "metadata": {},
   "outputs": [],
   "source": [
    "afp['date'] = pd.to_datetime(afp['date'], errors='coerce').dt.date"
   ]
  },
  {
   "cell_type": "code",
   "execution_count": 164,
   "id": "f40e906e",
   "metadata": {},
   "outputs": [],
   "source": [
    "afp['text'] = afp['text'].apply(str.lower)"
   ]
  },
  {
   "cell_type": "code",
   "execution_count": 165,
   "id": "b82b877c",
   "metadata": {},
   "outputs": [],
   "source": [
    "for column in afp.columns:\n",
    "    afp[column] = np.where(afp[column].isin([\"Nan\"]), None, afp[column])"
   ]
  },
  {
   "cell_type": "code",
   "execution_count": 166,
   "id": "5e0884b2",
   "metadata": {},
   "outputs": [],
   "source": [
    "afp = afp.reindex(['title', \"subtitle\", \"text\", \"tag\", \"date\", \"author\", \"url\", \"rating\"], axis=1)"
   ]
  },
  {
   "cell_type": "markdown",
   "id": "11b163a9",
   "metadata": {},
   "source": [
    "#### Token and lemmatize"
   ]
  },
  {
   "cell_type": "code",
   "execution_count": 1610,
   "id": "37645176",
   "metadata": {},
   "outputs": [
    {
     "data": {
      "text/html": [
       "<div>\n",
       "<style scoped>\n",
       "    .dataframe tbody tr th:only-of-type {\n",
       "        vertical-align: middle;\n",
       "    }\n",
       "\n",
       "    .dataframe tbody tr th {\n",
       "        vertical-align: top;\n",
       "    }\n",
       "\n",
       "    .dataframe thead th {\n",
       "        text-align: right;\n",
       "    }\n",
       "</style>\n",
       "<table border=\"1\" class=\"dataframe\">\n",
       "  <thead>\n",
       "    <tr style=\"text-align: right;\">\n",
       "      <th></th>\n",
       "      <th>title</th>\n",
       "      <th>subtitle</th>\n",
       "      <th>text</th>\n",
       "      <th>tag</th>\n",
       "      <th>date</th>\n",
       "      <th>author</th>\n",
       "      <th>url</th>\n",
       "      <th>rating</th>\n",
       "      <th>text_processed</th>\n",
       "    </tr>\n",
       "  </thead>\n",
       "  <tbody>\n",
       "    <tr>\n",
       "      <th>0</th>\n",
       "      <td>Vídeo em que cantora parece e...</td>\n",
       "      <td>None</td>\n",
       "      <td>um vídeo em que a cantora teresa cristina par...</td>\n",
       "      <td>brasil</td>\n",
       "      <td>2022-05-16</td>\n",
       "      <td>AFP Brasil</td>\n",
       "      <td>checamos.afp.com</td>\n",
       "      <td>0.0</td>\n",
       "      <td>[víd, cantor, teres, cristin, parec, comet, di...</td>\n",
       "    </tr>\n",
       "    <tr>\n",
       "      <th>1</th>\n",
       "      <td>Os 62 °C na Índia foram regis...</td>\n",
       "      <td>None</td>\n",
       "      <td>um mapa da índia foi compartilhado nas redes ...</td>\n",
       "      <td>ciência</td>\n",
       "      <td>2022-05-14</td>\n",
       "      <td>AFP Brasil</td>\n",
       "      <td>checamos.afp.com</td>\n",
       "      <td>0.0</td>\n",
       "      <td>[map, índi, compartilh, red, soc, desd, 29, ab...</td>\n",
       "    </tr>\n",
       "    <tr>\n",
       "      <th>2</th>\n",
       "      <td>Nesta gravação de 2017, Lula ...</td>\n",
       "      <td>None</td>\n",
       "      <td>lula recusa descer do transporte para falar ...</td>\n",
       "      <td>brasil</td>\n",
       "      <td>2022-05-13</td>\n",
       "      <td>AFP Brasil</td>\n",
       "      <td>checamos.afp.com</td>\n",
       "      <td>0.0</td>\n",
       "      <td>[lul, recus, desc, transport, fal, pesso, rua,...</td>\n",
       "    </tr>\n",
       "    <tr>\n",
       "      <th>3</th>\n",
       "      <td>É uma montagem a \"notícia\" qu...</td>\n",
       "      <td>None</td>\n",
       "      <td>a captura de tela de uma suposta notícia publ...</td>\n",
       "      <td>brasil</td>\n",
       "      <td>2022-05-13</td>\n",
       "      <td>AFP Brasil</td>\n",
       "      <td>checamos.afp.com</td>\n",
       "      <td>0.0</td>\n",
       "      <td>[captur, tel, supost, notíc, public, pel, folh...</td>\n",
       "    </tr>\n",
       "    <tr>\n",
       "      <th>4</th>\n",
       "      <td>Tanques em vídeo viral eram l...</td>\n",
       "      <td>None</td>\n",
       "      <td>uma gravação visualizada mais de 68 mil vezes...</td>\n",
       "      <td>mundo</td>\n",
       "      <td>2022-05-13</td>\n",
       "      <td>AFP Brasil</td>\n",
       "      <td>checamos.afp.com</td>\n",
       "      <td>0.0</td>\n",
       "      <td>[gravaçã, visualiz, 68, mil, vez, red, soc, de...</td>\n",
       "    </tr>\n",
       "    <tr>\n",
       "      <th>...</th>\n",
       "      <td>...</td>\n",
       "      <td>...</td>\n",
       "      <td>...</td>\n",
       "      <td>...</td>\n",
       "      <td>...</td>\n",
       "      <td>...</td>\n",
       "      <td>...</td>\n",
       "      <td>...</td>\n",
       "      <td>...</td>\n",
       "    </tr>\n",
       "    <tr>\n",
       "      <th>130</th>\n",
       "      <td>Foto de criança chorando não ...</td>\n",
       "      <td>None</td>\n",
       "      <td>a foto de uma criança chorando em meio a um c...</td>\n",
       "      <td>mundo</td>\n",
       "      <td>2022-01-03</td>\n",
       "      <td>AFP Brasil</td>\n",
       "      <td>checamos.afp.com</td>\n",
       "      <td>0.0</td>\n",
       "      <td>[fot, crianc, chor, cenári, guerr, compartilh,...</td>\n",
       "    </tr>\n",
       "    <tr>\n",
       "      <th>131</th>\n",
       "      <td>A foto do presidente ucranian...</td>\n",
       "      <td>None</td>\n",
       "      <td>uma fotografia do presidente ucraniano  volod...</td>\n",
       "      <td>mundo</td>\n",
       "      <td>2022-02-25</td>\n",
       "      <td>AFP Brasil</td>\n",
       "      <td>checamos.afp.com</td>\n",
       "      <td>0.0</td>\n",
       "      <td>[fotograf, president, ucranian, volodim, zelen...</td>\n",
       "    </tr>\n",
       "    <tr>\n",
       "      <th>132</th>\n",
       "      <td>Vídeo de avião em chamas foi ...</td>\n",
       "      <td>None</td>\n",
       "      <td>a gravação de um avião que irrompe em chamas ...</td>\n",
       "      <td>mundo</td>\n",
       "      <td>2022-02-25</td>\n",
       "      <td>AFP Brasil</td>\n",
       "      <td>checamos.afp.com</td>\n",
       "      <td>0.0</td>\n",
       "      <td>[gravaçã, aviã, irromp, cham, plen, voo, explo...</td>\n",
       "    </tr>\n",
       "    <tr>\n",
       "      <th>133</th>\n",
       "      <td>Vídeo de aviões em formação é...</td>\n",
       "      <td>None</td>\n",
       "      <td>em meio à invasão da rússia à ucrânia em 24 d...</td>\n",
       "      <td>mundo</td>\n",
       "      <td>2022-02-25</td>\n",
       "      <td>AFP Brasil</td>\n",
       "      <td>checamos.afp.com</td>\n",
       "      <td>0.0</td>\n",
       "      <td>[invasã, rúss, ucrân, 24, fevereir, 2022, cent...</td>\n",
       "    </tr>\n",
       "    <tr>\n",
       "      <th>134</th>\n",
       "      <td>Imagem de uma criança síria r...</td>\n",
       "      <td>None</td>\n",
       "      <td>a foto de um menino com a afirmação de que el...</td>\n",
       "      <td>mundo</td>\n",
       "      <td>2022-02-25</td>\n",
       "      <td>AFP Brasil</td>\n",
       "      <td>checamos.afp.com</td>\n",
       "      <td>0.0</td>\n",
       "      <td>[fot, menin, afirm, ucranian, plen, guerr, com...</td>\n",
       "    </tr>\n",
       "  </tbody>\n",
       "</table>\n",
       "<p>135 rows × 9 columns</p>\n",
       "</div>"
      ],
      "text/plain": [
       "                                                 title subtitle  \\\n",
       "0                     Vídeo em que cantora parece e...     None   \n",
       "1                     Os 62 °C na Índia foram regis...     None   \n",
       "2                     Nesta gravação de 2017, Lula ...     None   \n",
       "3                     É uma montagem a \"notícia\" qu...     None   \n",
       "4                     Tanques em vídeo viral eram l...     None   \n",
       "..                                                 ...      ...   \n",
       "130                   Foto de criança chorando não ...     None   \n",
       "131                   A foto do presidente ucranian...     None   \n",
       "132                   Vídeo de avião em chamas foi ...     None   \n",
       "133                   Vídeo de aviões em formação é...     None   \n",
       "134                   Imagem de uma criança síria r...     None   \n",
       "\n",
       "                                                  text      tag        date  \\\n",
       "0     um vídeo em que a cantora teresa cristina par...   brasil  2022-05-16   \n",
       "1     um mapa da índia foi compartilhado nas redes ...  ciência  2022-05-14   \n",
       "2      lula recusa descer do transporte para falar ...   brasil  2022-05-13   \n",
       "3     a captura de tela de uma suposta notícia publ...   brasil  2022-05-13   \n",
       "4     uma gravação visualizada mais de 68 mil vezes...    mundo  2022-05-13   \n",
       "..                                                 ...      ...         ...   \n",
       "130   a foto de uma criança chorando em meio a um c...    mundo  2022-01-03   \n",
       "131   uma fotografia do presidente ucraniano  volod...    mundo  2022-02-25   \n",
       "132   a gravação de um avião que irrompe em chamas ...    mundo  2022-02-25   \n",
       "133   em meio à invasão da rússia à ucrânia em 24 d...    mundo  2022-02-25   \n",
       "134   a foto de um menino com a afirmação de que el...    mundo  2022-02-25   \n",
       "\n",
       "         author               url rating  \\\n",
       "0    AFP Brasil  checamos.afp.com    0.0   \n",
       "1    AFP Brasil  checamos.afp.com    0.0   \n",
       "2    AFP Brasil  checamos.afp.com    0.0   \n",
       "3    AFP Brasil  checamos.afp.com    0.0   \n",
       "4    AFP Brasil  checamos.afp.com    0.0   \n",
       "..          ...               ...    ...   \n",
       "130  AFP Brasil  checamos.afp.com    0.0   \n",
       "131  AFP Brasil  checamos.afp.com    0.0   \n",
       "132  AFP Brasil  checamos.afp.com    0.0   \n",
       "133  AFP Brasil  checamos.afp.com    0.0   \n",
       "134  AFP Brasil  checamos.afp.com    0.0   \n",
       "\n",
       "                                        text_processed  \n",
       "0    [víd, cantor, teres, cristin, parec, comet, di...  \n",
       "1    [map, índi, compartilh, red, soc, desd, 29, ab...  \n",
       "2    [lul, recus, desc, transport, fal, pesso, rua,...  \n",
       "3    [captur, tel, supost, notíc, public, pel, folh...  \n",
       "4    [gravaçã, visualiz, 68, mil, vez, red, soc, de...  \n",
       "..                                                 ...  \n",
       "130  [fot, crianc, chor, cenári, guerr, compartilh,...  \n",
       "131  [fotograf, president, ucranian, volodim, zelen...  \n",
       "132  [gravaçã, aviã, irromp, cham, plen, voo, explo...  \n",
       "133  [invasã, rúss, ucrân, 24, fevereir, 2022, cent...  \n",
       "134  [fot, menin, afirm, ucranian, plen, guerr, com...  \n",
       "\n",
       "[135 rows x 9 columns]"
      ]
     },
     "execution_count": 1610,
     "metadata": {},
     "output_type": "execute_result"
    }
   ],
   "source": [
    "afp"
   ]
  },
  {
   "cell_type": "code",
   "execution_count": 167,
   "id": "6a477991",
   "metadata": {},
   "outputs": [],
   "source": [
    "afp.to_csv(\"afp_cleaned_pro.tsv\")"
   ]
  },
  {
   "cell_type": "markdown",
   "id": "efba6c1c",
   "metadata": {},
   "source": [
    "### Cleaning AosFatos:\n",
    "- Tokenize and lemmatize data;\n",
    "- Remove special characters; #ok\n",
    "- Lower characters of Text's every row; #ok\n",
    "- Remove hour; #ok\n",
    "- Include subtitles column with None; #ok\n",
    "- Excract news agency from URL; #ok\n",
    "- Convert Ratings into 0 for fake, 1 for real; #ok\n",
    "- Convert date to datetime. #ok"
   ]
  },
  {
   "cell_type": "code",
   "execution_count": 168,
   "id": "6f6ed7d8",
   "metadata": {},
   "outputs": [],
   "source": [
    "aosfatos = pd.read_csv(\"C:\\\\Users\\\\franc\\\\IH-Lab\\\\BR-FakeNews-Detector\\\\Data\\\\aosfatos.tsv\", sep='\\t').drop([\"Unnamed: 0\", \"hour\"], axis = 1)"
   ]
  },
  {
   "cell_type": "code",
   "execution_count": 169,
   "id": "b45bf6fd",
   "metadata": {},
   "outputs": [
    {
     "data": {
      "text/html": [
       "<div>\n",
       "<style scoped>\n",
       "    .dataframe tbody tr th:only-of-type {\n",
       "        vertical-align: middle;\n",
       "    }\n",
       "\n",
       "    .dataframe tbody tr th {\n",
       "        vertical-align: top;\n",
       "    }\n",
       "\n",
       "    .dataframe thead th {\n",
       "        text-align: right;\n",
       "    }\n",
       "</style>\n",
       "<table border=\"1\" class=\"dataframe\">\n",
       "  <thead>\n",
       "    <tr style=\"text-align: right;\">\n",
       "      <th></th>\n",
       "      <th>url</th>\n",
       "      <th>title</th>\n",
       "      <th>author</th>\n",
       "      <th>date</th>\n",
       "      <th>text</th>\n",
       "      <th>rating</th>\n",
       "    </tr>\n",
       "  </thead>\n",
       "  <tbody>\n",
       "    <tr>\n",
       "      <th>0</th>\n",
       "      <td>https://www.aosfatos.org//noticias/video-mar-a...</td>\n",
       "      <td>Vídeo em que mar invade avenida no Rio de Jane...</td>\n",
       "      <td>Priscila Pacheco</td>\n",
       "      <td>2022-05-23</td>\n",
       "      <td>Não foi gravado recentemente um vídeo que most...</td>\n",
       "      <td>distorcido</td>\n",
       "    </tr>\n",
       "    <tr>\n",
       "      <th>1</th>\n",
       "      <td>https://www.aosfatos.org//noticias/aviao-lula-xp/</td>\n",
       "      <td>Avião usado por Lula em 2019 não pertencia à X...</td>\n",
       "      <td>Priscila Pacheco</td>\n",
       "      <td>2022-05-23</td>\n",
       "      <td>É falso que a XP Investimentos emprestou um av...</td>\n",
       "      <td>falso</td>\n",
       "    </tr>\n",
       "    <tr>\n",
       "      <th>2</th>\n",
       "      <td>https://www.aosfatos.org//noticias/lula-capa-f...</td>\n",
       "      <td>Lula não apareceu em capa da ‘Forbes’ como uma...</td>\n",
       "      <td>Marco Faustino</td>\n",
       "      <td>2022-05-20</td>\n",
       "      <td>É falso que uma capa da revista Forbes indica ...</td>\n",
       "      <td>falso</td>\n",
       "    </tr>\n",
       "    <tr>\n",
       "      <th>3</th>\n",
       "      <td>https://www.aosfatos.org//noticias/eduardo-cam...</td>\n",
       "      <td>É falso que Eduardo Campos liderava pesquisas ...</td>\n",
       "      <td>Priscila Pacheco</td>\n",
       "      <td>2022-05-20</td>\n",
       "      <td>O ex-governador de Pernambuco Eduardo Campos (...</td>\n",
       "      <td>falso</td>\n",
       "    </tr>\n",
       "    <tr>\n",
       "      <th>4</th>\n",
       "      <td>https://www.aosfatos.org//noticias/curitiba-gr...</td>\n",
       "      <td>Vídeo mostra via em Curitiba coberta de graniz...</td>\n",
       "      <td>Marco Faustino</td>\n",
       "      <td>2022-05-19</td>\n",
       "      <td>Um vídeo que mostra uma via coberta de gelo em...</td>\n",
       "      <td>falso</td>\n",
       "    </tr>\n",
       "    <tr>\n",
       "      <th>...</th>\n",
       "      <td>...</td>\n",
       "      <td>...</td>\n",
       "      <td>...</td>\n",
       "      <td>...</td>\n",
       "      <td>...</td>\n",
       "      <td>...</td>\n",
       "    </tr>\n",
       "    <tr>\n",
       "      <th>235</th>\n",
       "      <td>https://www.aosfatos.org//noticias/e-falso-que...</td>\n",
       "      <td>É falso que Estados Unidos baniram testes RT-P...</td>\n",
       "      <td>Marco Faustino</td>\n",
       "      <td>2022-01-06</td>\n",
       "      <td>Não é verdade que os Estados Unidos baniram os...</td>\n",
       "      <td>falso</td>\n",
       "    </tr>\n",
       "    <tr>\n",
       "      <th>236</th>\n",
       "      <td>https://www.aosfatos.org//noticias/e-falso-que...</td>\n",
       "      <td>É falso que vídeo mostre que barragem tem risc...</td>\n",
       "      <td>Priscila Pacheco</td>\n",
       "      <td>2022-01-05</td>\n",
       "      <td>Não é verdade que vídeo compartilhado nas rede...</td>\n",
       "      <td>falso</td>\n",
       "    </tr>\n",
       "    <tr>\n",
       "      <th>237</th>\n",
       "      <td>https://www.aosfatos.org//noticias/nao-e-verda...</td>\n",
       "      <td>Não é verdade que Ivete Sangalo anunciou que d...</td>\n",
       "      <td>Marco Faustino</td>\n",
       "      <td>2022-01-05</td>\n",
       "      <td>É falso que a cantora Ivete Sangalo anunciou q...</td>\n",
       "      <td>falso</td>\n",
       "    </tr>\n",
       "    <tr>\n",
       "      <th>238</th>\n",
       "      <td>https://www.aosfatos.org//noticias/video-que-m...</td>\n",
       "      <td>Vídeo que mostra protesto contra Lula não é re...</td>\n",
       "      <td>Marco Faustino</td>\n",
       "      <td>2022-01-04</td>\n",
       "      <td>Não é recente nem foi gravado no Recife (PE) o...</td>\n",
       "      <td>falso</td>\n",
       "    </tr>\n",
       "    <tr>\n",
       "      <th>239</th>\n",
       "      <td>https://www.aosfatos.org//noticias/e-falso-que...</td>\n",
       "      <td>É falso que TV Senado censurou vídeo em que du...</td>\n",
       "      <td>Priscila Pacheco</td>\n",
       "      <td>2022-01-04</td>\n",
       "      <td>Não é verdade que a TV Senado censurou um víde...</td>\n",
       "      <td>falso</td>\n",
       "    </tr>\n",
       "  </tbody>\n",
       "</table>\n",
       "<p>240 rows × 6 columns</p>\n",
       "</div>"
      ],
      "text/plain": [
       "                                                   url  \\\n",
       "0    https://www.aosfatos.org//noticias/video-mar-a...   \n",
       "1    https://www.aosfatos.org//noticias/aviao-lula-xp/   \n",
       "2    https://www.aosfatos.org//noticias/lula-capa-f...   \n",
       "3    https://www.aosfatos.org//noticias/eduardo-cam...   \n",
       "4    https://www.aosfatos.org//noticias/curitiba-gr...   \n",
       "..                                                 ...   \n",
       "235  https://www.aosfatos.org//noticias/e-falso-que...   \n",
       "236  https://www.aosfatos.org//noticias/e-falso-que...   \n",
       "237  https://www.aosfatos.org//noticias/nao-e-verda...   \n",
       "238  https://www.aosfatos.org//noticias/video-que-m...   \n",
       "239  https://www.aosfatos.org//noticias/e-falso-que...   \n",
       "\n",
       "                                                 title            author  \\\n",
       "0    Vídeo em que mar invade avenida no Rio de Jane...  Priscila Pacheco   \n",
       "1    Avião usado por Lula em 2019 não pertencia à X...  Priscila Pacheco   \n",
       "2    Lula não apareceu em capa da ‘Forbes’ como uma...    Marco Faustino   \n",
       "3    É falso que Eduardo Campos liderava pesquisas ...  Priscila Pacheco   \n",
       "4    Vídeo mostra via em Curitiba coberta de graniz...    Marco Faustino   \n",
       "..                                                 ...               ...   \n",
       "235  É falso que Estados Unidos baniram testes RT-P...    Marco Faustino   \n",
       "236  É falso que vídeo mostre que barragem tem risc...  Priscila Pacheco   \n",
       "237  Não é verdade que Ivete Sangalo anunciou que d...    Marco Faustino   \n",
       "238  Vídeo que mostra protesto contra Lula não é re...    Marco Faustino   \n",
       "239  É falso que TV Senado censurou vídeo em que du...  Priscila Pacheco   \n",
       "\n",
       "           date                                               text      rating  \n",
       "0    2022-05-23  Não foi gravado recentemente um vídeo que most...  distorcido  \n",
       "1    2022-05-23  É falso que a XP Investimentos emprestou um av...       falso  \n",
       "2    2022-05-20  É falso que uma capa da revista Forbes indica ...       falso  \n",
       "3    2022-05-20  O ex-governador de Pernambuco Eduardo Campos (...       falso  \n",
       "4    2022-05-19  Um vídeo que mostra uma via coberta de gelo em...       falso  \n",
       "..          ...                                                ...         ...  \n",
       "235  2022-01-06  Não é verdade que os Estados Unidos baniram os...       falso  \n",
       "236  2022-01-05  Não é verdade que vídeo compartilhado nas rede...       falso  \n",
       "237  2022-01-05  É falso que a cantora Ivete Sangalo anunciou q...       falso  \n",
       "238  2022-01-04  Não é recente nem foi gravado no Recife (PE) o...       falso  \n",
       "239  2022-01-04  Não é verdade que a TV Senado censurou um víde...       falso  \n",
       "\n",
       "[240 rows x 6 columns]"
      ]
     },
     "execution_count": 169,
     "metadata": {},
     "output_type": "execute_result"
    }
   ],
   "source": [
    "aosfatos"
   ]
  },
  {
   "cell_type": "code",
   "execution_count": 170,
   "id": "6191aab7",
   "metadata": {},
   "outputs": [],
   "source": [
    "aosfatos['url'] = aosfatos['url'].astype(str).apply(clean_website)"
   ]
  },
  {
   "cell_type": "code",
   "execution_count": 171,
   "id": "0f575aa5",
   "metadata": {},
   "outputs": [],
   "source": [
    "aosfatos['text'] = aosfatos['text'].astype(str).apply(clean_special_char)"
   ]
  },
  {
   "cell_type": "code",
   "execution_count": 172,
   "id": "37a0fdcd",
   "metadata": {},
   "outputs": [],
   "source": [
    "aosfatos['title'] = aosfatos['title'].astype(str).apply(clean_special_char)"
   ]
  },
  {
   "cell_type": "code",
   "execution_count": 173,
   "id": "c46f38e4",
   "metadata": {},
   "outputs": [
    {
     "data": {
      "text/plain": [
       "falso         207\n",
       "distorcido     33\n",
       "Name: rating, dtype: int64"
      ]
     },
     "execution_count": 173,
     "metadata": {},
     "output_type": "execute_result"
    }
   ],
   "source": [
    "aosfatos['rating'].value_counts()"
   ]
  },
  {
   "cell_type": "code",
   "execution_count": 174,
   "id": "3d25b21e",
   "metadata": {},
   "outputs": [],
   "source": [
    "aosfatos['rating'] = 0.0"
   ]
  },
  {
   "cell_type": "code",
   "execution_count": 175,
   "id": "7eb1d4c5",
   "metadata": {},
   "outputs": [],
   "source": [
    "aosfatos['subtitle'] = None"
   ]
  },
  {
   "cell_type": "code",
   "execution_count": 176,
   "id": "3bfb86b1",
   "metadata": {},
   "outputs": [],
   "source": [
    "aosfatos['date'] = pd.to_datetime(aosfatos['date'], errors='coerce').dt.date"
   ]
  },
  {
   "cell_type": "code",
   "execution_count": 177,
   "id": "34ee9acb",
   "metadata": {},
   "outputs": [],
   "source": [
    "for column in aosfatos.columns:\n",
    "    aosfatos[column] = np.where(aosfatos[column].isin([\"Nan\"]), None, aosfatos[column])"
   ]
  },
  {
   "cell_type": "code",
   "execution_count": 178,
   "id": "f5bc316d",
   "metadata": {},
   "outputs": [],
   "source": [
    "aosfatos['text'] = aosfatos['text'].apply(str.lower)"
   ]
  },
  {
   "cell_type": "code",
   "execution_count": 179,
   "id": "5d13f9ad",
   "metadata": {},
   "outputs": [
    {
     "data": {
      "text/html": [
       "<div>\n",
       "<style scoped>\n",
       "    .dataframe tbody tr th:only-of-type {\n",
       "        vertical-align: middle;\n",
       "    }\n",
       "\n",
       "    .dataframe tbody tr th {\n",
       "        vertical-align: top;\n",
       "    }\n",
       "\n",
       "    .dataframe thead th {\n",
       "        text-align: right;\n",
       "    }\n",
       "</style>\n",
       "<table border=\"1\" class=\"dataframe\">\n",
       "  <thead>\n",
       "    <tr style=\"text-align: right;\">\n",
       "      <th></th>\n",
       "      <th>url</th>\n",
       "      <th>title</th>\n",
       "      <th>author</th>\n",
       "      <th>date</th>\n",
       "      <th>text</th>\n",
       "      <th>rating</th>\n",
       "      <th>subtitle</th>\n",
       "    </tr>\n",
       "  </thead>\n",
       "  <tbody>\n",
       "    <tr>\n",
       "      <th>0</th>\n",
       "      <td>aosfatos.org</td>\n",
       "      <td>Vídeo em que mar invade avenida no Rio de Jane...</td>\n",
       "      <td>Priscila Pacheco</td>\n",
       "      <td>2022-05-23</td>\n",
       "      <td>não foi gravado recentemente um vídeo que most...</td>\n",
       "      <td>0.0</td>\n",
       "      <td>None</td>\n",
       "    </tr>\n",
       "    <tr>\n",
       "      <th>1</th>\n",
       "      <td>aosfatos.org</td>\n",
       "      <td>Avião usado por Lula em 2019 não pertencia à X...</td>\n",
       "      <td>Priscila Pacheco</td>\n",
       "      <td>2022-05-23</td>\n",
       "      <td>é falso que a xp investimentos emprestou um av...</td>\n",
       "      <td>0.0</td>\n",
       "      <td>None</td>\n",
       "    </tr>\n",
       "    <tr>\n",
       "      <th>2</th>\n",
       "      <td>aosfatos.org</td>\n",
       "      <td>Lula não apareceu em capa da  Forbes  como uma...</td>\n",
       "      <td>Marco Faustino</td>\n",
       "      <td>2022-05-20</td>\n",
       "      <td>é falso que uma capa da revista forbes indica ...</td>\n",
       "      <td>0.0</td>\n",
       "      <td>None</td>\n",
       "    </tr>\n",
       "    <tr>\n",
       "      <th>3</th>\n",
       "      <td>aosfatos.org</td>\n",
       "      <td>É falso que Eduardo Campos liderava pesquisas ...</td>\n",
       "      <td>Priscila Pacheco</td>\n",
       "      <td>2022-05-20</td>\n",
       "      <td>o ex governador de pernambuco eduardo campos  ...</td>\n",
       "      <td>0.0</td>\n",
       "      <td>None</td>\n",
       "    </tr>\n",
       "    <tr>\n",
       "      <th>4</th>\n",
       "      <td>aosfatos.org</td>\n",
       "      <td>Vídeo mostra via em Curitiba coberta de graniz...</td>\n",
       "      <td>Marco Faustino</td>\n",
       "      <td>2022-05-19</td>\n",
       "      <td>um vídeo que mostra uma via coberta de gelo em...</td>\n",
       "      <td>0.0</td>\n",
       "      <td>None</td>\n",
       "    </tr>\n",
       "    <tr>\n",
       "      <th>...</th>\n",
       "      <td>...</td>\n",
       "      <td>...</td>\n",
       "      <td>...</td>\n",
       "      <td>...</td>\n",
       "      <td>...</td>\n",
       "      <td>...</td>\n",
       "      <td>...</td>\n",
       "    </tr>\n",
       "    <tr>\n",
       "      <th>235</th>\n",
       "      <td>aosfatos.org</td>\n",
       "      <td>É falso que Estados Unidos baniram testes RT P...</td>\n",
       "      <td>Marco Faustino</td>\n",
       "      <td>2022-01-06</td>\n",
       "      <td>não é verdade que os estados unidos baniram os...</td>\n",
       "      <td>0.0</td>\n",
       "      <td>None</td>\n",
       "    </tr>\n",
       "    <tr>\n",
       "      <th>236</th>\n",
       "      <td>aosfatos.org</td>\n",
       "      <td>É falso que vídeo mostre que barragem tem risc...</td>\n",
       "      <td>Priscila Pacheco</td>\n",
       "      <td>2022-01-05</td>\n",
       "      <td>não é verdade que vídeo compartilhado nas rede...</td>\n",
       "      <td>0.0</td>\n",
       "      <td>None</td>\n",
       "    </tr>\n",
       "    <tr>\n",
       "      <th>237</th>\n",
       "      <td>aosfatos.org</td>\n",
       "      <td>Não é verdade que Ivete Sangalo anunciou que d...</td>\n",
       "      <td>Marco Faustino</td>\n",
       "      <td>2022-01-05</td>\n",
       "      <td>é falso que a cantora ivete sangalo anunciou q...</td>\n",
       "      <td>0.0</td>\n",
       "      <td>None</td>\n",
       "    </tr>\n",
       "    <tr>\n",
       "      <th>238</th>\n",
       "      <td>aosfatos.org</td>\n",
       "      <td>Vídeo que mostra protesto contra Lula não é re...</td>\n",
       "      <td>Marco Faustino</td>\n",
       "      <td>2022-01-04</td>\n",
       "      <td>não é recente nem foi gravado no recife  pe  o...</td>\n",
       "      <td>0.0</td>\n",
       "      <td>None</td>\n",
       "    </tr>\n",
       "    <tr>\n",
       "      <th>239</th>\n",
       "      <td>aosfatos.org</td>\n",
       "      <td>É falso que TV Senado censurou vídeo em que du...</td>\n",
       "      <td>Priscila Pacheco</td>\n",
       "      <td>2022-01-04</td>\n",
       "      <td>não é verdade que a tv senado censurou um víde...</td>\n",
       "      <td>0.0</td>\n",
       "      <td>None</td>\n",
       "    </tr>\n",
       "  </tbody>\n",
       "</table>\n",
       "<p>240 rows × 7 columns</p>\n",
       "</div>"
      ],
      "text/plain": [
       "              url                                              title  \\\n",
       "0    aosfatos.org  Vídeo em que mar invade avenida no Rio de Jane...   \n",
       "1    aosfatos.org  Avião usado por Lula em 2019 não pertencia à X...   \n",
       "2    aosfatos.org  Lula não apareceu em capa da  Forbes  como uma...   \n",
       "3    aosfatos.org  É falso que Eduardo Campos liderava pesquisas ...   \n",
       "4    aosfatos.org  Vídeo mostra via em Curitiba coberta de graniz...   \n",
       "..            ...                                                ...   \n",
       "235  aosfatos.org  É falso que Estados Unidos baniram testes RT P...   \n",
       "236  aosfatos.org  É falso que vídeo mostre que barragem tem risc...   \n",
       "237  aosfatos.org  Não é verdade que Ivete Sangalo anunciou que d...   \n",
       "238  aosfatos.org  Vídeo que mostra protesto contra Lula não é re...   \n",
       "239  aosfatos.org  É falso que TV Senado censurou vídeo em que du...   \n",
       "\n",
       "               author        date  \\\n",
       "0    Priscila Pacheco  2022-05-23   \n",
       "1    Priscila Pacheco  2022-05-23   \n",
       "2      Marco Faustino  2022-05-20   \n",
       "3    Priscila Pacheco  2022-05-20   \n",
       "4      Marco Faustino  2022-05-19   \n",
       "..                ...         ...   \n",
       "235    Marco Faustino  2022-01-06   \n",
       "236  Priscila Pacheco  2022-01-05   \n",
       "237    Marco Faustino  2022-01-05   \n",
       "238    Marco Faustino  2022-01-04   \n",
       "239  Priscila Pacheco  2022-01-04   \n",
       "\n",
       "                                                  text rating subtitle  \n",
       "0    não foi gravado recentemente um vídeo que most...    0.0     None  \n",
       "1    é falso que a xp investimentos emprestou um av...    0.0     None  \n",
       "2    é falso que uma capa da revista forbes indica ...    0.0     None  \n",
       "3    o ex governador de pernambuco eduardo campos  ...    0.0     None  \n",
       "4    um vídeo que mostra uma via coberta de gelo em...    0.0     None  \n",
       "..                                                 ...    ...      ...  \n",
       "235  não é verdade que os estados unidos baniram os...    0.0     None  \n",
       "236  não é verdade que vídeo compartilhado nas rede...    0.0     None  \n",
       "237  é falso que a cantora ivete sangalo anunciou q...    0.0     None  \n",
       "238  não é recente nem foi gravado no recife  pe  o...    0.0     None  \n",
       "239  não é verdade que a tv senado censurou um víde...    0.0     None  \n",
       "\n",
       "[240 rows x 7 columns]"
      ]
     },
     "execution_count": 179,
     "metadata": {},
     "output_type": "execute_result"
    }
   ],
   "source": [
    "aosfatos"
   ]
  },
  {
   "cell_type": "code",
   "execution_count": 180,
   "id": "09aaa2b5",
   "metadata": {},
   "outputs": [],
   "source": [
    "aosfatos = aosfatos.reindex(['title', \"subtitle\", \"text\", \"tag\", \"date\", \"author\", \"url\", \"rating\"], axis=1)"
   ]
  },
  {
   "cell_type": "code",
   "execution_count": 181,
   "id": "03f50b58",
   "metadata": {},
   "outputs": [],
   "source": [
    "aosfatos['tag'] = None"
   ]
  },
  {
   "cell_type": "code",
   "execution_count": 1806,
   "id": "ae75f8d9",
   "metadata": {},
   "outputs": [
    {
     "data": {
      "text/html": [
       "<div>\n",
       "<style scoped>\n",
       "    .dataframe tbody tr th:only-of-type {\n",
       "        vertical-align: middle;\n",
       "    }\n",
       "\n",
       "    .dataframe tbody tr th {\n",
       "        vertical-align: top;\n",
       "    }\n",
       "\n",
       "    .dataframe thead th {\n",
       "        text-align: right;\n",
       "    }\n",
       "</style>\n",
       "<table border=\"1\" class=\"dataframe\">\n",
       "  <thead>\n",
       "    <tr style=\"text-align: right;\">\n",
       "      <th></th>\n",
       "      <th>title</th>\n",
       "      <th>subtitle</th>\n",
       "      <th>text</th>\n",
       "      <th>tag</th>\n",
       "      <th>date</th>\n",
       "      <th>author</th>\n",
       "      <th>url</th>\n",
       "      <th>rating</th>\n",
       "      <th>text_processed</th>\n",
       "    </tr>\n",
       "  </thead>\n",
       "  <tbody>\n",
       "    <tr>\n",
       "      <th>0</th>\n",
       "      <td>Vídeo em que mar invade avenida no Rio de Jane...</td>\n",
       "      <td>None</td>\n",
       "      <td>não foi gravado recentemente um vídeo que most...</td>\n",
       "      <td>None</td>\n",
       "      <td>2022-05-23</td>\n",
       "      <td>Priscila Pacheco</td>\n",
       "      <td>aosfatos.org</td>\n",
       "      <td>0.0</td>\n",
       "      <td>[nã, grav, recent, víd, mostr, invad, aven, le...</td>\n",
       "    </tr>\n",
       "    <tr>\n",
       "      <th>1</th>\n",
       "      <td>Avião usado por Lula em 2019 não pertencia à X...</td>\n",
       "      <td>None</td>\n",
       "      <td>é falso que a xp investimentos emprestou um av...</td>\n",
       "      <td>None</td>\n",
       "      <td>2022-05-23</td>\n",
       "      <td>Priscila Pacheco</td>\n",
       "      <td>aosfatos.org</td>\n",
       "      <td>0.0</td>\n",
       "      <td>[fals, xp, invest, emprest, aviã, jat, ex, pre...</td>\n",
       "    </tr>\n",
       "    <tr>\n",
       "      <th>2</th>\n",
       "      <td>Lula não apareceu em capa da  Forbes  como uma...</td>\n",
       "      <td>None</td>\n",
       "      <td>é falso que uma capa da revista forbes indica ...</td>\n",
       "      <td>None</td>\n",
       "      <td>2022-05-20</td>\n",
       "      <td>Marco Faustino</td>\n",
       "      <td>aosfatos.org</td>\n",
       "      <td>0.0</td>\n",
       "      <td>[fals, cap, revist, forb, indic, ex, president...</td>\n",
       "    </tr>\n",
       "    <tr>\n",
       "      <th>3</th>\n",
       "      <td>É falso que Eduardo Campos liderava pesquisas ...</td>\n",
       "      <td>None</td>\n",
       "      <td>o ex governador de pernambuco eduardo campos  ...</td>\n",
       "      <td>None</td>\n",
       "      <td>2022-05-20</td>\n",
       "      <td>Priscila Pacheco</td>\n",
       "      <td>aosfatos.org</td>\n",
       "      <td>0.0</td>\n",
       "      <td>[ex, govern, pernambuc, eduard, camp, 1965, 20...</td>\n",
       "    </tr>\n",
       "    <tr>\n",
       "      <th>4</th>\n",
       "      <td>Vídeo mostra via em Curitiba coberta de graniz...</td>\n",
       "      <td>None</td>\n",
       "      <td>um vídeo que mostra uma via coberta de gelo em...</td>\n",
       "      <td>None</td>\n",
       "      <td>2022-05-19</td>\n",
       "      <td>Marco Faustino</td>\n",
       "      <td>aosfatos.org</td>\n",
       "      <td>0.0</td>\n",
       "      <td>[víd, mostr, via, cobert, gel, curitib, pr, nã...</td>\n",
       "    </tr>\n",
       "    <tr>\n",
       "      <th>...</th>\n",
       "      <td>...</td>\n",
       "      <td>...</td>\n",
       "      <td>...</td>\n",
       "      <td>...</td>\n",
       "      <td>...</td>\n",
       "      <td>...</td>\n",
       "      <td>...</td>\n",
       "      <td>...</td>\n",
       "      <td>...</td>\n",
       "    </tr>\n",
       "    <tr>\n",
       "      <th>235</th>\n",
       "      <td>É falso que Estados Unidos baniram testes RT P...</td>\n",
       "      <td>None</td>\n",
       "      <td>não é verdade que os estados unidos baniram os...</td>\n",
       "      <td>None</td>\n",
       "      <td>2022-01-06</td>\n",
       "      <td>Marco Faustino</td>\n",
       "      <td>aosfatos.org</td>\n",
       "      <td>0.0</td>\n",
       "      <td>[nã, verdad, unid, ban, test, usam, métod, rt,...</td>\n",
       "    </tr>\n",
       "    <tr>\n",
       "      <th>236</th>\n",
       "      <td>É falso que vídeo mostre que barragem tem risc...</td>\n",
       "      <td>None</td>\n",
       "      <td>não é verdade que vídeo compartilhado nas rede...</td>\n",
       "      <td>None</td>\n",
       "      <td>2022-01-05</td>\n",
       "      <td>Priscila Pacheco</td>\n",
       "      <td>aosfatos.org</td>\n",
       "      <td>0.0</td>\n",
       "      <td>[nã, verdad, víd, compartilh, red, soc, vej, a...</td>\n",
       "    </tr>\n",
       "    <tr>\n",
       "      <th>237</th>\n",
       "      <td>Não é verdade que Ivete Sangalo anunciou que d...</td>\n",
       "      <td>None</td>\n",
       "      <td>é falso que a cantora ivete sangalo anunciou q...</td>\n",
       "      <td>None</td>\n",
       "      <td>2022-01-05</td>\n",
       "      <td>Marco Faustino</td>\n",
       "      <td>aosfatos.org</td>\n",
       "      <td>0.0</td>\n",
       "      <td>[fals, cantor, ivet, sangal, anunc, deix, bras...</td>\n",
       "    </tr>\n",
       "    <tr>\n",
       "      <th>238</th>\n",
       "      <td>Vídeo que mostra protesto contra Lula não é re...</td>\n",
       "      <td>None</td>\n",
       "      <td>não é recente nem foi gravado no recife  pe  o...</td>\n",
       "      <td>None</td>\n",
       "      <td>2022-01-04</td>\n",
       "      <td>Marco Faustino</td>\n",
       "      <td>aosfatos.org</td>\n",
       "      <td>0.0</td>\n",
       "      <td>[nã, recent, grav, recif, víd, mostr, protest,...</td>\n",
       "    </tr>\n",
       "    <tr>\n",
       "      <th>239</th>\n",
       "      <td>É falso que TV Senado censurou vídeo em que du...</td>\n",
       "      <td>None</td>\n",
       "      <td>não é verdade que a tv senado censurou um víde...</td>\n",
       "      <td>None</td>\n",
       "      <td>2022-01-04</td>\n",
       "      <td>Priscila Pacheco</td>\n",
       "      <td>aosfatos.org</td>\n",
       "      <td>0.0</td>\n",
       "      <td>[nã, verdad, tv, censur, víd, dupl, sertanej, ...</td>\n",
       "    </tr>\n",
       "  </tbody>\n",
       "</table>\n",
       "<p>240 rows × 9 columns</p>\n",
       "</div>"
      ],
      "text/plain": [
       "                                                 title subtitle  \\\n",
       "0    Vídeo em que mar invade avenida no Rio de Jane...     None   \n",
       "1    Avião usado por Lula em 2019 não pertencia à X...     None   \n",
       "2    Lula não apareceu em capa da  Forbes  como uma...     None   \n",
       "3    É falso que Eduardo Campos liderava pesquisas ...     None   \n",
       "4    Vídeo mostra via em Curitiba coberta de graniz...     None   \n",
       "..                                                 ...      ...   \n",
       "235  É falso que Estados Unidos baniram testes RT P...     None   \n",
       "236  É falso que vídeo mostre que barragem tem risc...     None   \n",
       "237  Não é verdade que Ivete Sangalo anunciou que d...     None   \n",
       "238  Vídeo que mostra protesto contra Lula não é re...     None   \n",
       "239  É falso que TV Senado censurou vídeo em que du...     None   \n",
       "\n",
       "                                                  text   tag        date  \\\n",
       "0    não foi gravado recentemente um vídeo que most...  None  2022-05-23   \n",
       "1    é falso que a xp investimentos emprestou um av...  None  2022-05-23   \n",
       "2    é falso que uma capa da revista forbes indica ...  None  2022-05-20   \n",
       "3    o ex governador de pernambuco eduardo campos  ...  None  2022-05-20   \n",
       "4    um vídeo que mostra uma via coberta de gelo em...  None  2022-05-19   \n",
       "..                                                 ...   ...         ...   \n",
       "235  não é verdade que os estados unidos baniram os...  None  2022-01-06   \n",
       "236  não é verdade que vídeo compartilhado nas rede...  None  2022-01-05   \n",
       "237  é falso que a cantora ivete sangalo anunciou q...  None  2022-01-05   \n",
       "238  não é recente nem foi gravado no recife  pe  o...  None  2022-01-04   \n",
       "239  não é verdade que a tv senado censurou um víde...  None  2022-01-04   \n",
       "\n",
       "               author           url rating  \\\n",
       "0    Priscila Pacheco  aosfatos.org    0.0   \n",
       "1    Priscila Pacheco  aosfatos.org    0.0   \n",
       "2      Marco Faustino  aosfatos.org    0.0   \n",
       "3    Priscila Pacheco  aosfatos.org    0.0   \n",
       "4      Marco Faustino  aosfatos.org    0.0   \n",
       "..                ...           ...    ...   \n",
       "235    Marco Faustino  aosfatos.org    0.0   \n",
       "236  Priscila Pacheco  aosfatos.org    0.0   \n",
       "237    Marco Faustino  aosfatos.org    0.0   \n",
       "238    Marco Faustino  aosfatos.org    0.0   \n",
       "239  Priscila Pacheco  aosfatos.org    0.0   \n",
       "\n",
       "                                        text_processed  \n",
       "0    [nã, grav, recent, víd, mostr, invad, aven, le...  \n",
       "1    [fals, xp, invest, emprest, aviã, jat, ex, pre...  \n",
       "2    [fals, cap, revist, forb, indic, ex, president...  \n",
       "3    [ex, govern, pernambuc, eduard, camp, 1965, 20...  \n",
       "4    [víd, mostr, via, cobert, gel, curitib, pr, nã...  \n",
       "..                                                 ...  \n",
       "235  [nã, verdad, unid, ban, test, usam, métod, rt,...  \n",
       "236  [nã, verdad, víd, compartilh, red, soc, vej, a...  \n",
       "237  [fals, cantor, ivet, sangal, anunc, deix, bras...  \n",
       "238  [nã, recent, grav, recif, víd, mostr, protest,...  \n",
       "239  [nã, verdad, tv, censur, víd, dupl, sertanej, ...  \n",
       "\n",
       "[240 rows x 9 columns]"
      ]
     },
     "execution_count": 1806,
     "metadata": {},
     "output_type": "execute_result"
    }
   ],
   "source": [
    "aosfatos"
   ]
  },
  {
   "cell_type": "code",
   "execution_count": 182,
   "id": "aa29563e",
   "metadata": {},
   "outputs": [],
   "source": [
    "aosfatos.to_csv(\"aosfatos_cleaned.tsv\")"
   ]
  },
  {
   "cell_type": "markdown",
   "id": "0857feff",
   "metadata": {},
   "source": [
    "## Cleaning Folha"
   ]
  },
  {
   "cell_type": "code",
   "execution_count": 204,
   "id": "0a1e5409",
   "metadata": {},
   "outputs": [],
   "source": [
    "folha = pd.read_csv(\"C:\\\\Users\\\\franc\\\\IH-Lab\\\\BR-FakeNews-Detector\\\\Data\\\\folha.csv\").drop('subcategory', axis = 1)"
   ]
  },
  {
   "cell_type": "code",
   "execution_count": 205,
   "id": "17310ea3",
   "metadata": {},
   "outputs": [],
   "source": [
    "folha[\"link\"] = folha[\"link\"].astype(str).apply(clean_website)"
   ]
  },
  {
   "cell_type": "code",
   "execution_count": 206,
   "id": "4677c9eb",
   "metadata": {},
   "outputs": [],
   "source": [
    "def clean_tagfolha(t):\n",
    "    \n",
    "    if t == \"poder\":\n",
    "        t = \"política\"\n",
    "    elif t == \"bbc\" or t == \"mundo\" or t == \"euronews\" or t == \"rfi\" or t == \"dw\":\n",
    "        t = \"mundo\"\n",
    "    elif t == \"ciencia\":\n",
    "        t = \"ciência\"\n",
    "    elif t == \"colunas\" or t == \"tv\" or t == \"esporte\" or t == \"musica\" or t == \"turismo\" or t == \"tec\":\n",
    "        t = \"entretenimento\"\n",
    "    elif t == \"equilibrioesaude\":\n",
    "        t = \"saúde\"\n",
    "    elif t == \"empreendedorsocial\" or t == \"mercado\":\n",
    "        t = \"economia\"\n",
    "    elif t == \"saopaulo\" or t == \"educacao\":\n",
    "        t = \"brasil\"\n",
    "    else:\n",
    "        t = \"outros\"\n",
    "    \n",
    "    return t"
   ]
  },
  {
   "cell_type": "markdown",
   "id": "dcf8bed3",
   "metadata": {},
   "source": [
    "folha['category'].value_counts(dropna =False) #saúde, política, entretenimento, brasil, ciência, mundo,"
   ]
  },
  {
   "cell_type": "code",
   "execution_count": 207,
   "id": "a103f0c9",
   "metadata": {},
   "outputs": [],
   "source": [
    "folha['category'] = folha['category'].astype(str).apply(clean_tagfolha)"
   ]
  },
  {
   "cell_type": "code",
   "execution_count": 208,
   "id": "f085b578",
   "metadata": {},
   "outputs": [],
   "source": [
    "folha['date'] = pd.to_datetime(folha['date'], errors='coerce').dt.date"
   ]
  },
  {
   "cell_type": "code",
   "execution_count": 209,
   "id": "e37187cc",
   "metadata": {},
   "outputs": [
    {
     "data": {
      "text/plain": [
       "0"
      ]
     },
     "execution_count": 209,
     "metadata": {},
     "output_type": "execute_result"
    }
   ],
   "source": [
    "folha['date'].isna().sum()"
   ]
  },
  {
   "cell_type": "code",
   "execution_count": 210,
   "id": "a4e0f5f0",
   "metadata": {},
   "outputs": [],
   "source": [
    "folha['rating'] = 1.0"
   ]
  },
  {
   "cell_type": "code",
   "execution_count": 211,
   "id": "20d0051b",
   "metadata": {},
   "outputs": [],
   "source": [
    "folha['author'] = \"Folha de São Paulo\""
   ]
  },
  {
   "cell_type": "code",
   "execution_count": 212,
   "id": "09bae398",
   "metadata": {},
   "outputs": [],
   "source": [
    "folha['subtitle'] = None"
   ]
  },
  {
   "cell_type": "code",
   "execution_count": 213,
   "id": "68260c42",
   "metadata": {},
   "outputs": [],
   "source": [
    "folha['url'] = folha['link']"
   ]
  },
  {
   "cell_type": "code",
   "execution_count": 214,
   "id": "65526ca0",
   "metadata": {},
   "outputs": [],
   "source": [
    "folha['tag'] = folha['category']"
   ]
  },
  {
   "cell_type": "code",
   "execution_count": 215,
   "id": "9b249d20",
   "metadata": {},
   "outputs": [
    {
     "data": {
      "text/html": [
       "<div>\n",
       "<style scoped>\n",
       "    .dataframe tbody tr th:only-of-type {\n",
       "        vertical-align: middle;\n",
       "    }\n",
       "\n",
       "    .dataframe tbody tr th {\n",
       "        vertical-align: top;\n",
       "    }\n",
       "\n",
       "    .dataframe thead th {\n",
       "        text-align: right;\n",
       "    }\n",
       "</style>\n",
       "<table border=\"1\" class=\"dataframe\">\n",
       "  <thead>\n",
       "    <tr style=\"text-align: right;\">\n",
       "      <th></th>\n",
       "      <th>title</th>\n",
       "      <th>text</th>\n",
       "      <th>date</th>\n",
       "      <th>rating</th>\n",
       "      <th>author</th>\n",
       "      <th>subtitle</th>\n",
       "      <th>url</th>\n",
       "      <th>tag</th>\n",
       "    </tr>\n",
       "  </thead>\n",
       "  <tbody>\n",
       "    <tr>\n",
       "      <th>0</th>\n",
       "      <td>Lula diz que está 'lascado', mas que ainda tem...</td>\n",
       "      <td>Com a possibilidade de uma condenação impedir ...</td>\n",
       "      <td>2017-09-10</td>\n",
       "      <td>1.0</td>\n",
       "      <td>Folha de São Paulo</td>\n",
       "      <td>None</td>\n",
       "      <td>folha.uol.com.br</td>\n",
       "      <td>política</td>\n",
       "    </tr>\n",
       "    <tr>\n",
       "      <th>1</th>\n",
       "      <td>'Decidi ser escrava das mulheres que sofrem', ...</td>\n",
       "      <td>Para Oumou Sangaré, cantora e ativista malines...</td>\n",
       "      <td>2017-09-10</td>\n",
       "      <td>1.0</td>\n",
       "      <td>Folha de São Paulo</td>\n",
       "      <td>None</td>\n",
       "      <td>folha.uol.com.br</td>\n",
       "      <td>outros</td>\n",
       "    </tr>\n",
       "    <tr>\n",
       "      <th>2</th>\n",
       "      <td>Três reportagens da Folha ganham Prêmio Petrob...</td>\n",
       "      <td>Três reportagens da Folha foram vencedoras do ...</td>\n",
       "      <td>2017-09-10</td>\n",
       "      <td>1.0</td>\n",
       "      <td>Folha de São Paulo</td>\n",
       "      <td>None</td>\n",
       "      <td>folha.uol.com.br</td>\n",
       "      <td>política</td>\n",
       "    </tr>\n",
       "    <tr>\n",
       "      <th>3</th>\n",
       "      <td>Filme 'Star Wars: Os Últimos Jedi' ganha trail...</td>\n",
       "      <td>A Disney divulgou na noite desta segunda-feira...</td>\n",
       "      <td>2017-09-10</td>\n",
       "      <td>1.0</td>\n",
       "      <td>Folha de São Paulo</td>\n",
       "      <td>None</td>\n",
       "      <td>folha.uol.com.br</td>\n",
       "      <td>outros</td>\n",
       "    </tr>\n",
       "    <tr>\n",
       "      <th>4</th>\n",
       "      <td>CBSS inicia acordos com fintechs e quer 30% do...</td>\n",
       "      <td>O CBSS, banco da holding Elopar dos sócios Bra...</td>\n",
       "      <td>2017-09-10</td>\n",
       "      <td>1.0</td>\n",
       "      <td>Folha de São Paulo</td>\n",
       "      <td>None</td>\n",
       "      <td>folha.uol.com.br</td>\n",
       "      <td>economia</td>\n",
       "    </tr>\n",
       "    <tr>\n",
       "      <th>...</th>\n",
       "      <td>...</td>\n",
       "      <td>...</td>\n",
       "      <td>...</td>\n",
       "      <td>...</td>\n",
       "      <td>...</td>\n",
       "      <td>...</td>\n",
       "      <td>...</td>\n",
       "      <td>...</td>\n",
       "    </tr>\n",
       "    <tr>\n",
       "      <th>167048</th>\n",
       "      <td>Em cenário de crise, tucano Beto Richa assume ...</td>\n",
       "      <td>O tucano Beto Richa tinha tudo para começar se...</td>\n",
       "      <td>2015-01-01</td>\n",
       "      <td>1.0</td>\n",
       "      <td>Folha de São Paulo</td>\n",
       "      <td>None</td>\n",
       "      <td>folha.uol.com.br</td>\n",
       "      <td>política</td>\n",
       "    </tr>\n",
       "    <tr>\n",
       "      <th>167049</th>\n",
       "      <td>Filho supera senador Renan Calheiros e assume ...</td>\n",
       "      <td>O economista Renan Filho (PMDB) assume nesta q...</td>\n",
       "      <td>2015-01-01</td>\n",
       "      <td>1.0</td>\n",
       "      <td>Folha de São Paulo</td>\n",
       "      <td>None</td>\n",
       "      <td>folha.uol.com.br</td>\n",
       "      <td>política</td>\n",
       "    </tr>\n",
       "    <tr>\n",
       "      <th>167050</th>\n",
       "      <td>Hoje na TV: Tottenham x Chelsea, Campeonato In...</td>\n",
       "      <td>Destaques da programação desta quinta-feira (1...</td>\n",
       "      <td>2015-01-01</td>\n",
       "      <td>1.0</td>\n",
       "      <td>Folha de São Paulo</td>\n",
       "      <td>None</td>\n",
       "      <td>folha.uol.com.br</td>\n",
       "      <td>entretenimento</td>\n",
       "    </tr>\n",
       "    <tr>\n",
       "      <th>167051</th>\n",
       "      <td>Kim Jong-un diz estar aberto a se reunir com p...</td>\n",
       "      <td>O líder norte-coreano, Kim Jong-un, disse nest...</td>\n",
       "      <td>2015-01-01</td>\n",
       "      <td>1.0</td>\n",
       "      <td>Folha de São Paulo</td>\n",
       "      <td>None</td>\n",
       "      <td>folha.uol.com.br</td>\n",
       "      <td>mundo</td>\n",
       "    </tr>\n",
       "    <tr>\n",
       "      <th>167052</th>\n",
       "      <td>Heitor Maia Neto (1928 - 2014) - Pioneiro da a...</td>\n",
       "      <td>O projeto de que Heitor Maia Neto mais se orgu...</td>\n",
       "      <td>2015-01-01</td>\n",
       "      <td>1.0</td>\n",
       "      <td>Folha de São Paulo</td>\n",
       "      <td>None</td>\n",
       "      <td>folha.uol.com.br</td>\n",
       "      <td>outros</td>\n",
       "    </tr>\n",
       "  </tbody>\n",
       "</table>\n",
       "<p>167053 rows × 8 columns</p>\n",
       "</div>"
      ],
      "text/plain": [
       "                                                    title  \\\n",
       "0       Lula diz que está 'lascado', mas que ainda tem...   \n",
       "1       'Decidi ser escrava das mulheres que sofrem', ...   \n",
       "2       Três reportagens da Folha ganham Prêmio Petrob...   \n",
       "3       Filme 'Star Wars: Os Últimos Jedi' ganha trail...   \n",
       "4       CBSS inicia acordos com fintechs e quer 30% do...   \n",
       "...                                                   ...   \n",
       "167048  Em cenário de crise, tucano Beto Richa assume ...   \n",
       "167049  Filho supera senador Renan Calheiros e assume ...   \n",
       "167050  Hoje na TV: Tottenham x Chelsea, Campeonato In...   \n",
       "167051  Kim Jong-un diz estar aberto a se reunir com p...   \n",
       "167052  Heitor Maia Neto (1928 - 2014) - Pioneiro da a...   \n",
       "\n",
       "                                                     text        date  rating  \\\n",
       "0       Com a possibilidade de uma condenação impedir ...  2017-09-10     1.0   \n",
       "1       Para Oumou Sangaré, cantora e ativista malines...  2017-09-10     1.0   \n",
       "2       Três reportagens da Folha foram vencedoras do ...  2017-09-10     1.0   \n",
       "3       A Disney divulgou na noite desta segunda-feira...  2017-09-10     1.0   \n",
       "4       O CBSS, banco da holding Elopar dos sócios Bra...  2017-09-10     1.0   \n",
       "...                                                   ...         ...     ...   \n",
       "167048  O tucano Beto Richa tinha tudo para começar se...  2015-01-01     1.0   \n",
       "167049  O economista Renan Filho (PMDB) assume nesta q...  2015-01-01     1.0   \n",
       "167050  Destaques da programação desta quinta-feira (1...  2015-01-01     1.0   \n",
       "167051  O líder norte-coreano, Kim Jong-un, disse nest...  2015-01-01     1.0   \n",
       "167052  O projeto de que Heitor Maia Neto mais se orgu...  2015-01-01     1.0   \n",
       "\n",
       "                    author subtitle               url             tag  \n",
       "0       Folha de São Paulo     None  folha.uol.com.br        política  \n",
       "1       Folha de São Paulo     None  folha.uol.com.br          outros  \n",
       "2       Folha de São Paulo     None  folha.uol.com.br        política  \n",
       "3       Folha de São Paulo     None  folha.uol.com.br          outros  \n",
       "4       Folha de São Paulo     None  folha.uol.com.br        economia  \n",
       "...                    ...      ...               ...             ...  \n",
       "167048  Folha de São Paulo     None  folha.uol.com.br        política  \n",
       "167049  Folha de São Paulo     None  folha.uol.com.br        política  \n",
       "167050  Folha de São Paulo     None  folha.uol.com.br  entretenimento  \n",
       "167051  Folha de São Paulo     None  folha.uol.com.br           mundo  \n",
       "167052  Folha de São Paulo     None  folha.uol.com.br          outros  \n",
       "\n",
       "[167053 rows x 8 columns]"
      ]
     },
     "execution_count": 215,
     "metadata": {},
     "output_type": "execute_result"
    }
   ],
   "source": [
    "folha.drop(['link', 'category'], axis =1)"
   ]
  },
  {
   "cell_type": "code",
   "execution_count": 216,
   "id": "0746becf",
   "metadata": {},
   "outputs": [],
   "source": [
    "folha = folha.reindex(['title', \"subtitle\", \"text\", \"tag\", \"date\", \"author\", \"url\", \"rating\"], axis=1)"
   ]
  },
  {
   "cell_type": "code",
   "execution_count": 217,
   "id": "d7cc91d6",
   "metadata": {},
   "outputs": [],
   "source": [
    "folha['text'] = folha['text'].str.lower()"
   ]
  },
  {
   "cell_type": "code",
   "execution_count": 219,
   "id": "c357c012",
   "metadata": {},
   "outputs": [],
   "source": [
    "folha['text'].dropna(inplace = True)"
   ]
  },
  {
   "cell_type": "code",
   "execution_count": null,
   "id": "e90ff12c",
   "metadata": {},
   "outputs": [],
   "source": [
    "folha.to_csv(\"folha_cleaned.tsv\")"
   ]
  },
  {
   "cell_type": "code",
   "execution_count": null,
   "id": "9ee26b01",
   "metadata": {},
   "outputs": [],
   "source": []
  }
 ],
 "metadata": {
  "kernelspec": {
   "display_name": "Python 3 (ipykernel)",
   "language": "python",
   "name": "python3"
  },
  "language_info": {
   "codemirror_mode": {
    "name": "ipython",
    "version": 3
   },
   "file_extension": ".py",
   "mimetype": "text/x-python",
   "name": "python",
   "nbconvert_exporter": "python",
   "pygments_lexer": "ipython3",
   "version": "3.9.7"
  }
 },
 "nbformat": 4,
 "nbformat_minor": 5
}
