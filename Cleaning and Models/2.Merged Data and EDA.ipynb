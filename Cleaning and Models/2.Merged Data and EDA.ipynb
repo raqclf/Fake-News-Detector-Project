{
 "cells": [
  {
   "cell_type": "markdown",
   "id": "f14a8bfa",
   "metadata": {},
   "source": [
    "## Balancing Data"
   ]
  },
  {
   "cell_type": "code",
   "execution_count": 100,
   "id": "81570510",
   "metadata": {},
   "outputs": [],
   "source": [
    "import pandas as pd\n",
    "import numpy as np\n",
    "import matplotlib.pyplot as plt\n",
    "import seaborn as sns\n",
    "import calendar\n",
    "import wordcloud\n",
    "from wordcloud import WordCloud,STOPWORDS\n",
    "import nltk \n",
    "import re\n",
    "from re import search\n",
    "import string\n",
    "from nltk.corpus import stopwords"
   ]
  },
  {
   "cell_type": "code",
   "execution_count": 3,
   "id": "563cb9ab",
   "metadata": {},
   "outputs": [],
   "source": [
    "afp_cleaned = pd.read_csv(\"afp_cleaned.tsv\").drop(\"Unnamed: 0\", axis = 1)"
   ]
  },
  {
   "cell_type": "code",
   "execution_count": 4,
   "id": "6ed337e2",
   "metadata": {},
   "outputs": [
    {
     "data": {
      "text/html": [
       "<div>\n",
       "<style scoped>\n",
       "    .dataframe tbody tr th:only-of-type {\n",
       "        vertical-align: middle;\n",
       "    }\n",
       "\n",
       "    .dataframe tbody tr th {\n",
       "        vertical-align: top;\n",
       "    }\n",
       "\n",
       "    .dataframe thead th {\n",
       "        text-align: right;\n",
       "    }\n",
       "</style>\n",
       "<table border=\"1\" class=\"dataframe\">\n",
       "  <thead>\n",
       "    <tr style=\"text-align: right;\">\n",
       "      <th></th>\n",
       "      <th>title</th>\n",
       "      <th>subtitle</th>\n",
       "      <th>text</th>\n",
       "      <th>tag</th>\n",
       "      <th>date</th>\n",
       "      <th>author</th>\n",
       "      <th>url</th>\n",
       "      <th>rating</th>\n",
       "    </tr>\n",
       "  </thead>\n",
       "  <tbody>\n",
       "    <tr>\n",
       "      <th>0</th>\n",
       "      <td>Vídeo em que cantora parece e...</td>\n",
       "      <td>NaN</td>\n",
       "      <td>um vídeo em que a cantora teresa cristina par...</td>\n",
       "      <td>brasil</td>\n",
       "      <td>2022-05-16</td>\n",
       "      <td>AFP Brasil</td>\n",
       "      <td>checamos.afp.com</td>\n",
       "      <td>0.0</td>\n",
       "    </tr>\n",
       "    <tr>\n",
       "      <th>1</th>\n",
       "      <td>Os 62 °C na Índia foram regis...</td>\n",
       "      <td>NaN</td>\n",
       "      <td>um mapa da índia foi compartilhado nas redes ...</td>\n",
       "      <td>ciência</td>\n",
       "      <td>2022-05-14</td>\n",
       "      <td>AFP Brasil</td>\n",
       "      <td>checamos.afp.com</td>\n",
       "      <td>0.0</td>\n",
       "    </tr>\n",
       "    <tr>\n",
       "      <th>2</th>\n",
       "      <td>Nesta gravação de 2017, Lula ...</td>\n",
       "      <td>NaN</td>\n",
       "      <td>lula recusa descer do transporte para falar ...</td>\n",
       "      <td>brasil</td>\n",
       "      <td>2022-05-13</td>\n",
       "      <td>AFP Brasil</td>\n",
       "      <td>checamos.afp.com</td>\n",
       "      <td>0.0</td>\n",
       "    </tr>\n",
       "  </tbody>\n",
       "</table>\n",
       "</div>"
      ],
      "text/plain": [
       "                                               title  subtitle  \\\n",
       "0                   Vídeo em que cantora parece e...       NaN   \n",
       "1                   Os 62 °C na Índia foram regis...       NaN   \n",
       "2                   Nesta gravação de 2017, Lula ...       NaN   \n",
       "\n",
       "                                                text      tag        date  \\\n",
       "0   um vídeo em que a cantora teresa cristina par...   brasil  2022-05-16   \n",
       "1   um mapa da índia foi compartilhado nas redes ...  ciência  2022-05-14   \n",
       "2    lula recusa descer do transporte para falar ...   brasil  2022-05-13   \n",
       "\n",
       "       author               url  rating  \n",
       "0  AFP Brasil  checamos.afp.com     0.0  \n",
       "1  AFP Brasil  checamos.afp.com     0.0  \n",
       "2  AFP Brasil  checamos.afp.com     0.0  "
      ]
     },
     "execution_count": 4,
     "metadata": {},
     "output_type": "execute_result"
    }
   ],
   "source": [
    "afp_cleaned.head(3)"
   ]
  },
  {
   "cell_type": "code",
   "execution_count": 5,
   "id": "9dc1e5ae",
   "metadata": {},
   "outputs": [
    {
     "data": {
      "text/plain": [
       "(135, 8)"
      ]
     },
     "execution_count": 5,
     "metadata": {},
     "output_type": "execute_result"
    }
   ],
   "source": [
    "afp_cleaned.shape"
   ]
  },
  {
   "cell_type": "code",
   "execution_count": 6,
   "id": "52255ca8",
   "metadata": {},
   "outputs": [
    {
     "data": {
      "text/plain": [
       "title         0\n",
       "subtitle    135\n",
       "text          0\n",
       "tag           0\n",
       "date          0\n",
       "author        0\n",
       "url           0\n",
       "rating        0\n",
       "dtype: int64"
      ]
     },
     "execution_count": 6,
     "metadata": {},
     "output_type": "execute_result"
    }
   ],
   "source": [
    "afp_cleaned.isna().sum()"
   ]
  },
  {
   "cell_type": "code",
   "execution_count": 7,
   "id": "db986582",
   "metadata": {},
   "outputs": [],
   "source": [
    "afp_cleaned = afp_cleaned.fillna(\"indisponível\")"
   ]
  },
  {
   "cell_type": "code",
   "execution_count": 8,
   "id": "2a0c0251",
   "metadata": {},
   "outputs": [],
   "source": [
    "fatos_cleaned = pd.read_csv(\"aosfatos_cleaned.tsv\").drop(\"Unnamed: 0\", axis = 1)"
   ]
  },
  {
   "cell_type": "code",
   "execution_count": 9,
   "id": "4d6e3afb",
   "metadata": {},
   "outputs": [
    {
     "data": {
      "text/html": [
       "<div>\n",
       "<style scoped>\n",
       "    .dataframe tbody tr th:only-of-type {\n",
       "        vertical-align: middle;\n",
       "    }\n",
       "\n",
       "    .dataframe tbody tr th {\n",
       "        vertical-align: top;\n",
       "    }\n",
       "\n",
       "    .dataframe thead th {\n",
       "        text-align: right;\n",
       "    }\n",
       "</style>\n",
       "<table border=\"1\" class=\"dataframe\">\n",
       "  <thead>\n",
       "    <tr style=\"text-align: right;\">\n",
       "      <th></th>\n",
       "      <th>title</th>\n",
       "      <th>subtitle</th>\n",
       "      <th>text</th>\n",
       "      <th>tag</th>\n",
       "      <th>date</th>\n",
       "      <th>author</th>\n",
       "      <th>url</th>\n",
       "      <th>rating</th>\n",
       "    </tr>\n",
       "  </thead>\n",
       "  <tbody>\n",
       "    <tr>\n",
       "      <th>0</th>\n",
       "      <td>Vídeo em que mar invade avenida no Rio de Jane...</td>\n",
       "      <td>NaN</td>\n",
       "      <td>não foi gravado recentemente um vídeo que most...</td>\n",
       "      <td>NaN</td>\n",
       "      <td>2022-05-23</td>\n",
       "      <td>Priscila Pacheco</td>\n",
       "      <td>aosfatos.org</td>\n",
       "      <td>0.0</td>\n",
       "    </tr>\n",
       "    <tr>\n",
       "      <th>1</th>\n",
       "      <td>Avião usado por Lula em 2019 não pertencia à X...</td>\n",
       "      <td>NaN</td>\n",
       "      <td>é falso que a xp investimentos emprestou um av...</td>\n",
       "      <td>NaN</td>\n",
       "      <td>2022-05-23</td>\n",
       "      <td>Priscila Pacheco</td>\n",
       "      <td>aosfatos.org</td>\n",
       "      <td>0.0</td>\n",
       "    </tr>\n",
       "    <tr>\n",
       "      <th>2</th>\n",
       "      <td>Lula não apareceu em capa da  Forbes  como uma...</td>\n",
       "      <td>NaN</td>\n",
       "      <td>é falso que uma capa da revista forbes indica ...</td>\n",
       "      <td>NaN</td>\n",
       "      <td>2022-05-20</td>\n",
       "      <td>Marco Faustino</td>\n",
       "      <td>aosfatos.org</td>\n",
       "      <td>0.0</td>\n",
       "    </tr>\n",
       "  </tbody>\n",
       "</table>\n",
       "</div>"
      ],
      "text/plain": [
       "                                               title  subtitle  \\\n",
       "0  Vídeo em que mar invade avenida no Rio de Jane...       NaN   \n",
       "1  Avião usado por Lula em 2019 não pertencia à X...       NaN   \n",
       "2  Lula não apareceu em capa da  Forbes  como uma...       NaN   \n",
       "\n",
       "                                                text  tag        date  \\\n",
       "0  não foi gravado recentemente um vídeo que most...  NaN  2022-05-23   \n",
       "1  é falso que a xp investimentos emprestou um av...  NaN  2022-05-23   \n",
       "2  é falso que uma capa da revista forbes indica ...  NaN  2022-05-20   \n",
       "\n",
       "             author           url  rating  \n",
       "0  Priscila Pacheco  aosfatos.org     0.0  \n",
       "1  Priscila Pacheco  aosfatos.org     0.0  \n",
       "2    Marco Faustino  aosfatos.org     0.0  "
      ]
     },
     "execution_count": 9,
     "metadata": {},
     "output_type": "execute_result"
    }
   ],
   "source": [
    "fatos_cleaned.head(3)"
   ]
  },
  {
   "cell_type": "code",
   "execution_count": 10,
   "id": "c2308e1c",
   "metadata": {},
   "outputs": [
    {
     "data": {
      "text/plain": [
       "(240, 8)"
      ]
     },
     "execution_count": 10,
     "metadata": {},
     "output_type": "execute_result"
    }
   ],
   "source": [
    "fatos_cleaned.shape"
   ]
  },
  {
   "cell_type": "code",
   "execution_count": 11,
   "id": "ce39db75",
   "metadata": {},
   "outputs": [
    {
     "data": {
      "text/plain": [
       "title         0\n",
       "subtitle    240\n",
       "text          0\n",
       "tag         240\n",
       "date          0\n",
       "author        0\n",
       "url           0\n",
       "rating        0\n",
       "dtype: int64"
      ]
     },
     "execution_count": 11,
     "metadata": {},
     "output_type": "execute_result"
    }
   ],
   "source": [
    "fatos_cleaned.isna().sum()"
   ]
  },
  {
   "cell_type": "code",
   "execution_count": 12,
   "id": "16cc0cfa",
   "metadata": {},
   "outputs": [],
   "source": [
    "fatos_cleaned = fatos_cleaned.fillna(\"indisponível\")"
   ]
  },
  {
   "cell_type": "code",
   "execution_count": 13,
   "id": "25a3a291",
   "metadata": {},
   "outputs": [],
   "source": [
    "folha_cleaned = pd.read_csv(\"folha_cleaned.tsv\").drop(\"Unnamed: 0\", axis = 1)"
   ]
  },
  {
   "cell_type": "code",
   "execution_count": 14,
   "id": "2ec2be59",
   "metadata": {},
   "outputs": [
    {
     "data": {
      "text/html": [
       "<div>\n",
       "<style scoped>\n",
       "    .dataframe tbody tr th:only-of-type {\n",
       "        vertical-align: middle;\n",
       "    }\n",
       "\n",
       "    .dataframe tbody tr th {\n",
       "        vertical-align: top;\n",
       "    }\n",
       "\n",
       "    .dataframe thead th {\n",
       "        text-align: right;\n",
       "    }\n",
       "</style>\n",
       "<table border=\"1\" class=\"dataframe\">\n",
       "  <thead>\n",
       "    <tr style=\"text-align: right;\">\n",
       "      <th></th>\n",
       "      <th>title</th>\n",
       "      <th>subtitle</th>\n",
       "      <th>text</th>\n",
       "      <th>tag</th>\n",
       "      <th>date</th>\n",
       "      <th>author</th>\n",
       "      <th>url</th>\n",
       "      <th>rating</th>\n",
       "    </tr>\n",
       "  </thead>\n",
       "  <tbody>\n",
       "    <tr>\n",
       "      <th>0</th>\n",
       "      <td>Lula diz que está 'lascado', mas que ainda tem...</td>\n",
       "      <td>NaN</td>\n",
       "      <td>com a possibilidade de uma condenação impedir ...</td>\n",
       "      <td>política</td>\n",
       "      <td>2017-09-10</td>\n",
       "      <td>Folha de São Paulo</td>\n",
       "      <td>folha.uol.com.br</td>\n",
       "      <td>1.0</td>\n",
       "    </tr>\n",
       "    <tr>\n",
       "      <th>1</th>\n",
       "      <td>'Decidi ser escrava das mulheres que sofrem', ...</td>\n",
       "      <td>NaN</td>\n",
       "      <td>para oumou sangaré, cantora e ativista malines...</td>\n",
       "      <td>outros</td>\n",
       "      <td>2017-09-10</td>\n",
       "      <td>Folha de São Paulo</td>\n",
       "      <td>folha.uol.com.br</td>\n",
       "      <td>1.0</td>\n",
       "    </tr>\n",
       "    <tr>\n",
       "      <th>2</th>\n",
       "      <td>Três reportagens da Folha ganham Prêmio Petrob...</td>\n",
       "      <td>NaN</td>\n",
       "      <td>três reportagens da folha foram vencedoras do ...</td>\n",
       "      <td>política</td>\n",
       "      <td>2017-09-10</td>\n",
       "      <td>Folha de São Paulo</td>\n",
       "      <td>folha.uol.com.br</td>\n",
       "      <td>1.0</td>\n",
       "    </tr>\n",
       "  </tbody>\n",
       "</table>\n",
       "</div>"
      ],
      "text/plain": [
       "                                               title  subtitle  \\\n",
       "0  Lula diz que está 'lascado', mas que ainda tem...       NaN   \n",
       "1  'Decidi ser escrava das mulheres que sofrem', ...       NaN   \n",
       "2  Três reportagens da Folha ganham Prêmio Petrob...       NaN   \n",
       "\n",
       "                                                text       tag        date  \\\n",
       "0  com a possibilidade de uma condenação impedir ...  política  2017-09-10   \n",
       "1  para oumou sangaré, cantora e ativista malines...    outros  2017-09-10   \n",
       "2  três reportagens da folha foram vencedoras do ...  política  2017-09-10   \n",
       "\n",
       "               author               url  rating  \n",
       "0  Folha de São Paulo  folha.uol.com.br     1.0  \n",
       "1  Folha de São Paulo  folha.uol.com.br     1.0  \n",
       "2  Folha de São Paulo  folha.uol.com.br     1.0  "
      ]
     },
     "execution_count": 14,
     "metadata": {},
     "output_type": "execute_result"
    }
   ],
   "source": [
    "folha_cleaned.head(3)"
   ]
  },
  {
   "cell_type": "code",
   "execution_count": 15,
   "id": "479ba4b6",
   "metadata": {},
   "outputs": [
    {
     "data": {
      "text/plain": [
       "(167053, 8)"
      ]
     },
     "execution_count": 15,
     "metadata": {},
     "output_type": "execute_result"
    }
   ],
   "source": [
    "folha_cleaned.shape"
   ]
  },
  {
   "cell_type": "code",
   "execution_count": 16,
   "id": "ef83dbf4",
   "metadata": {},
   "outputs": [
    {
     "data": {
      "text/plain": [
       "title            0\n",
       "subtitle    167053\n",
       "text           765\n",
       "tag              0\n",
       "date             0\n",
       "author           0\n",
       "url              0\n",
       "rating           0\n",
       "dtype: int64"
      ]
     },
     "execution_count": 16,
     "metadata": {},
     "output_type": "execute_result"
    }
   ],
   "source": [
    "folha_cleaned.isna().sum()"
   ]
  },
  {
   "cell_type": "code",
   "execution_count": 17,
   "id": "90e3c0bc",
   "metadata": {},
   "outputs": [],
   "source": [
    "folha_cleaned['subtitle'] = folha_cleaned['subtitle'].fillna(\"indisponível\")"
   ]
  },
  {
   "cell_type": "code",
   "execution_count": 18,
   "id": "c078fbbb",
   "metadata": {},
   "outputs": [],
   "source": [
    "folha_cleaned = folha_cleaned.dropna()"
   ]
  },
  {
   "cell_type": "code",
   "execution_count": 19,
   "id": "7caf2bec",
   "metadata": {},
   "outputs": [],
   "source": [
    "folha_sample = folha_cleaned.sample(n=2)"
   ]
  },
  {
   "cell_type": "code",
   "execution_count": 20,
   "id": "815444ff",
   "metadata": {},
   "outputs": [],
   "source": [
    "fr_cleaned = pd.read_csv(\"fr_cleaned.tsv\").drop(\"Unnamed: 0\", axis = 1)"
   ]
  },
  {
   "cell_type": "code",
   "execution_count": 21,
   "id": "2c8cb047",
   "metadata": {},
   "outputs": [
    {
     "data": {
      "text/html": [
       "<div>\n",
       "<style scoped>\n",
       "    .dataframe tbody tr th:only-of-type {\n",
       "        vertical-align: middle;\n",
       "    }\n",
       "\n",
       "    .dataframe tbody tr th {\n",
       "        vertical-align: top;\n",
       "    }\n",
       "\n",
       "    .dataframe thead th {\n",
       "        text-align: right;\n",
       "    }\n",
       "</style>\n",
       "<table border=\"1\" class=\"dataframe\">\n",
       "  <thead>\n",
       "    <tr style=\"text-align: right;\">\n",
       "      <th></th>\n",
       "      <th>title</th>\n",
       "      <th>subtitle</th>\n",
       "      <th>text</th>\n",
       "      <th>tag</th>\n",
       "      <th>date</th>\n",
       "      <th>author</th>\n",
       "      <th>url</th>\n",
       "      <th>rating</th>\n",
       "    </tr>\n",
       "  </thead>\n",
       "  <tbody>\n",
       "    <tr>\n",
       "      <th>0</th>\n",
       "      <td>Papa Francisco foi preso sob acusação de trá...</td>\n",
       "      <td>Boato – Ocorreu um apagão no Vaticano. O papa ...</td>\n",
       "      <td>apagão vaticano papar presar acusação tráfico ...</td>\n",
       "      <td>entretenimento</td>\n",
       "      <td>2021-11-01</td>\n",
       "      <td>EdgardMatsuki</td>\n",
       "      <td>boatos.org</td>\n",
       "      <td>0.0</td>\n",
       "    </tr>\n",
       "    <tr>\n",
       "      <th>1</th>\n",
       "      <td>Equador prepara cova coletiva para mortos por ...</td>\n",
       "      <td>NaN</td>\n",
       "      <td>o governar equador anunciar preparar cova cole...</td>\n",
       "      <td>saúde</td>\n",
       "      <td>2020-03-27</td>\n",
       "      <td>noticias.uol.com.br</td>\n",
       "      <td>noticias.uol.com.br</td>\n",
       "      <td>1.0</td>\n",
       "    </tr>\n",
       "    <tr>\n",
       "      <th>2</th>\n",
       "      <td>Air France voltará a operar voo direto Pequim ...</td>\n",
       "      <td>NaN</td>\n",
       "      <td>o companhia air france operar voar direto pequ...</td>\n",
       "      <td>saúde</td>\n",
       "      <td>2020-07-08</td>\n",
       "      <td>uol.com.br</td>\n",
       "      <td>uol.com.br</td>\n",
       "      <td>1.0</td>\n",
       "    </tr>\n",
       "  </tbody>\n",
       "</table>\n",
       "</div>"
      ],
      "text/plain": [
       "                                               title  \\\n",
       "0    Papa Francisco foi preso sob acusação de trá...   \n",
       "1  Equador prepara cova coletiva para mortos por ...   \n",
       "2  Air France voltará a operar voo direto Pequim ...   \n",
       "\n",
       "                                            subtitle  \\\n",
       "0  Boato – Ocorreu um apagão no Vaticano. O papa ...   \n",
       "1                                                NaN   \n",
       "2                                                NaN   \n",
       "\n",
       "                                                text             tag  \\\n",
       "0  apagão vaticano papar presar acusação tráfico ...  entretenimento   \n",
       "1  o governar equador anunciar preparar cova cole...           saúde   \n",
       "2  o companhia air france operar voar direto pequ...           saúde   \n",
       "\n",
       "         date               author                  url  rating  \n",
       "0  2021-11-01        EdgardMatsuki           boatos.org     0.0  \n",
       "1  2020-03-27  noticias.uol.com.br  noticias.uol.com.br     1.0  \n",
       "2  2020-07-08           uol.com.br           uol.com.br     1.0  "
      ]
     },
     "execution_count": 21,
     "metadata": {},
     "output_type": "execute_result"
    }
   ],
   "source": [
    "fr_cleaned.head(3)"
   ]
  },
  {
   "cell_type": "code",
   "execution_count": 22,
   "id": "aec80e89",
   "metadata": {},
   "outputs": [
    {
     "data": {
      "text/plain": [
       "(11886, 8)"
      ]
     },
     "execution_count": 22,
     "metadata": {},
     "output_type": "execute_result"
    }
   ],
   "source": [
    "fr_cleaned.shape"
   ]
  },
  {
   "cell_type": "code",
   "execution_count": 23,
   "id": "c777b497",
   "metadata": {},
   "outputs": [
    {
     "data": {
      "text/plain": [
       "1.0    5951\n",
       "0.0    5935\n",
       "Name: rating, dtype: int64"
      ]
     },
     "execution_count": 23,
     "metadata": {},
     "output_type": "execute_result"
    }
   ],
   "source": [
    "fr_cleaned['rating'].value_counts()"
   ]
  },
  {
   "cell_type": "code",
   "execution_count": 24,
   "id": "a6a4643e",
   "metadata": {},
   "outputs": [
    {
     "data": {
      "text/plain": [
       "title         30\n",
       "subtitle    6318\n",
       "text           0\n",
       "tag            0\n",
       "date         352\n",
       "author       164\n",
       "url            0\n",
       "rating         0\n",
       "dtype: int64"
      ]
     },
     "execution_count": 24,
     "metadata": {},
     "output_type": "execute_result"
    }
   ],
   "source": [
    "fr_cleaned.isna().sum()"
   ]
  },
  {
   "cell_type": "code",
   "execution_count": 25,
   "id": "a5f93cbd",
   "metadata": {},
   "outputs": [],
   "source": [
    "it = np.where(fr_cleaned['title'].isna())"
   ]
  },
  {
   "cell_type": "code",
   "execution_count": 26,
   "id": "1cce45c8",
   "metadata": {},
   "outputs": [
    {
     "name": "stderr",
     "output_type": "stream",
     "text": [
      "C:\\Users\\franc\\anaconda3\\lib\\site-packages\\pandas\\core\\indexing.py:1732: SettingWithCopyWarning: \n",
      "A value is trying to be set on a copy of a slice from a DataFrame\n",
      "\n",
      "See the caveats in the documentation: https://pandas.pydata.org/pandas-docs/stable/user_guide/indexing.html#returning-a-view-versus-a-copy\n",
      "  self._setitem_single_block(indexer, value, name)\n"
     ]
    }
   ],
   "source": [
    "for i in it:\n",
    "    fr_cleaned['title'].iloc[i] = fr_cleaned['text'].iloc[i][0:50]"
   ]
  },
  {
   "cell_type": "code",
   "execution_count": 27,
   "id": "ceb23209",
   "metadata": {},
   "outputs": [],
   "source": [
    "fr_cleaned['subtitle'] = fr_cleaned['subtitle'].fillna(\"indisponível\")"
   ]
  },
  {
   "cell_type": "code",
   "execution_count": 28,
   "id": "b8613ee1",
   "metadata": {},
   "outputs": [],
   "source": [
    "ita = list(np.where(fr_cleaned['author'].isna()))"
   ]
  },
  {
   "cell_type": "code",
   "execution_count": 29,
   "id": "700f0132",
   "metadata": {},
   "outputs": [],
   "source": [
    "for i in ita:\n",
    "    fr_cleaned['author'].iloc[i] = fr_cleaned['url'].iloc[i]"
   ]
  },
  {
   "cell_type": "code",
   "execution_count": 30,
   "id": "cecebe31",
   "metadata": {},
   "outputs": [],
   "source": [
    "fr_cleaned['title'] = fr_cleaned['title'].fillna(\"indisponível\")"
   ]
  },
  {
   "cell_type": "code",
   "execution_count": 31,
   "id": "46df8422",
   "metadata": {},
   "outputs": [
    {
     "data": {
      "text/plain": [
       "1.0    5951\n",
       "0.0    5935\n",
       "Name: rating, dtype: int64"
      ]
     },
     "execution_count": 31,
     "metadata": {},
     "output_type": "execute_result"
    }
   ],
   "source": [
    "fr_cleaned['rating'].value_counts()"
   ]
  },
  {
   "cell_type": "code",
   "execution_count": 32,
   "id": "4776c5c1",
   "metadata": {},
   "outputs": [],
   "source": [
    "fr_cleaned = fr_cleaned.dropna()"
   ]
  },
  {
   "cell_type": "markdown",
   "id": "4e823de2",
   "metadata": {},
   "source": [
    "## Concatanating data \"news\""
   ]
  },
  {
   "cell_type": "code",
   "execution_count": 33,
   "id": "726ab8f6",
   "metadata": {},
   "outputs": [],
   "source": [
    "news = pd.concat([fr_cleaned, afp_cleaned, fatos_cleaned, folha_sample], axis = 0)"
   ]
  },
  {
   "cell_type": "code",
   "execution_count": 34,
   "id": "4778d03b",
   "metadata": {},
   "outputs": [
    {
     "data": {
      "text/html": [
       "<div>\n",
       "<style scoped>\n",
       "    .dataframe tbody tr th:only-of-type {\n",
       "        vertical-align: middle;\n",
       "    }\n",
       "\n",
       "    .dataframe tbody tr th {\n",
       "        vertical-align: top;\n",
       "    }\n",
       "\n",
       "    .dataframe thead th {\n",
       "        text-align: right;\n",
       "    }\n",
       "</style>\n",
       "<table border=\"1\" class=\"dataframe\">\n",
       "  <thead>\n",
       "    <tr style=\"text-align: right;\">\n",
       "      <th></th>\n",
       "      <th>title</th>\n",
       "      <th>subtitle</th>\n",
       "      <th>text</th>\n",
       "      <th>tag</th>\n",
       "      <th>date</th>\n",
       "      <th>author</th>\n",
       "      <th>url</th>\n",
       "      <th>rating</th>\n",
       "    </tr>\n",
       "  </thead>\n",
       "  <tbody>\n",
       "    <tr>\n",
       "      <th>0</th>\n",
       "      <td>Papa Francisco foi preso sob acusação de trá...</td>\n",
       "      <td>Boato – Ocorreu um apagão no Vaticano. O papa ...</td>\n",
       "      <td>apagão vaticano papar presar acusação tráfico ...</td>\n",
       "      <td>entretenimento</td>\n",
       "      <td>2021-11-01</td>\n",
       "      <td>EdgardMatsuki</td>\n",
       "      <td>boatos.org</td>\n",
       "      <td>0.0</td>\n",
       "    </tr>\n",
       "    <tr>\n",
       "      <th>1</th>\n",
       "      <td>Equador prepara cova coletiva para mortos por ...</td>\n",
       "      <td>indisponível</td>\n",
       "      <td>o governar equador anunciar preparar cova cole...</td>\n",
       "      <td>saúde</td>\n",
       "      <td>2020-03-27</td>\n",
       "      <td>noticias.uol.com.br</td>\n",
       "      <td>noticias.uol.com.br</td>\n",
       "      <td>1.0</td>\n",
       "    </tr>\n",
       "    <tr>\n",
       "      <th>2</th>\n",
       "      <td>Air France voltará a operar voo direto Pequim ...</td>\n",
       "      <td>indisponível</td>\n",
       "      <td>o companhia air france operar voar direto pequ...</td>\n",
       "      <td>saúde</td>\n",
       "      <td>2020-07-08</td>\n",
       "      <td>uol.com.br</td>\n",
       "      <td>uol.com.br</td>\n",
       "      <td>1.0</td>\n",
       "    </tr>\n",
       "    <tr>\n",
       "      <th>3</th>\n",
       "      <td>Marfrig intensifica venda de carne do Brasil a...</td>\n",
       "      <td>indisponível</td>\n",
       "      <td>o marfrig global foods retomar vender carnar b...</td>\n",
       "      <td>saúde</td>\n",
       "      <td>2020-04-27</td>\n",
       "      <td>economia.uol.com.br</td>\n",
       "      <td>economia.uol.com.br</td>\n",
       "      <td>1.0</td>\n",
       "    </tr>\n",
       "    <tr>\n",
       "      <th>4</th>\n",
       "      <td>As parciais das eleições de 2014 alternaram ma...</td>\n",
       "      <td>indisponível</td>\n",
       "      <td>o assunto voltar o compartilhar rede social ju...</td>\n",
       "      <td>entretenimento</td>\n",
       "      <td>2021-07-31</td>\n",
       "      <td>GilmarLopes</td>\n",
       "      <td>e-farsas.com</td>\n",
       "      <td>0.0</td>\n",
       "    </tr>\n",
       "  </tbody>\n",
       "</table>\n",
       "</div>"
      ],
      "text/plain": [
       "                                               title  \\\n",
       "0    Papa Francisco foi preso sob acusação de trá...   \n",
       "1  Equador prepara cova coletiva para mortos por ...   \n",
       "2  Air France voltará a operar voo direto Pequim ...   \n",
       "3  Marfrig intensifica venda de carne do Brasil a...   \n",
       "4  As parciais das eleições de 2014 alternaram ma...   \n",
       "\n",
       "                                            subtitle  \\\n",
       "0  Boato – Ocorreu um apagão no Vaticano. O papa ...   \n",
       "1                                       indisponível   \n",
       "2                                       indisponível   \n",
       "3                                       indisponível   \n",
       "4                                       indisponível   \n",
       "\n",
       "                                                text             tag  \\\n",
       "0  apagão vaticano papar presar acusação tráfico ...  entretenimento   \n",
       "1  o governar equador anunciar preparar cova cole...           saúde   \n",
       "2  o companhia air france operar voar direto pequ...           saúde   \n",
       "3  o marfrig global foods retomar vender carnar b...           saúde   \n",
       "4  o assunto voltar o compartilhar rede social ju...  entretenimento   \n",
       "\n",
       "         date               author                  url  rating  \n",
       "0  2021-11-01        EdgardMatsuki           boatos.org     0.0  \n",
       "1  2020-03-27  noticias.uol.com.br  noticias.uol.com.br     1.0  \n",
       "2  2020-07-08           uol.com.br           uol.com.br     1.0  \n",
       "3  2020-04-27  economia.uol.com.br  economia.uol.com.br     1.0  \n",
       "4  2021-07-31          GilmarLopes         e-farsas.com     0.0  "
      ]
     },
     "execution_count": 34,
     "metadata": {},
     "output_type": "execute_result"
    }
   ],
   "source": [
    "news.head()"
   ]
  },
  {
   "cell_type": "code",
   "execution_count": 35,
   "id": "8981d2e1",
   "metadata": {},
   "outputs": [
    {
     "data": {
      "text/html": [
       "<div>\n",
       "<style scoped>\n",
       "    .dataframe tbody tr th:only-of-type {\n",
       "        vertical-align: middle;\n",
       "    }\n",
       "\n",
       "    .dataframe tbody tr th {\n",
       "        vertical-align: top;\n",
       "    }\n",
       "\n",
       "    .dataframe thead th {\n",
       "        text-align: right;\n",
       "    }\n",
       "</style>\n",
       "<table border=\"1\" class=\"dataframe\">\n",
       "  <thead>\n",
       "    <tr style=\"text-align: right;\">\n",
       "      <th></th>\n",
       "      <th>title</th>\n",
       "      <th>subtitle</th>\n",
       "      <th>text</th>\n",
       "      <th>tag</th>\n",
       "      <th>date</th>\n",
       "      <th>author</th>\n",
       "      <th>url</th>\n",
       "      <th>rating</th>\n",
       "    </tr>\n",
       "  </thead>\n",
       "  <tbody>\n",
       "  </tbody>\n",
       "</table>\n",
       "</div>"
      ],
      "text/plain": [
       "Empty DataFrame\n",
       "Columns: [title, subtitle, text, tag, date, author, url, rating]\n",
       "Index: []"
      ]
     },
     "execution_count": 35,
     "metadata": {},
     "output_type": "execute_result"
    }
   ],
   "source": [
    "duplicate = news[news.duplicated()] \n",
    "duplicate"
   ]
  },
  {
   "cell_type": "code",
   "execution_count": 36,
   "id": "90a03880",
   "metadata": {},
   "outputs": [],
   "source": [
    "news.drop_duplicates(inplace = True)\n",
    "news.reset_index(drop = True, inplace = True)"
   ]
  },
  {
   "cell_type": "code",
   "execution_count": 37,
   "id": "061d3a1c",
   "metadata": {},
   "outputs": [],
   "source": [
    "from sklearn.utils import shuffle\n",
    "news = shuffle(news).reset_index()"
   ]
  },
  {
   "cell_type": "markdown",
   "id": "e221e1b8",
   "metadata": {},
   "source": [
    "## Some more cleaning"
   ]
  },
  {
   "cell_type": "code",
   "execution_count": 38,
   "id": "0042b5d2",
   "metadata": {},
   "outputs": [],
   "source": [
    "def clean_author(a):\n",
    "\n",
    "    if re.search(\".\", a) != None:\n",
    "        a = a.split(\".\")\n",
    "        a = a[0]\n",
    "        \n",
    "    if re.search(\"[A-Z][a-z]+\", a) != None:\n",
    "        pattern = (\"[A-Z][a-z]+\")\n",
    "        name = re.findall(pattern, a)\n",
    "        try:\n",
    "            a = name[0] + \" \" + name[1] + \" \" + name[2]\n",
    "        except:\n",
    "            try:\n",
    "                a = name[0] + \" \" + name[1]\n",
    "            except: \n",
    "                pass\n",
    "        \n",
    "    return a"
   ]
  },
  {
   "cell_type": "code",
   "execution_count": 39,
   "id": "03a33414",
   "metadata": {},
   "outputs": [],
   "source": [
    "news[\"author\"] = news['author'].apply(clean_author)"
   ]
  },
  {
   "cell_type": "code",
   "execution_count": 40,
   "id": "76f14cb0",
   "metadata": {},
   "outputs": [
    {
     "data": {
      "text/plain": [
       "0"
      ]
     },
     "execution_count": 40,
     "metadata": {},
     "output_type": "execute_result"
    }
   ],
   "source": [
    "news[\"author\"].isna().sum()"
   ]
  },
  {
   "cell_type": "code",
   "execution_count": 41,
   "id": "5718f5b5",
   "metadata": {},
   "outputs": [
    {
     "data": {
      "text/plain": [
       "noticias                2343\n",
       "Edgard Matsuki          1346\n",
       "G1                       543\n",
       "Kyene Becker             499\n",
       "gilmarlopes              469\n",
       "                        ... \n",
       "Falc Fernanda Vivase       1\n",
       "Felipe Fraz Monteiro       1\n",
       "Luiza Souto                1\n",
       "Fabio Manzano              1\n",
       "Bianca Limae La            1\n",
       "Name: author, Length: 1395, dtype: int64"
      ]
     },
     "execution_count": 41,
     "metadata": {},
     "output_type": "execute_result"
    }
   ],
   "source": [
    "news[\"author\"].value_counts()"
   ]
  },
  {
   "cell_type": "code",
   "execution_count": 42,
   "id": "dcb720b4",
   "metadata": {},
   "outputs": [],
   "source": [
    "news = news.drop(['index', 'subtitle'], axis =1)"
   ]
  },
  {
   "cell_type": "code",
   "execution_count": 43,
   "id": "a3849177",
   "metadata": {},
   "outputs": [],
   "source": [
    "news = news.dropna()"
   ]
  },
  {
   "cell_type": "code",
   "execution_count": 44,
   "id": "79d27f0f",
   "metadata": {},
   "outputs": [
    {
     "data": {
      "text/html": [
       "<div>\n",
       "<style scoped>\n",
       "    .dataframe tbody tr th:only-of-type {\n",
       "        vertical-align: middle;\n",
       "    }\n",
       "\n",
       "    .dataframe tbody tr th {\n",
       "        vertical-align: top;\n",
       "    }\n",
       "\n",
       "    .dataframe thead th {\n",
       "        text-align: right;\n",
       "    }\n",
       "</style>\n",
       "<table border=\"1\" class=\"dataframe\">\n",
       "  <thead>\n",
       "    <tr style=\"text-align: right;\">\n",
       "      <th></th>\n",
       "      <th>title</th>\n",
       "      <th>text</th>\n",
       "      <th>tag</th>\n",
       "      <th>date</th>\n",
       "      <th>author</th>\n",
       "      <th>url</th>\n",
       "      <th>rating</th>\n",
       "    </tr>\n",
       "  </thead>\n",
       "  <tbody>\n",
       "    <tr>\n",
       "      <th>0</th>\n",
       "      <td>Vacina contra covid 19 bancada por Bill Gates ...</td>\n",
       "      <td>o laboratório financiar bilionário fundador mi...</td>\n",
       "      <td>saúde</td>\n",
       "      <td>2020-06-04</td>\n",
       "      <td>uol</td>\n",
       "      <td>uol.com.br</td>\n",
       "      <td>1.0</td>\n",
       "    </tr>\n",
       "    <tr>\n",
       "      <th>1</th>\n",
       "      <td>Monja Coen está com sintomas de Covid 19 e f...</td>\n",
       "      <td>monge coen querido conhecer alguém convênio e ...</td>\n",
       "      <td>entretenimento</td>\n",
       "      <td>2020-08-04</td>\n",
       "      <td>Edgard Matsuki</td>\n",
       "      <td>boatos.org</td>\n",
       "      <td>0.0</td>\n",
       "    </tr>\n",
       "    <tr>\n",
       "      <th>2</th>\n",
       "      <td>o homem esfaquear cachorro bar morto facada</td>\n",
       "      <td>o notícia surgir o quinzena janeiro o redar so...</td>\n",
       "      <td>entretenimento</td>\n",
       "      <td>2019-01-17</td>\n",
       "      <td>gilmarlopes</td>\n",
       "      <td>e-farsas.com</td>\n",
       "      <td>0.0</td>\n",
       "    </tr>\n",
       "    <tr>\n",
       "      <th>3</th>\n",
       "      <td>PCC exibiu faixa  Alexandre de Moraes no STF...</td>\n",
       "      <td>alguém lembrar pcc paz justiçar e liberdade al...</td>\n",
       "      <td>brasil</td>\n",
       "      <td>2020-05-29</td>\n",
       "      <td>Edgard Matsuki</td>\n",
       "      <td>boatos.org</td>\n",
       "      <td>0.0</td>\n",
       "    </tr>\n",
       "    <tr>\n",
       "      <th>4</th>\n",
       "      <td>Montagem falsifica imagem e coloca fuzil ao la...</td>\n",
       "      <td>imagem ex presidente dilma rousseff pt sentar ...</td>\n",
       "      <td>política</td>\n",
       "      <td>2019-04-23</td>\n",
       "      <td>Anita Grando Martins</td>\n",
       "      <td>noticias.uol.com.br</td>\n",
       "      <td>0.0</td>\n",
       "    </tr>\n",
       "    <tr>\n",
       "      <th>...</th>\n",
       "      <td>...</td>\n",
       "      <td>...</td>\n",
       "      <td>...</td>\n",
       "      <td>...</td>\n",
       "      <td>...</td>\n",
       "      <td>...</td>\n",
       "      <td>...</td>\n",
       "    </tr>\n",
       "    <tr>\n",
       "      <th>11906</th>\n",
       "      <td>Ajuda de setor privado na vacinação não seria ...</td>\n",
       "      <td>o sociólogo simon schwartzman especialista bra...</td>\n",
       "      <td>saúde</td>\n",
       "      <td>2021-01-28</td>\n",
       "      <td>noticias</td>\n",
       "      <td>noticias.uol.com.br</td>\n",
       "      <td>1.0</td>\n",
       "    </tr>\n",
       "    <tr>\n",
       "      <th>11907</th>\n",
       "      <td>É  FAKE que pai de Guilherme Boulos seja dono ...</td>\n",
       "      <td>publicação rede social afirmar o pai candidata...</td>\n",
       "      <td>política</td>\n",
       "      <td>2020-11-29</td>\n",
       "      <td>Isabela Aleixo Globo</td>\n",
       "      <td>g1.globo.com</td>\n",
       "      <td>0.0</td>\n",
       "    </tr>\n",
       "    <tr>\n",
       "      <th>11908</th>\n",
       "      <td>No 2º semestre  prioridade número um é a refor...</td>\n",
       "      <td>o presidente câmara rodrigar maio dem rj afirm...</td>\n",
       "      <td>política</td>\n",
       "      <td>2020-05-07</td>\n",
       "      <td>Vin Valfr Sandra</td>\n",
       "      <td>economia.uol.com.br</td>\n",
       "      <td>1.0</td>\n",
       "    </tr>\n",
       "    <tr>\n",
       "      <th>11909</th>\n",
       "      <td>Contas do governo têm em maio pior resultado d...</td>\n",
       "      <td>crise causar pandemia coronavírus contar gover...</td>\n",
       "      <td>política</td>\n",
       "      <td>2020-06-29</td>\n",
       "      <td>Bianca Limae La</td>\n",
       "      <td>g1.globo.com</td>\n",
       "      <td>1.0</td>\n",
       "    </tr>\n",
       "    <tr>\n",
       "      <th>11910</th>\n",
       "      <td>CEO da Cinemark diz que cinemas fechados devem...</td>\n",
       "      <td>o ceo cinemark mark zoradi hoje cinema fechar ...</td>\n",
       "      <td>saúde</td>\n",
       "      <td>2020-04-15</td>\n",
       "      <td>entretenimento</td>\n",
       "      <td>entretenimento.uol.com.br</td>\n",
       "      <td>1.0</td>\n",
       "    </tr>\n",
       "  </tbody>\n",
       "</table>\n",
       "<p>11911 rows × 7 columns</p>\n",
       "</div>"
      ],
      "text/plain": [
       "                                                   title  \\\n",
       "0      Vacina contra covid 19 bancada por Bill Gates ...   \n",
       "1        Monja Coen está com sintomas de Covid 19 e f...   \n",
       "2            o homem esfaquear cachorro bar morto facada   \n",
       "3        PCC exibiu faixa  Alexandre de Moraes no STF...   \n",
       "4      Montagem falsifica imagem e coloca fuzil ao la...   \n",
       "...                                                  ...   \n",
       "11906  Ajuda de setor privado na vacinação não seria ...   \n",
       "11907  É  FAKE que pai de Guilherme Boulos seja dono ...   \n",
       "11908  No 2º semestre  prioridade número um é a refor...   \n",
       "11909  Contas do governo têm em maio pior resultado d...   \n",
       "11910  CEO da Cinemark diz que cinemas fechados devem...   \n",
       "\n",
       "                                                    text             tag  \\\n",
       "0      o laboratório financiar bilionário fundador mi...           saúde   \n",
       "1      monge coen querido conhecer alguém convênio e ...  entretenimento   \n",
       "2      o notícia surgir o quinzena janeiro o redar so...  entretenimento   \n",
       "3      alguém lembrar pcc paz justiçar e liberdade al...          brasil   \n",
       "4      imagem ex presidente dilma rousseff pt sentar ...        política   \n",
       "...                                                  ...             ...   \n",
       "11906  o sociólogo simon schwartzman especialista bra...           saúde   \n",
       "11907  publicação rede social afirmar o pai candidata...        política   \n",
       "11908  o presidente câmara rodrigar maio dem rj afirm...        política   \n",
       "11909  crise causar pandemia coronavírus contar gover...        política   \n",
       "11910  o ceo cinemark mark zoradi hoje cinema fechar ...           saúde   \n",
       "\n",
       "             date                author                        url  rating  \n",
       "0      2020-06-04                   uol                 uol.com.br     1.0  \n",
       "1      2020-08-04        Edgard Matsuki                 boatos.org     0.0  \n",
       "2      2019-01-17           gilmarlopes               e-farsas.com     0.0  \n",
       "3      2020-05-29        Edgard Matsuki                 boatos.org     0.0  \n",
       "4      2019-04-23  Anita Grando Martins        noticias.uol.com.br     0.0  \n",
       "...           ...                   ...                        ...     ...  \n",
       "11906  2021-01-28              noticias        noticias.uol.com.br     1.0  \n",
       "11907  2020-11-29  Isabela Aleixo Globo               g1.globo.com     0.0  \n",
       "11908  2020-05-07      Vin Valfr Sandra        economia.uol.com.br     1.0  \n",
       "11909  2020-06-29       Bianca Limae La               g1.globo.com     1.0  \n",
       "11910  2020-04-15        entretenimento  entretenimento.uol.com.br     1.0  \n",
       "\n",
       "[11911 rows x 7 columns]"
      ]
     },
     "execution_count": 44,
     "metadata": {},
     "output_type": "execute_result"
    }
   ],
   "source": [
    "news"
   ]
  },
  {
   "cell_type": "markdown",
   "id": "3090fc53",
   "metadata": {},
   "source": [
    "## Preparing text column  for processing"
   ]
  },
  {
   "cell_type": "code",
   "execution_count": 45,
   "id": "00e1f894",
   "metadata": {},
   "outputs": [
    {
     "data": {
      "text/plain": [
       "'ministério saudar investigar caso suspeito coronavírus brasil total infecção crescer rapidamente mundo vírus letal e causar doença grave epidemiar anterior reportagem atualizada s 17h20 29 01 20 o ministério saudar anunciar haver caso suspeito coronavírus país o informação coletiva imprensar d quarta feira 29 1 o ministério entanto nenhum caso análise provável caso notificar o início crise excluir exame descartar posteriormente'"
      ]
     },
     "execution_count": 45,
     "metadata": {},
     "output_type": "execute_result"
    }
   ],
   "source": [
    "news.text = news.text.apply(lambda x: re.sub('@\\S+', ' ', x))\n",
    "news.text[2764]"
   ]
  },
  {
   "cell_type": "code",
   "execution_count": 46,
   "id": "728762ac",
   "metadata": {},
   "outputs": [],
   "source": [
    "# Remove any monetary symbol ($)\n",
    "news.text = news.text.apply(lambda x: re.sub('\\$', ' ', x))\n",
    "\n",
    "# Remove any digits\n",
    "news.text = news.text.apply(lambda x: re.sub('\\w*\\d\\w*', ' ', x))"
   ]
  },
  {
   "cell_type": "code",
   "execution_count": 47,
   "id": "a7a778e2",
   "metadata": {},
   "outputs": [
    {
     "data": {
      "text/plain": [
       "'ministério saudar investigar caso suspeito coronavírus brasil total infecção crescer rapidamente mundo vírus letal e causar doença grave epidemiar anterior reportagem atualizada s         o ministério saudar anunciar haver caso suspeito coronavírus país o informação coletiva imprensar d quarta feira     o ministério entanto nenhum caso análise provável caso notificar o início crise excluir exame descartar posteriormente'"
      ]
     },
     "execution_count": 47,
     "metadata": {},
     "output_type": "execute_result"
    }
   ],
   "source": [
    "# Remove URLs\n",
    "news.text = news.text.apply(lambda x: re.sub('https?://\\S+|www\\.\\S+', ' ', x))\n",
    "\n",
    "# Remove URL twitter\n",
    "news.text = news.text.apply(lambda x: re.sub(r'pic.twitter.com/[\\w]*', ' ', x))\n",
    "\n",
    "# Remove bit.ly/\n",
    "news.text = news.text.apply(lambda x: re.sub('bit.ly/', ' ', x))\n",
    "\n",
    "# Remove \\xa0\n",
    "news.text = news.text.apply(lambda x: re.sub(u'\\xa0', ' ', x))\n",
    "news.text[2764]"
   ]
  },
  {
   "cell_type": "code",
   "execution_count": 48,
   "id": "72fbd08c",
   "metadata": {},
   "outputs": [],
   "source": [
    "# Remove hashtags\n",
    "news.text = news.text.apply(lambda x: re.sub('#', ' ', x))"
   ]
  },
  {
   "cell_type": "code",
   "execution_count": 49,
   "id": "bafc265f",
   "metadata": {},
   "outputs": [],
   "source": [
    "# Remove punctuation\n",
    "pont = set(string.punctuation)\n",
    "news.text = news.text.apply(lambda x: \"\".join([ch for ch in x if ch not in pont]))"
   ]
  },
  {
   "cell_type": "code",
   "execution_count": 50,
   "id": "153d3d09",
   "metadata": {},
   "outputs": [
    {
     "data": {
      "text/plain": [
       "'ministério saudar investigar caso suspeito coronavírus brasil total infecção crescer rapidamente mundo vírus letal e causar doença grave epidemiar anterior reportagem atualizada s o ministério saudar anunciar haver caso suspeito coronavírus país o informação coletiva imprensar d quarta feira o ministério entanto nenhum caso análise provável caso notificar o início crise excluir exame descartar posteriormente'"
      ]
     },
     "execution_count": 50,
     "metadata": {},
     "output_type": "execute_result"
    }
   ],
   "source": [
    "# Remove too many empty spaces\n",
    "news.text = news.text.apply(lambda x: re.sub(' +', ' ', x))\n",
    "news.text[2764]"
   ]
  },
  {
   "cell_type": "code",
   "execution_count": 51,
   "id": "58c22827",
   "metadata": {},
   "outputs": [
    {
     "data": {
      "text/plain": [
       "0.0    5958\n",
       "1.0    5953\n",
       "Name: rating, dtype: int64"
      ]
     },
     "execution_count": 51,
     "metadata": {},
     "output_type": "execute_result"
    }
   ],
   "source": [
    "news['rating'].value_counts()"
   ]
  },
  {
   "cell_type": "code",
   "execution_count": 52,
   "id": "86cca644",
   "metadata": {},
   "outputs": [
    {
     "data": {
      "text/plain": [
       "title     0\n",
       "text      0\n",
       "tag       0\n",
       "date      0\n",
       "author    0\n",
       "url       0\n",
       "rating    0\n",
       "dtype: int64"
      ]
     },
     "execution_count": 52,
     "metadata": {},
     "output_type": "execute_result"
    }
   ],
   "source": [
    "news.isna().sum()"
   ]
  },
  {
   "cell_type": "code",
   "execution_count": 53,
   "id": "611308df",
   "metadata": {},
   "outputs": [],
   "source": [
    "news.to_csv(\"news.tsv\")"
   ]
  },
  {
   "cell_type": "markdown",
   "id": "6a4cb0d5",
   "metadata": {},
   "source": [
    "## Exploring the data"
   ]
  },
  {
   "cell_type": "code",
   "execution_count": 54,
   "id": "7c9572fc",
   "metadata": {},
   "outputs": [
    {
     "data": {
      "text/html": [
       "<div>\n",
       "<style scoped>\n",
       "    .dataframe tbody tr th:only-of-type {\n",
       "        vertical-align: middle;\n",
       "    }\n",
       "\n",
       "    .dataframe tbody tr th {\n",
       "        vertical-align: top;\n",
       "    }\n",
       "\n",
       "    .dataframe thead th {\n",
       "        text-align: right;\n",
       "    }\n",
       "</style>\n",
       "<table border=\"1\" class=\"dataframe\">\n",
       "  <thead>\n",
       "    <tr style=\"text-align: right;\">\n",
       "      <th></th>\n",
       "      <th>title</th>\n",
       "      <th>text</th>\n",
       "      <th>tag</th>\n",
       "      <th>date</th>\n",
       "      <th>author</th>\n",
       "      <th>url</th>\n",
       "      <th>rating</th>\n",
       "    </tr>\n",
       "  </thead>\n",
       "  <tbody>\n",
       "    <tr>\n",
       "      <th>count</th>\n",
       "      <td>11911</td>\n",
       "      <td>11911</td>\n",
       "      <td>11911</td>\n",
       "      <td>11911</td>\n",
       "      <td>11911</td>\n",
       "      <td>11911</td>\n",
       "      <td>11911.000000</td>\n",
       "    </tr>\n",
       "    <tr>\n",
       "      <th>unique</th>\n",
       "      <td>11701</td>\n",
       "      <td>11909</td>\n",
       "      <td>7</td>\n",
       "      <td>1145</td>\n",
       "      <td>1395</td>\n",
       "      <td>16</td>\n",
       "      <td>NaN</td>\n",
       "    </tr>\n",
       "    <tr>\n",
       "      <th>top</th>\n",
       "      <td>Veja o que é  FATO ou  FAKE nas declarações do...</td>\n",
       "      <td>balançar vacinação covid d segunda feira pesso...</td>\n",
       "      <td>saúde</td>\n",
       "      <td>2022-05-24</td>\n",
       "      <td>noticias</td>\n",
       "      <td>noticias.uol.com.br</td>\n",
       "      <td>NaN</td>\n",
       "    </tr>\n",
       "    <tr>\n",
       "      <th>freq</th>\n",
       "      <td>12</td>\n",
       "      <td>2</td>\n",
       "      <td>4458</td>\n",
       "      <td>222</td>\n",
       "      <td>2343</td>\n",
       "      <td>4025</td>\n",
       "      <td>NaN</td>\n",
       "    </tr>\n",
       "    <tr>\n",
       "      <th>mean</th>\n",
       "      <td>NaN</td>\n",
       "      <td>NaN</td>\n",
       "      <td>NaN</td>\n",
       "      <td>NaN</td>\n",
       "      <td>NaN</td>\n",
       "      <td>NaN</td>\n",
       "      <td>0.499790</td>\n",
       "    </tr>\n",
       "    <tr>\n",
       "      <th>std</th>\n",
       "      <td>NaN</td>\n",
       "      <td>NaN</td>\n",
       "      <td>NaN</td>\n",
       "      <td>NaN</td>\n",
       "      <td>NaN</td>\n",
       "      <td>NaN</td>\n",
       "      <td>0.500021</td>\n",
       "    </tr>\n",
       "    <tr>\n",
       "      <th>min</th>\n",
       "      <td>NaN</td>\n",
       "      <td>NaN</td>\n",
       "      <td>NaN</td>\n",
       "      <td>NaN</td>\n",
       "      <td>NaN</td>\n",
       "      <td>NaN</td>\n",
       "      <td>0.000000</td>\n",
       "    </tr>\n",
       "    <tr>\n",
       "      <th>25%</th>\n",
       "      <td>NaN</td>\n",
       "      <td>NaN</td>\n",
       "      <td>NaN</td>\n",
       "      <td>NaN</td>\n",
       "      <td>NaN</td>\n",
       "      <td>NaN</td>\n",
       "      <td>0.000000</td>\n",
       "    </tr>\n",
       "    <tr>\n",
       "      <th>50%</th>\n",
       "      <td>NaN</td>\n",
       "      <td>NaN</td>\n",
       "      <td>NaN</td>\n",
       "      <td>NaN</td>\n",
       "      <td>NaN</td>\n",
       "      <td>NaN</td>\n",
       "      <td>0.000000</td>\n",
       "    </tr>\n",
       "    <tr>\n",
       "      <th>75%</th>\n",
       "      <td>NaN</td>\n",
       "      <td>NaN</td>\n",
       "      <td>NaN</td>\n",
       "      <td>NaN</td>\n",
       "      <td>NaN</td>\n",
       "      <td>NaN</td>\n",
       "      <td>1.000000</td>\n",
       "    </tr>\n",
       "    <tr>\n",
       "      <th>max</th>\n",
       "      <td>NaN</td>\n",
       "      <td>NaN</td>\n",
       "      <td>NaN</td>\n",
       "      <td>NaN</td>\n",
       "      <td>NaN</td>\n",
       "      <td>NaN</td>\n",
       "      <td>1.000000</td>\n",
       "    </tr>\n",
       "  </tbody>\n",
       "</table>\n",
       "</div>"
      ],
      "text/plain": [
       "                                                    title  \\\n",
       "count                                               11911   \n",
       "unique                                              11701   \n",
       "top     Veja o que é  FATO ou  FAKE nas declarações do...   \n",
       "freq                                                   12   \n",
       "mean                                                  NaN   \n",
       "std                                                   NaN   \n",
       "min                                                   NaN   \n",
       "25%                                                   NaN   \n",
       "50%                                                   NaN   \n",
       "75%                                                   NaN   \n",
       "max                                                   NaN   \n",
       "\n",
       "                                                     text    tag        date  \\\n",
       "count                                               11911  11911       11911   \n",
       "unique                                              11909      7        1145   \n",
       "top     balançar vacinação covid d segunda feira pesso...  saúde  2022-05-24   \n",
       "freq                                                    2   4458         222   \n",
       "mean                                                  NaN    NaN         NaN   \n",
       "std                                                   NaN    NaN         NaN   \n",
       "min                                                   NaN    NaN         NaN   \n",
       "25%                                                   NaN    NaN         NaN   \n",
       "50%                                                   NaN    NaN         NaN   \n",
       "75%                                                   NaN    NaN         NaN   \n",
       "max                                                   NaN    NaN         NaN   \n",
       "\n",
       "          author                  url        rating  \n",
       "count      11911                11911  11911.000000  \n",
       "unique      1395                   16           NaN  \n",
       "top     noticias  noticias.uol.com.br           NaN  \n",
       "freq        2343                 4025           NaN  \n",
       "mean         NaN                  NaN      0.499790  \n",
       "std          NaN                  NaN      0.500021  \n",
       "min          NaN                  NaN      0.000000  \n",
       "25%          NaN                  NaN      0.000000  \n",
       "50%          NaN                  NaN      0.000000  \n",
       "75%          NaN                  NaN      1.000000  \n",
       "max          NaN                  NaN      1.000000  "
      ]
     },
     "execution_count": 54,
     "metadata": {},
     "output_type": "execute_result"
    }
   ],
   "source": [
    "# Describe\n",
    "news.describe(exclude = np.datetime64, datetime_is_numeric = True)"
   ]
  },
  {
   "cell_type": "code",
   "execution_count": 55,
   "id": "da370687",
   "metadata": {},
   "outputs": [],
   "source": [
    "## Checking for data balance"
   ]
  },
  {
   "cell_type": "code",
   "execution_count": 56,
   "id": "28419312",
   "metadata": {},
   "outputs": [],
   "source": [
    "rate=pd.get_dummies(news.rating)[0.0]"
   ]
  },
  {
   "cell_type": "code",
   "execution_count": 57,
   "id": "f244978f",
   "metadata": {},
   "outputs": [],
   "source": [
    "label_size = [rate.sum(),len(rate)-rate.sum()]"
   ]
  },
  {
   "cell_type": "code",
   "execution_count": 58,
   "id": "b9f15b2d",
   "metadata": {},
   "outputs": [
    {
     "data": {
      "text/plain": [
       "([<matplotlib.patches.Wedge at 0x1c3015d9c10>,\n",
       "  <matplotlib.patches.Wedge at 0x1c3016a5520>],\n",
       " [Text(-1.1999997391785902, -0.0007911834906489696, 'Fake'),\n",
       "  Text(1.1999997392526607, 0.0007910711385648222, 'Real')],\n",
       " [Text(-0.6999998478541775, -0.00046152370287856555, '50.0%'),\n",
       "  Text(0.6999998478973855, 0.0004614581641628129, '50.0%')])"
      ]
     },
     "execution_count": 58,
     "metadata": {},
     "output_type": "execute_result"
    },
    {
     "data": {
      "image/png": "[encoded data removed]",
      "text/plain": [
       "<Figure size 432x288 with 1 Axes>"
      ]
     },
     "metadata": {},
     "output_type": "display_data"
    }
   ],
   "source": [
    "plt.pie(label_size,explode=[0.1,0.1],colors=['firebrick','green'],startangle=90,shadow=True,labels=['Fake','Real'],autopct='%1.1f%%')"
   ]
  },
  {
   "cell_type": "code",
   "execution_count": 59,
   "id": "a3f2a0bb",
   "metadata": {},
   "outputs": [
    {
     "data": {
      "image/png": "[encoded data removed]",
      "text/plain": [
       "<Figure size 936x576 with 1 Axes>"
      ]
     },
     "metadata": {
      "needs_background": "light"
     },
     "output_type": "display_data"
    }
   ],
   "source": [
    "# Number of articles per tag\n",
    "topics = list(news.tag.value_counts().sort_index().index)\n",
    "values = list(news.tag.value_counts().sort_index().values)\n",
    " \n",
    "plt.figure(figsize = (13, 8))\n",
    "\n",
    "plt.bar(topics, values)\n",
    "\n",
    "for index,data in enumerate(values):\n",
    "    plt.text(x = (index-0.215), y = (data*1.02), s = data, fontweight = 'bold', fontdict = dict(fontsize = 12))\n",
    "\n",
    "plt.title(\"Number of Articles per Subject\", weight = 'bold', size = 12)\n",
    "#plt.xlabel(\"Subjects\", size = 12)\n",
    "plt.ylabel(\"Number of articles\", size = 12)\n",
    "plt.ylim(0, 12500)\n",
    "plt.show()"
   ]
  },
  {
   "cell_type": "code",
   "execution_count": 60,
   "id": "54fc3e34",
   "metadata": {},
   "outputs": [
    {
     "name": "stderr",
     "output_type": "stream",
     "text": [
      "C:\\Users\\franc\\anaconda3\\lib\\site-packages\\seaborn\\_decorators.py:36: FutureWarning: Pass the following variable as a keyword arg: x. From version 0.12, the only valid positional argument will be `data`, and passing other arguments without an explicit keyword will result in an error or misinterpretation.\n",
      "  warnings.warn(\n"
     ]
    },
    {
     "data": {
      "image/png": "[encoded data removed]",
      "text/plain": [
       "<Figure size 432x288 with 1 Axes>"
      ]
     },
     "metadata": {
      "needs_background": "light"
     },
     "output_type": "display_data"
    }
   ],
   "source": [
    "import seaborn as sns\n",
    "sns.countplot(news.tag,palette='plasma')\n",
    "plt.xticks(rotation=90)\n",
    "plt.xlabel(\"Subjects\", size = 10)\n",
    "plt.ylabel(\"Number of articles\", size = 10)\n",
    "plt.ylim(0, 12500)\n",
    "plt.grid(True)"
   ]
  },
  {
   "cell_type": "code",
   "execution_count": 61,
   "id": "416372ea",
   "metadata": {},
   "outputs": [],
   "source": [
    "#Correlation between subject and fake news"
   ]
  },
  {
   "cell_type": "code",
   "execution_count": 62,
   "id": "f197efbc",
   "metadata": {},
   "outputs": [],
   "source": [
    "news_tag = pd.get_dummies(news.tag)"
   ]
  },
  {
   "cell_type": "code",
   "execution_count": 63,
   "id": "126ef6e2",
   "metadata": {},
   "outputs": [],
   "source": [
    "news_tag['rating'] = pd.get_dummies(news.rating)[0.0]"
   ]
  },
  {
   "cell_type": "code",
   "execution_count": 64,
   "id": "5b06356f",
   "metadata": {},
   "outputs": [],
   "source": [
    "corr_data = abs(pd.DataFrame(news_tag.corr()['rating'])).drop('rating')"
   ]
  },
  {
   "cell_type": "code",
   "execution_count": 65,
   "id": "ce7cfcfb",
   "metadata": {},
   "outputs": [
    {
     "data": {
      "text/html": [
       "<div>\n",
       "<style scoped>\n",
       "    .dataframe tbody tr th:only-of-type {\n",
       "        vertical-align: middle;\n",
       "    }\n",
       "\n",
       "    .dataframe tbody tr th {\n",
       "        vertical-align: top;\n",
       "    }\n",
       "\n",
       "    .dataframe thead th {\n",
       "        text-align: right;\n",
       "    }\n",
       "</style>\n",
       "<table border=\"1\" class=\"dataframe\">\n",
       "  <thead>\n",
       "    <tr style=\"text-align: right;\">\n",
       "      <th></th>\n",
       "      <th>rating</th>\n",
       "    </tr>\n",
       "  </thead>\n",
       "  <tbody>\n",
       "    <tr>\n",
       "      <th>brasil</th>\n",
       "      <td>0.242460</td>\n",
       "    </tr>\n",
       "    <tr>\n",
       "      <th>ciência</th>\n",
       "      <td>0.093122</td>\n",
       "    </tr>\n",
       "    <tr>\n",
       "      <th>entretenimento</th>\n",
       "      <td>0.343474</td>\n",
       "    </tr>\n",
       "    <tr>\n",
       "      <th>indisponível</th>\n",
       "      <td>0.143341</td>\n",
       "    </tr>\n",
       "    <tr>\n",
       "      <th>mundo</th>\n",
       "      <td>0.223030</td>\n",
       "    </tr>\n",
       "    <tr>\n",
       "      <th>política</th>\n",
       "      <td>0.074934</td>\n",
       "    </tr>\n",
       "    <tr>\n",
       "      <th>saúde</th>\n",
       "      <td>0.378871</td>\n",
       "    </tr>\n",
       "  </tbody>\n",
       "</table>\n",
       "</div>"
      ],
      "text/plain": [
       "                  rating\n",
       "brasil          0.242460\n",
       "ciência         0.093122\n",
       "entretenimento  0.343474\n",
       "indisponível    0.143341\n",
       "mundo           0.223030\n",
       "política        0.074934\n",
       "saúde           0.378871"
      ]
     },
     "execution_count": 65,
     "metadata": {},
     "output_type": "execute_result"
    }
   ],
   "source": [
    "corr_data"
   ]
  },
  {
   "cell_type": "code",
   "execution_count": 66,
   "id": "01b1ec7f",
   "metadata": {},
   "outputs": [
    {
     "data": {
      "text/plain": [
       "Text(0, 0.5, 'Correlation')"
      ]
     },
     "execution_count": 66,
     "metadata": {},
     "output_type": "execute_result"
    },
    {
     "data": {
      "image/png": "[encoded data removed]",
      "text/plain": [
       "<Figure size 432x288 with 1 Axes>"
      ]
     },
     "metadata": {
      "needs_background": "light"
     },
     "output_type": "display_data"
    }
   ],
   "source": [
    "sns.barplot(x=corr_data.index,y=corr_data.rating,palette='plasma')\n",
    "plt.xticks(rotation=90)\n",
    "plt.grid(True)\n",
    "plt.ylabel('Correlation')"
   ]
  },
  {
   "cell_type": "code",
   "execution_count": 67,
   "id": "0447a423",
   "metadata": {},
   "outputs": [
    {
     "data": {
      "text/plain": [
       "2020-04    749\n",
       "2020-05    674\n",
       "2020-03    673\n",
       "2020-07    646\n",
       "2020-11    621\n",
       "          ... \n",
       "2018-07      2\n",
       "2012-09      1\n",
       "2016-04      1\n",
       "2014-08      1\n",
       "2017-09      1\n",
       "Freq: M, Name: date, Length: 64, dtype: int64"
      ]
     },
     "execution_count": 67,
     "metadata": {},
     "output_type": "execute_result"
    }
   ],
   "source": [
    "# Number of fake articles ber month-year \n",
    "news['date'] = pd.to_datetime(news['date'], errors='coerce')\n",
    "news.date.dt.to_period('M').value_counts()"
   ]
  },
  {
   "cell_type": "code",
   "execution_count": 68,
   "id": "e41d8b1a",
   "metadata": {},
   "outputs": [
    {
     "data": {
      "text/html": [
       "<div>\n",
       "<style scoped>\n",
       "    .dataframe tbody tr th:only-of-type {\n",
       "        vertical-align: middle;\n",
       "    }\n",
       "\n",
       "    .dataframe tbody tr th {\n",
       "        vertical-align: top;\n",
       "    }\n",
       "\n",
       "    .dataframe thead th {\n",
       "        text-align: right;\n",
       "    }\n",
       "</style>\n",
       "<table border=\"1\" class=\"dataframe\">\n",
       "  <thead>\n",
       "    <tr style=\"text-align: right;\">\n",
       "      <th></th>\n",
       "      <th>title</th>\n",
       "      <th>text</th>\n",
       "      <th>tag</th>\n",
       "      <th>date</th>\n",
       "      <th>author</th>\n",
       "      <th>url</th>\n",
       "      <th>rating</th>\n",
       "    </tr>\n",
       "  </thead>\n",
       "  <tbody>\n",
       "    <tr>\n",
       "      <th>0</th>\n",
       "      <td>Vacina contra covid 19 bancada por Bill Gates ...</td>\n",
       "      <td>o laboratório financiar bilionário fundador mi...</td>\n",
       "      <td>saúde</td>\n",
       "      <td>2020-06</td>\n",
       "      <td>uol</td>\n",
       "      <td>uol.com.br</td>\n",
       "      <td>1.0</td>\n",
       "    </tr>\n",
       "    <tr>\n",
       "      <th>1</th>\n",
       "      <td>Monja Coen está com sintomas de Covid 19 e f...</td>\n",
       "      <td>monge coen querido conhecer alguém convênio e ...</td>\n",
       "      <td>entretenimento</td>\n",
       "      <td>2020-08</td>\n",
       "      <td>Edgard Matsuki</td>\n",
       "      <td>boatos.org</td>\n",
       "      <td>0.0</td>\n",
       "    </tr>\n",
       "  </tbody>\n",
       "</table>\n",
       "</div>"
      ],
      "text/plain": [
       "                                               title  \\\n",
       "0  Vacina contra covid 19 bancada por Bill Gates ...   \n",
       "1    Monja Coen está com sintomas de Covid 19 e f...   \n",
       "\n",
       "                                                text             tag     date  \\\n",
       "0  o laboratório financiar bilionário fundador mi...           saúde  2020-06   \n",
       "1  monge coen querido conhecer alguém convênio e ...  entretenimento  2020-08   \n",
       "\n",
       "           author         url  rating  \n",
       "0             uol  uol.com.br     1.0  \n",
       "1  Edgard Matsuki  boatos.org     0.0  "
      ]
     },
     "execution_count": 68,
     "metadata": {},
     "output_type": "execute_result"
    }
   ],
   "source": [
    "# Selecting only month and year\n",
    "news.date = news.date.dt.to_period('M')\n",
    "news.head(2)"
   ]
  },
  {
   "cell_type": "code",
   "execution_count": 69,
   "id": "0599ca68",
   "metadata": {},
   "outputs": [
    {
     "data": {
      "text/html": [
       "<div>\n",
       "<style scoped>\n",
       "    .dataframe tbody tr th:only-of-type {\n",
       "        vertical-align: middle;\n",
       "    }\n",
       "\n",
       "    .dataframe tbody tr th {\n",
       "        vertical-align: top;\n",
       "    }\n",
       "\n",
       "    .dataframe thead th {\n",
       "        text-align: right;\n",
       "    }\n",
       "</style>\n",
       "<table border=\"1\" class=\"dataframe\">\n",
       "  <thead>\n",
       "    <tr style=\"text-align: right;\">\n",
       "      <th></th>\n",
       "      <th>title</th>\n",
       "      <th>text</th>\n",
       "      <th>tag</th>\n",
       "      <th>date</th>\n",
       "      <th>author</th>\n",
       "      <th>url</th>\n",
       "      <th>rating</th>\n",
       "      <th>month</th>\n",
       "      <th>year</th>\n",
       "    </tr>\n",
       "  </thead>\n",
       "  <tbody>\n",
       "    <tr>\n",
       "      <th>0</th>\n",
       "      <td>Vacina contra covid 19 bancada por Bill Gates ...</td>\n",
       "      <td>o laboratório financiar bilionário fundador mi...</td>\n",
       "      <td>saúde</td>\n",
       "      <td>2020-06</td>\n",
       "      <td>uol</td>\n",
       "      <td>uol.com.br</td>\n",
       "      <td>1.0</td>\n",
       "      <td>Jun</td>\n",
       "      <td>2020</td>\n",
       "    </tr>\n",
       "    <tr>\n",
       "      <th>1</th>\n",
       "      <td>Monja Coen está com sintomas de Covid 19 e f...</td>\n",
       "      <td>monge coen querido conhecer alguém convênio e ...</td>\n",
       "      <td>entretenimento</td>\n",
       "      <td>2020-08</td>\n",
       "      <td>Edgard Matsuki</td>\n",
       "      <td>boatos.org</td>\n",
       "      <td>0.0</td>\n",
       "      <td>Aug</td>\n",
       "      <td>2020</td>\n",
       "    </tr>\n",
       "  </tbody>\n",
       "</table>\n",
       "</div>"
      ],
      "text/plain": [
       "                                               title  \\\n",
       "0  Vacina contra covid 19 bancada por Bill Gates ...   \n",
       "1    Monja Coen está com sintomas de Covid 19 e f...   \n",
       "\n",
       "                                                text             tag     date  \\\n",
       "0  o laboratório financiar bilionário fundador mi...           saúde  2020-06   \n",
       "1  monge coen querido conhecer alguém convênio e ...  entretenimento  2020-08   \n",
       "\n",
       "           author         url  rating month  year  \n",
       "0             uol  uol.com.br     1.0   Jun  2020  \n",
       "1  Edgard Matsuki  boatos.org     0.0   Aug  2020  "
      ]
     },
     "execution_count": 69,
     "metadata": {},
     "output_type": "execute_result"
    }
   ],
   "source": [
    "# Criando colunas com mês e ano separados da coluna com datas\n",
    "news['month'] = news.date.dt.month.apply(lambda x: calendar.month_abbr[x])\n",
    "news['year'] = news.date.dt.year\n",
    "news.head(2)"
   ]
  },
  {
   "cell_type": "code",
   "execution_count": 70,
   "id": "a5705888",
   "metadata": {
    "scrolled": true
   },
   "outputs": [
    {
     "data": {
      "text/html": [
       "<div>\n",
       "<style scoped>\n",
       "    .dataframe tbody tr th:only-of-type {\n",
       "        vertical-align: middle;\n",
       "    }\n",
       "\n",
       "    .dataframe tbody tr th {\n",
       "        vertical-align: top;\n",
       "    }\n",
       "\n",
       "    .dataframe thead th {\n",
       "        text-align: right;\n",
       "    }\n",
       "</style>\n",
       "<table border=\"1\" class=\"dataframe\">\n",
       "  <thead>\n",
       "    <tr style=\"text-align: right;\">\n",
       "      <th>year</th>\n",
       "      <th>2012</th>\n",
       "      <th>2014</th>\n",
       "      <th>2016</th>\n",
       "      <th>2017</th>\n",
       "      <th>2018</th>\n",
       "      <th>2019</th>\n",
       "      <th>2020</th>\n",
       "      <th>2021</th>\n",
       "      <th>2022</th>\n",
       "    </tr>\n",
       "    <tr>\n",
       "      <th>month</th>\n",
       "      <th></th>\n",
       "      <th></th>\n",
       "      <th></th>\n",
       "      <th></th>\n",
       "      <th></th>\n",
       "      <th></th>\n",
       "      <th></th>\n",
       "      <th></th>\n",
       "      <th></th>\n",
       "    </tr>\n",
       "  </thead>\n",
       "  <tbody>\n",
       "    <tr>\n",
       "      <th>Jan</th>\n",
       "      <td>0</td>\n",
       "      <td>0</td>\n",
       "      <td>0</td>\n",
       "      <td>0</td>\n",
       "      <td>2</td>\n",
       "      <td>135</td>\n",
       "      <td>321</td>\n",
       "      <td>471</td>\n",
       "      <td>49</td>\n",
       "    </tr>\n",
       "    <tr>\n",
       "      <th>Feb</th>\n",
       "      <td>0</td>\n",
       "      <td>0</td>\n",
       "      <td>0</td>\n",
       "      <td>0</td>\n",
       "      <td>3</td>\n",
       "      <td>95</td>\n",
       "      <td>346</td>\n",
       "      <td>356</td>\n",
       "      <td>66</td>\n",
       "    </tr>\n",
       "    <tr>\n",
       "      <th>Mar</th>\n",
       "      <td>0</td>\n",
       "      <td>0</td>\n",
       "      <td>0</td>\n",
       "      <td>0</td>\n",
       "      <td>3</td>\n",
       "      <td>117</td>\n",
       "      <td>673</td>\n",
       "      <td>474</td>\n",
       "      <td>90</td>\n",
       "    </tr>\n",
       "    <tr>\n",
       "      <th>Apr</th>\n",
       "      <td>0</td>\n",
       "      <td>0</td>\n",
       "      <td>1</td>\n",
       "      <td>0</td>\n",
       "      <td>3</td>\n",
       "      <td>103</td>\n",
       "      <td>749</td>\n",
       "      <td>398</td>\n",
       "      <td>81</td>\n",
       "    </tr>\n",
       "    <tr>\n",
       "      <th>May</th>\n",
       "      <td>0</td>\n",
       "      <td>0</td>\n",
       "      <td>0</td>\n",
       "      <td>0</td>\n",
       "      <td>4</td>\n",
       "      <td>136</td>\n",
       "      <td>674</td>\n",
       "      <td>399</td>\n",
       "      <td>273</td>\n",
       "    </tr>\n",
       "    <tr>\n",
       "      <th>Jun</th>\n",
       "      <td>0</td>\n",
       "      <td>0</td>\n",
       "      <td>0</td>\n",
       "      <td>0</td>\n",
       "      <td>5</td>\n",
       "      <td>115</td>\n",
       "      <td>547</td>\n",
       "      <td>202</td>\n",
       "      <td>7</td>\n",
       "    </tr>\n",
       "    <tr>\n",
       "      <th>Jul</th>\n",
       "      <td>0</td>\n",
       "      <td>0</td>\n",
       "      <td>0</td>\n",
       "      <td>0</td>\n",
       "      <td>2</td>\n",
       "      <td>110</td>\n",
       "      <td>646</td>\n",
       "      <td>210</td>\n",
       "      <td>3</td>\n",
       "    </tr>\n",
       "    <tr>\n",
       "      <th>Aug</th>\n",
       "      <td>0</td>\n",
       "      <td>1</td>\n",
       "      <td>0</td>\n",
       "      <td>0</td>\n",
       "      <td>4</td>\n",
       "      <td>132</td>\n",
       "      <td>591</td>\n",
       "      <td>169</td>\n",
       "      <td>5</td>\n",
       "    </tr>\n",
       "    <tr>\n",
       "      <th>Sep</th>\n",
       "      <td>1</td>\n",
       "      <td>0</td>\n",
       "      <td>0</td>\n",
       "      <td>1</td>\n",
       "      <td>4</td>\n",
       "      <td>128</td>\n",
       "      <td>509</td>\n",
       "      <td>93</td>\n",
       "      <td>7</td>\n",
       "    </tr>\n",
       "    <tr>\n",
       "      <th>Oct</th>\n",
       "      <td>0</td>\n",
       "      <td>0</td>\n",
       "      <td>0</td>\n",
       "      <td>0</td>\n",
       "      <td>2</td>\n",
       "      <td>148</td>\n",
       "      <td>568</td>\n",
       "      <td>80</td>\n",
       "      <td>7</td>\n",
       "    </tr>\n",
       "    <tr>\n",
       "      <th>Nov</th>\n",
       "      <td>0</td>\n",
       "      <td>0</td>\n",
       "      <td>0</td>\n",
       "      <td>0</td>\n",
       "      <td>13</td>\n",
       "      <td>161</td>\n",
       "      <td>621</td>\n",
       "      <td>88</td>\n",
       "      <td>6</td>\n",
       "    </tr>\n",
       "    <tr>\n",
       "      <th>Dec</th>\n",
       "      <td>0</td>\n",
       "      <td>0</td>\n",
       "      <td>0</td>\n",
       "      <td>0</td>\n",
       "      <td>48</td>\n",
       "      <td>114</td>\n",
       "      <td>434</td>\n",
       "      <td>104</td>\n",
       "      <td>3</td>\n",
       "    </tr>\n",
       "  </tbody>\n",
       "</table>\n",
       "</div>"
      ],
      "text/plain": [
       "year   2012  2014  2016  2017  2018  2019  2020  2021  2022\n",
       "month                                                      \n",
       "Jan       0     0     0     0     2   135   321   471    49\n",
       "Feb       0     0     0     0     3    95   346   356    66\n",
       "Mar       0     0     0     0     3   117   673   474    90\n",
       "Apr       0     0     1     0     3   103   749   398    81\n",
       "May       0     0     0     0     4   136   674   399   273\n",
       "Jun       0     0     0     0     5   115   547   202     7\n",
       "Jul       0     0     0     0     2   110   646   210     3\n",
       "Aug       0     1     0     0     4   132   591   169     5\n",
       "Sep       1     0     0     1     4   128   509    93     7\n",
       "Oct       0     0     0     0     2   148   568    80     7\n",
       "Nov       0     0     0     0    13   161   621    88     6\n",
       "Dec       0     0     0     0    48   114   434   104     3"
      ]
     },
     "execution_count": 70,
     "metadata": {},
     "output_type": "execute_result"
    }
   ],
   "source": [
    "# Creating pivot table to build the graph\n",
    "news_pv = pd.pivot_table(news, index = news.month, columns = news.year, \n",
    "                            values = 'title', aggfunc = 'count', fill_value = 0)\n",
    "news_pv = news_pv.reindex(['Jan', 'Feb', 'Mar', 'Apr', 'May', 'Jun', 'Jul', 'Aug',\n",
    "                                           'Sep', 'Oct', 'Nov', 'Dec'])\n",
    "news_pv"
   ]
  },
  {
   "cell_type": "code",
   "execution_count": 71,
   "id": "ef603191",
   "metadata": {},
   "outputs": [
    {
     "data": {
      "image/png": "[encoded data removed]",
      "text/plain": [
       "<Figure size 792x432 with 1 Axes>"
      ]
     },
     "metadata": {
      "needs_background": "light"
     },
     "output_type": "display_data"
    }
   ],
   "source": [
    "# Graph articles by month and year\n",
    "ax = news_pv.plot(figsize = (11, 6))\n",
    "\n",
    "ax.set_title('Number of Articles by Month and Year', weight = 'bold', size = 12)\n",
    "ax.set_xlabel('Months', weight = 'bold', size = 12)\n",
    "ax.set_ylabel('Number of articles', weight = 'bold', size = 12)\n",
    "ax.set_xticks(np.arange(0, 12))\n",
    "ax.set_xticklabels(news_pv.index)\n",
    "ax.axis(ymin = 0, ymax = 1000)\n",
    "ax.legend(loc = 'upper right', bbox_to_anchor = (1.12, 1.0));"
   ]
  },
  {
   "cell_type": "code",
   "execution_count": 101,
   "id": "03d3bac2",
   "metadata": {},
   "outputs": [],
   "source": [
    "def remove_stopwords(l):\n",
    "    stopwords.words('portuguese')\n",
    "    without_sw = [word for word in l if not word in stopwords.words()]\n",
    "    \" \".join(without_sw)\n",
    "    return without_sw"
   ]
  },
  {
   "cell_type": "code",
   "execution_count": 103,
   "id": "54e98305",
   "metadata": {},
   "outputs": [
    {
     "ename": "KeyboardInterrupt",
     "evalue": "",
     "output_type": "error",
     "traceback": [
      "\u001b[1;31m---------------------------------------------------------------------------\u001b[0m",
      "\u001b[1;31mKeyboardInterrupt\u001b[0m                         Traceback (most recent call last)",
      "\u001b[1;32m~\\AppData\\Local\\Temp/ipykernel_7576/2157872894.py\u001b[0m in \u001b[0;36m<module>\u001b[1;34m\u001b[0m\n\u001b[0;32m      1\u001b[0m \u001b[1;32mfor\u001b[0m \u001b[0mcolumn\u001b[0m \u001b[1;32min\u001b[0m \u001b[0mnews\u001b[0m\u001b[1;33m.\u001b[0m\u001b[0mcolumns\u001b[0m\u001b[1;33m:\u001b[0m\u001b[1;33m\u001b[0m\u001b[1;33m\u001b[0m\u001b[0m\n\u001b[1;32m----> 2\u001b[1;33m     \u001b[0mnews\u001b[0m\u001b[1;33m[\u001b[0m\u001b[0mcolumn\u001b[0m\u001b[1;33m]\u001b[0m \u001b[1;33m=\u001b[0m \u001b[0mnews\u001b[0m\u001b[1;33m[\u001b[0m\u001b[0mcolumn\u001b[0m\u001b[1;33m]\u001b[0m\u001b[1;33m.\u001b[0m\u001b[0mapply\u001b[0m\u001b[1;33m(\u001b[0m\u001b[0mremove_stopwords\u001b[0m\u001b[1;33m)\u001b[0m\u001b[1;33m\u001b[0m\u001b[1;33m\u001b[0m\u001b[0m\n\u001b[0m",
      "\u001b[1;32m~\\anaconda3\\lib\\site-packages\\pandas\\core\\series.py\u001b[0m in \u001b[0;36mapply\u001b[1;34m(self, func, convert_dtype, args, **kwargs)\u001b[0m\n\u001b[0;32m   4355\u001b[0m         \u001b[0mdtype\u001b[0m\u001b[1;33m:\u001b[0m \u001b[0mfloat64\u001b[0m\u001b[1;33m\u001b[0m\u001b[1;33m\u001b[0m\u001b[0m\n\u001b[0;32m   4356\u001b[0m         \"\"\"\n\u001b[1;32m-> 4357\u001b[1;33m         \u001b[1;32mreturn\u001b[0m \u001b[0mSeriesApply\u001b[0m\u001b[1;33m(\u001b[0m\u001b[0mself\u001b[0m\u001b[1;33m,\u001b[0m \u001b[0mfunc\u001b[0m\u001b[1;33m,\u001b[0m \u001b[0mconvert_dtype\u001b[0m\u001b[1;33m,\u001b[0m \u001b[0margs\u001b[0m\u001b[1;33m,\u001b[0m \u001b[0mkwargs\u001b[0m\u001b[1;33m)\u001b[0m\u001b[1;33m.\u001b[0m\u001b[0mapply\u001b[0m\u001b[1;33m(\u001b[0m\u001b[1;33m)\u001b[0m\u001b[1;33m\u001b[0m\u001b[1;33m\u001b[0m\u001b[0m\n\u001b[0m\u001b[0;32m   4358\u001b[0m \u001b[1;33m\u001b[0m\u001b[0m\n\u001b[0;32m   4359\u001b[0m     def _reduce(\n",
      "\u001b[1;32m~\\anaconda3\\lib\\site-packages\\pandas\\core\\apply.py\u001b[0m in \u001b[0;36mapply\u001b[1;34m(self)\u001b[0m\n\u001b[0;32m   1041\u001b[0m             \u001b[1;32mreturn\u001b[0m \u001b[0mself\u001b[0m\u001b[1;33m.\u001b[0m\u001b[0mapply_str\u001b[0m\u001b[1;33m(\u001b[0m\u001b[1;33m)\u001b[0m\u001b[1;33m\u001b[0m\u001b[1;33m\u001b[0m\u001b[0m\n\u001b[0;32m   1042\u001b[0m \u001b[1;33m\u001b[0m\u001b[0m\n\u001b[1;32m-> 1043\u001b[1;33m         \u001b[1;32mreturn\u001b[0m \u001b[0mself\u001b[0m\u001b[1;33m.\u001b[0m\u001b[0mapply_standard\u001b[0m\u001b[1;33m(\u001b[0m\u001b[1;33m)\u001b[0m\u001b[1;33m\u001b[0m\u001b[1;33m\u001b[0m\u001b[0m\n\u001b[0m\u001b[0;32m   1044\u001b[0m \u001b[1;33m\u001b[0m\u001b[0m\n\u001b[0;32m   1045\u001b[0m     \u001b[1;32mdef\u001b[0m \u001b[0magg\u001b[0m\u001b[1;33m(\u001b[0m\u001b[0mself\u001b[0m\u001b[1;33m)\u001b[0m\u001b[1;33m:\u001b[0m\u001b[1;33m\u001b[0m\u001b[1;33m\u001b[0m\u001b[0m\n",
      "\u001b[1;32m~\\anaconda3\\lib\\site-packages\\pandas\\core\\apply.py\u001b[0m in \u001b[0;36mapply_standard\u001b[1;34m(self)\u001b[0m\n\u001b[0;32m   1096\u001b[0m                 \u001b[1;31m# List[Union[Callable[..., Any], str]]]]]\"; expected\u001b[0m\u001b[1;33m\u001b[0m\u001b[1;33m\u001b[0m\u001b[0m\n\u001b[0;32m   1097\u001b[0m                 \u001b[1;31m# \"Callable[[Any], Any]\"\u001b[0m\u001b[1;33m\u001b[0m\u001b[1;33m\u001b[0m\u001b[0m\n\u001b[1;32m-> 1098\u001b[1;33m                 mapped = lib.map_infer(\n\u001b[0m\u001b[0;32m   1099\u001b[0m                     \u001b[0mvalues\u001b[0m\u001b[1;33m,\u001b[0m\u001b[1;33m\u001b[0m\u001b[1;33m\u001b[0m\u001b[0m\n\u001b[0;32m   1100\u001b[0m                     \u001b[0mf\u001b[0m\u001b[1;33m,\u001b[0m  \u001b[1;31m# type: ignore[arg-type]\u001b[0m\u001b[1;33m\u001b[0m\u001b[1;33m\u001b[0m\u001b[0m\n",
      "\u001b[1;32m~\\anaconda3\\lib\\site-packages\\pandas\\_libs\\lib.pyx\u001b[0m in \u001b[0;36mpandas._libs.lib.map_infer\u001b[1;34m()\u001b[0m\n",
      "\u001b[1;32m~\\AppData\\Local\\Temp/ipykernel_7576/3424873280.py\u001b[0m in \u001b[0;36mremove_stopwords\u001b[1;34m(l)\u001b[0m\n\u001b[0;32m      1\u001b[0m \u001b[1;32mdef\u001b[0m \u001b[0mremove_stopwords\u001b[0m\u001b[1;33m(\u001b[0m\u001b[0ml\u001b[0m\u001b[1;33m)\u001b[0m\u001b[1;33m:\u001b[0m\u001b[1;33m\u001b[0m\u001b[1;33m\u001b[0m\u001b[0m\n\u001b[0;32m      2\u001b[0m     \u001b[0mstopwords\u001b[0m\u001b[1;33m.\u001b[0m\u001b[0mwords\u001b[0m\u001b[1;33m(\u001b[0m\u001b[1;34m'portuguese'\u001b[0m\u001b[1;33m)\u001b[0m\u001b[1;33m\u001b[0m\u001b[1;33m\u001b[0m\u001b[0m\n\u001b[1;32m----> 3\u001b[1;33m     \u001b[0mwithout_sw\u001b[0m \u001b[1;33m=\u001b[0m \u001b[1;33m[\u001b[0m\u001b[0mword\u001b[0m \u001b[1;32mfor\u001b[0m \u001b[0mword\u001b[0m \u001b[1;32min\u001b[0m \u001b[0ml\u001b[0m \u001b[1;32mif\u001b[0m \u001b[1;32mnot\u001b[0m \u001b[0mword\u001b[0m \u001b[1;32min\u001b[0m \u001b[0mstopwords\u001b[0m\u001b[1;33m.\u001b[0m\u001b[0mwords\u001b[0m\u001b[1;33m(\u001b[0m\u001b[1;33m)\u001b[0m\u001b[1;33m]\u001b[0m\u001b[1;33m\u001b[0m\u001b[1;33m\u001b[0m\u001b[0m\n\u001b[0m\u001b[0;32m      4\u001b[0m     \u001b[1;34m\" \"\u001b[0m\u001b[1;33m.\u001b[0m\u001b[0mjoin\u001b[0m\u001b[1;33m(\u001b[0m\u001b[0mwithout_sw\u001b[0m\u001b[1;33m)\u001b[0m\u001b[1;33m\u001b[0m\u001b[1;33m\u001b[0m\u001b[0m\n\u001b[0;32m      5\u001b[0m     \u001b[1;32mreturn\u001b[0m \u001b[0mwithout_sw\u001b[0m\u001b[1;33m\u001b[0m\u001b[1;33m\u001b[0m\u001b[0m\n",
      "\u001b[1;32m~\\AppData\\Local\\Temp/ipykernel_7576/3424873280.py\u001b[0m in \u001b[0;36m<listcomp>\u001b[1;34m(.0)\u001b[0m\n\u001b[0;32m      1\u001b[0m \u001b[1;32mdef\u001b[0m \u001b[0mremove_stopwords\u001b[0m\u001b[1;33m(\u001b[0m\u001b[0ml\u001b[0m\u001b[1;33m)\u001b[0m\u001b[1;33m:\u001b[0m\u001b[1;33m\u001b[0m\u001b[1;33m\u001b[0m\u001b[0m\n\u001b[0;32m      2\u001b[0m     \u001b[0mstopwords\u001b[0m\u001b[1;33m.\u001b[0m\u001b[0mwords\u001b[0m\u001b[1;33m(\u001b[0m\u001b[1;34m'portuguese'\u001b[0m\u001b[1;33m)\u001b[0m\u001b[1;33m\u001b[0m\u001b[1;33m\u001b[0m\u001b[0m\n\u001b[1;32m----> 3\u001b[1;33m     \u001b[0mwithout_sw\u001b[0m \u001b[1;33m=\u001b[0m \u001b[1;33m[\u001b[0m\u001b[0mword\u001b[0m \u001b[1;32mfor\u001b[0m \u001b[0mword\u001b[0m \u001b[1;32min\u001b[0m \u001b[0ml\u001b[0m \u001b[1;32mif\u001b[0m \u001b[1;32mnot\u001b[0m \u001b[0mword\u001b[0m \u001b[1;32min\u001b[0m \u001b[0mstopwords\u001b[0m\u001b[1;33m.\u001b[0m\u001b[0mwords\u001b[0m\u001b[1;33m(\u001b[0m\u001b[1;33m)\u001b[0m\u001b[1;33m]\u001b[0m\u001b[1;33m\u001b[0m\u001b[1;33m\u001b[0m\u001b[0m\n\u001b[0m\u001b[0;32m      4\u001b[0m     \u001b[1;34m\" \"\u001b[0m\u001b[1;33m.\u001b[0m\u001b[0mjoin\u001b[0m\u001b[1;33m(\u001b[0m\u001b[0mwithout_sw\u001b[0m\u001b[1;33m)\u001b[0m\u001b[1;33m\u001b[0m\u001b[1;33m\u001b[0m\u001b[0m\n\u001b[0;32m      5\u001b[0m     \u001b[1;32mreturn\u001b[0m \u001b[0mwithout_sw\u001b[0m\u001b[1;33m\u001b[0m\u001b[1;33m\u001b[0m\u001b[0m\n",
      "\u001b[1;32m~\\anaconda3\\lib\\site-packages\\nltk\\corpus\\reader\\wordlist.py\u001b[0m in \u001b[0;36mwords\u001b[1;34m(self, fileids, ignore_lines_startswith)\u001b[0m\n\u001b[0;32m     19\u001b[0m         return [\n\u001b[0;32m     20\u001b[0m             \u001b[0mline\u001b[0m\u001b[1;33m\u001b[0m\u001b[1;33m\u001b[0m\u001b[0m\n\u001b[1;32m---> 21\u001b[1;33m             \u001b[1;32mfor\u001b[0m \u001b[0mline\u001b[0m \u001b[1;32min\u001b[0m \u001b[0mline_tokenize\u001b[0m\u001b[1;33m(\u001b[0m\u001b[0mself\u001b[0m\u001b[1;33m.\u001b[0m\u001b[0mraw\u001b[0m\u001b[1;33m(\u001b[0m\u001b[0mfileids\u001b[0m\u001b[1;33m)\u001b[0m\u001b[1;33m)\u001b[0m\u001b[1;33m\u001b[0m\u001b[1;33m\u001b[0m\u001b[0m\n\u001b[0m\u001b[0;32m     22\u001b[0m             \u001b[1;32mif\u001b[0m \u001b[1;32mnot\u001b[0m \u001b[0mline\u001b[0m\u001b[1;33m.\u001b[0m\u001b[0mstartswith\u001b[0m\u001b[1;33m(\u001b[0m\u001b[0mignore_lines_startswith\u001b[0m\u001b[1;33m)\u001b[0m\u001b[1;33m\u001b[0m\u001b[1;33m\u001b[0m\u001b[0m\n\u001b[0;32m     23\u001b[0m         ]\n",
      "\u001b[1;32m~\\anaconda3\\lib\\site-packages\\nltk\\corpus\\reader\\api.py\u001b[0m in \u001b[0;36mraw\u001b[1;34m(self, fileids)\u001b[0m\n\u001b[0;32m    215\u001b[0m         \u001b[0mcontents\u001b[0m \u001b[1;33m=\u001b[0m \u001b[1;33m[\u001b[0m\u001b[1;33m]\u001b[0m\u001b[1;33m\u001b[0m\u001b[1;33m\u001b[0m\u001b[0m\n\u001b[0;32m    216\u001b[0m         \u001b[1;32mfor\u001b[0m \u001b[0mf\u001b[0m \u001b[1;32min\u001b[0m \u001b[0mfileids\u001b[0m\u001b[1;33m:\u001b[0m\u001b[1;33m\u001b[0m\u001b[1;33m\u001b[0m\u001b[0m\n\u001b[1;32m--> 217\u001b[1;33m             \u001b[1;32mwith\u001b[0m \u001b[0mself\u001b[0m\u001b[1;33m.\u001b[0m\u001b[0mopen\u001b[0m\u001b[1;33m(\u001b[0m\u001b[0mf\u001b[0m\u001b[1;33m)\u001b[0m \u001b[1;32mas\u001b[0m \u001b[0mfp\u001b[0m\u001b[1;33m:\u001b[0m\u001b[1;33m\u001b[0m\u001b[1;33m\u001b[0m\u001b[0m\n\u001b[0m\u001b[0;32m    218\u001b[0m                 \u001b[0mcontents\u001b[0m\u001b[1;33m.\u001b[0m\u001b[0mappend\u001b[0m\u001b[1;33m(\u001b[0m\u001b[0mfp\u001b[0m\u001b[1;33m.\u001b[0m\u001b[0mread\u001b[0m\u001b[1;33m(\u001b[0m\u001b[1;33m)\u001b[0m\u001b[1;33m)\u001b[0m\u001b[1;33m\u001b[0m\u001b[1;33m\u001b[0m\u001b[0m\n\u001b[0;32m    219\u001b[0m         \u001b[1;32mreturn\u001b[0m \u001b[0mconcat\u001b[0m\u001b[1;33m(\u001b[0m\u001b[0mcontents\u001b[0m\u001b[1;33m)\u001b[0m\u001b[1;33m\u001b[0m\u001b[1;33m\u001b[0m\u001b[0m\n",
      "\u001b[1;32m~\\anaconda3\\lib\\site-packages\\nltk\\corpus\\reader\\api.py\u001b[0m in \u001b[0;36mopen\u001b[1;34m(self, file)\u001b[0m\n\u001b[0;32m    228\u001b[0m         \"\"\"\n\u001b[0;32m    229\u001b[0m         \u001b[0mencoding\u001b[0m \u001b[1;33m=\u001b[0m \u001b[0mself\u001b[0m\u001b[1;33m.\u001b[0m\u001b[0mencoding\u001b[0m\u001b[1;33m(\u001b[0m\u001b[0mfile\u001b[0m\u001b[1;33m)\u001b[0m\u001b[1;33m\u001b[0m\u001b[1;33m\u001b[0m\u001b[0m\n\u001b[1;32m--> 230\u001b[1;33m         \u001b[0mstream\u001b[0m \u001b[1;33m=\u001b[0m \u001b[0mself\u001b[0m\u001b[1;33m.\u001b[0m\u001b[0m_root\u001b[0m\u001b[1;33m.\u001b[0m\u001b[0mjoin\u001b[0m\u001b[1;33m(\u001b[0m\u001b[0mfile\u001b[0m\u001b[1;33m)\u001b[0m\u001b[1;33m.\u001b[0m\u001b[0mopen\u001b[0m\u001b[1;33m(\u001b[0m\u001b[0mencoding\u001b[0m\u001b[1;33m)\u001b[0m\u001b[1;33m\u001b[0m\u001b[1;33m\u001b[0m\u001b[0m\n\u001b[0m\u001b[0;32m    231\u001b[0m         \u001b[1;32mreturn\u001b[0m \u001b[0mstream\u001b[0m\u001b[1;33m\u001b[0m\u001b[1;33m\u001b[0m\u001b[0m\n\u001b[0;32m    232\u001b[0m \u001b[1;33m\u001b[0m\u001b[0m\n",
      "\u001b[1;32m~\\anaconda3\\lib\\site-packages\\nltk\\data.py\u001b[0m in \u001b[0;36mjoin\u001b[1;34m(self, fileid)\u001b[0m\n\u001b[0;32m    332\u001b[0m     \u001b[1;32mdef\u001b[0m \u001b[0mjoin\u001b[0m\u001b[1;33m(\u001b[0m\u001b[0mself\u001b[0m\u001b[1;33m,\u001b[0m \u001b[0mfileid\u001b[0m\u001b[1;33m)\u001b[0m\u001b[1;33m:\u001b[0m\u001b[1;33m\u001b[0m\u001b[1;33m\u001b[0m\u001b[0m\n\u001b[0;32m    333\u001b[0m         \u001b[0m_path\u001b[0m \u001b[1;33m=\u001b[0m \u001b[0mos\u001b[0m\u001b[1;33m.\u001b[0m\u001b[0mpath\u001b[0m\u001b[1;33m.\u001b[0m\u001b[0mjoin\u001b[0m\u001b[1;33m(\u001b[0m\u001b[0mself\u001b[0m\u001b[1;33m.\u001b[0m\u001b[0m_path\u001b[0m\u001b[1;33m,\u001b[0m \u001b[0mfileid\u001b[0m\u001b[1;33m)\u001b[0m\u001b[1;33m\u001b[0m\u001b[1;33m\u001b[0m\u001b[0m\n\u001b[1;32m--> 334\u001b[1;33m         \u001b[1;32mreturn\u001b[0m \u001b[0mFileSystemPathPointer\u001b[0m\u001b[1;33m(\u001b[0m\u001b[0m_path\u001b[0m\u001b[1;33m)\u001b[0m\u001b[1;33m\u001b[0m\u001b[1;33m\u001b[0m\u001b[0m\n\u001b[0m\u001b[0;32m    335\u001b[0m \u001b[1;33m\u001b[0m\u001b[0m\n\u001b[0;32m    336\u001b[0m     \u001b[1;32mdef\u001b[0m \u001b[0m__repr__\u001b[0m\u001b[1;33m(\u001b[0m\u001b[0mself\u001b[0m\u001b[1;33m)\u001b[0m\u001b[1;33m:\u001b[0m\u001b[1;33m\u001b[0m\u001b[1;33m\u001b[0m\u001b[0m\n",
      "\u001b[1;32m~\\anaconda3\\lib\\site-packages\\nltk\\compat.py\u001b[0m in \u001b[0;36m_decorator\u001b[1;34m(*args, **kwargs)\u001b[0m\n\u001b[0;32m     39\u001b[0m     \u001b[1;32mdef\u001b[0m \u001b[0m_decorator\u001b[0m\u001b[1;33m(\u001b[0m\u001b[1;33m*\u001b[0m\u001b[0margs\u001b[0m\u001b[1;33m,\u001b[0m \u001b[1;33m**\u001b[0m\u001b[0mkwargs\u001b[0m\u001b[1;33m)\u001b[0m\u001b[1;33m:\u001b[0m\u001b[1;33m\u001b[0m\u001b[1;33m\u001b[0m\u001b[0m\n\u001b[0;32m     40\u001b[0m         \u001b[0margs\u001b[0m \u001b[1;33m=\u001b[0m \u001b[1;33m(\u001b[0m\u001b[0margs\u001b[0m\u001b[1;33m[\u001b[0m\u001b[1;36m0\u001b[0m\u001b[1;33m]\u001b[0m\u001b[1;33m,\u001b[0m \u001b[0madd_py3_data\u001b[0m\u001b[1;33m(\u001b[0m\u001b[0margs\u001b[0m\u001b[1;33m[\u001b[0m\u001b[1;36m1\u001b[0m\u001b[1;33m]\u001b[0m\u001b[1;33m)\u001b[0m\u001b[1;33m)\u001b[0m \u001b[1;33m+\u001b[0m \u001b[0margs\u001b[0m\u001b[1;33m[\u001b[0m\u001b[1;36m2\u001b[0m\u001b[1;33m:\u001b[0m\u001b[1;33m]\u001b[0m\u001b[1;33m\u001b[0m\u001b[1;33m\u001b[0m\u001b[0m\n\u001b[1;32m---> 41\u001b[1;33m         \u001b[1;32mreturn\u001b[0m \u001b[0minit_func\u001b[0m\u001b[1;33m(\u001b[0m\u001b[1;33m*\u001b[0m\u001b[0margs\u001b[0m\u001b[1;33m,\u001b[0m \u001b[1;33m**\u001b[0m\u001b[0mkwargs\u001b[0m\u001b[1;33m)\u001b[0m\u001b[1;33m\u001b[0m\u001b[1;33m\u001b[0m\u001b[0m\n\u001b[0m\u001b[0;32m     42\u001b[0m \u001b[1;33m\u001b[0m\u001b[0m\n\u001b[0;32m     43\u001b[0m     \u001b[1;32mreturn\u001b[0m \u001b[0mwraps\u001b[0m\u001b[1;33m(\u001b[0m\u001b[0minit_func\u001b[0m\u001b[1;33m)\u001b[0m\u001b[1;33m(\u001b[0m\u001b[0m_decorator\u001b[0m\u001b[1;33m)\u001b[0m\u001b[1;33m\u001b[0m\u001b[1;33m\u001b[0m\u001b[0m\n",
      "\u001b[1;32m~\\anaconda3\\lib\\site-packages\\nltk\\data.py\u001b[0m in \u001b[0;36m__init__\u001b[1;34m(self, _path)\u001b[0m\n\u001b[0;32m    309\u001b[0m \u001b[1;33m\u001b[0m\u001b[0m\n\u001b[0;32m    310\u001b[0m         \u001b[0m_path\u001b[0m \u001b[1;33m=\u001b[0m \u001b[0mos\u001b[0m\u001b[1;33m.\u001b[0m\u001b[0mpath\u001b[0m\u001b[1;33m.\u001b[0m\u001b[0mabspath\u001b[0m\u001b[1;33m(\u001b[0m\u001b[0m_path\u001b[0m\u001b[1;33m)\u001b[0m\u001b[1;33m\u001b[0m\u001b[1;33m\u001b[0m\u001b[0m\n\u001b[1;32m--> 311\u001b[1;33m         \u001b[1;32mif\u001b[0m \u001b[1;32mnot\u001b[0m \u001b[0mos\u001b[0m\u001b[1;33m.\u001b[0m\u001b[0mpath\u001b[0m\u001b[1;33m.\u001b[0m\u001b[0mexists\u001b[0m\u001b[1;33m(\u001b[0m\u001b[0m_path\u001b[0m\u001b[1;33m)\u001b[0m\u001b[1;33m:\u001b[0m\u001b[1;33m\u001b[0m\u001b[1;33m\u001b[0m\u001b[0m\n\u001b[0m\u001b[0;32m    312\u001b[0m             \u001b[1;32mraise\u001b[0m \u001b[0mOSError\u001b[0m\u001b[1;33m(\u001b[0m\u001b[1;34m\"No such file or directory: %r\"\u001b[0m \u001b[1;33m%\u001b[0m \u001b[0m_path\u001b[0m\u001b[1;33m)\u001b[0m\u001b[1;33m\u001b[0m\u001b[1;33m\u001b[0m\u001b[0m\n\u001b[0;32m    313\u001b[0m         \u001b[0mself\u001b[0m\u001b[1;33m.\u001b[0m\u001b[0m_path\u001b[0m \u001b[1;33m=\u001b[0m \u001b[0m_path\u001b[0m\u001b[1;33m\u001b[0m\u001b[1;33m\u001b[0m\u001b[0m\n",
      "\u001b[1;32m~\\anaconda3\\lib\\genericpath.py\u001b[0m in \u001b[0;36mexists\u001b[1;34m(path)\u001b[0m\n\u001b[0;32m     17\u001b[0m     \u001b[1;34m\"\"\"Test whether a path exists.  Returns False for broken symbolic links\"\"\"\u001b[0m\u001b[1;33m\u001b[0m\u001b[1;33m\u001b[0m\u001b[0m\n\u001b[0;32m     18\u001b[0m     \u001b[1;32mtry\u001b[0m\u001b[1;33m:\u001b[0m\u001b[1;33m\u001b[0m\u001b[1;33m\u001b[0m\u001b[0m\n\u001b[1;32m---> 19\u001b[1;33m         \u001b[0mos\u001b[0m\u001b[1;33m.\u001b[0m\u001b[0mstat\u001b[0m\u001b[1;33m(\u001b[0m\u001b[0mpath\u001b[0m\u001b[1;33m)\u001b[0m\u001b[1;33m\u001b[0m\u001b[1;33m\u001b[0m\u001b[0m\n\u001b[0m\u001b[0;32m     20\u001b[0m     \u001b[1;32mexcept\u001b[0m \u001b[1;33m(\u001b[0m\u001b[0mOSError\u001b[0m\u001b[1;33m,\u001b[0m \u001b[0mValueError\u001b[0m\u001b[1;33m)\u001b[0m\u001b[1;33m:\u001b[0m\u001b[1;33m\u001b[0m\u001b[1;33m\u001b[0m\u001b[0m\n\u001b[0;32m     21\u001b[0m         \u001b[1;32mreturn\u001b[0m \u001b[1;32mFalse\u001b[0m\u001b[1;33m\u001b[0m\u001b[1;33m\u001b[0m\u001b[0m\n",
      "\u001b[1;31mKeyboardInterrupt\u001b[0m: "
     ]
    }
   ],
   "source": [
    "for column in news.columns:\n",
    "    news[column] = news[column].apply(remove_stopwords)"
   ]
  },
  {
   "cell_type": "markdown",
   "id": "55827959",
   "metadata": {},
   "source": [
    "len(news.date.unique())"
   ]
  },
  {
   "cell_type": "markdown",
   "id": "ffb5d262",
   "metadata": {},
   "source": [
    "news.date.unique()"
   ]
  },
  {
   "cell_type": "markdown",
   "id": "721296a7",
   "metadata": {},
   "source": [
    "features = ['tag', 'date', 'month', 'year']\n",
    "\n",
    "def count_plot(df, columns):\n",
    "    plt.figure(figsize = (17, 9))\n",
    "    for indx, var in enumerate(columns):\n",
    "        # Graph\n",
    "        plt.subplot(2, 2, (indx + 1))\n",
    "        c = sns.countplot(x = var, hue = df['tag'], data = df, palette = ['#3232CD','#A62A2A'])\n",
    "\n",
    "        # Legend\n",
    "        leg = plt.legend(('Real', 'Fake'), loc = 'upper right', bbox_to_anchor = (1.0, 1.0), \n",
    "                         title = \"$\\\\bf{Classe}$\")\n",
    "        # Border's color\n",
    "        leg.get_frame().set_edgecolor('k')\n",
    "\n",
    "        # Titles and formatting\n",
    "        if indx == 0:\n",
    "            plt.title('Number of Articles by Subject and Class', weight = 'bold', size = 14)\n",
    "            plt.xlabel('Topics', weight = 'bold', size = 10)\n",
    "            plt.ylabel('Number of articles', weight = 'bold', size = 10)\n",
    "        elif indx == 2:\n",
    "            plt.title('Number of Articles by Month by Class', weight = 'bold', size = 14)\n",
    "            plt.xlabel('Mês', weight = 'bold', size = 10)\n",
    "            plt.ylabel('Number of articles', weight = 'bold', size = 10)\n",
    "        else:\n",
    "            plt.title('Number of Articles by Year by Class', weight = 'bold', size = 14)\n",
    "            plt.xlabel('Year', weight = 'bold', size = 10)\n",
    "            plt.ylabel('Number of articles', weight = 'bold', size = 10)\n",
    "\n",
    "    plt.tight_layout()\n",
    "count_plot(news, features)"
   ]
  },
  {
   "cell_type": "code",
   "execution_count": null,
   "id": "800166ed",
   "metadata": {},
   "outputs": [],
   "source": [
    "real_news = \" \".join(news[news['rating']==1.0]['text'])\n",
    "print(real_news)"
   ]
  },
  {
   "cell_type": "code",
   "execution_count": null,
   "id": "2569c863",
   "metadata": {},
   "outputs": [],
   "source": [
    "#### Wordcloud for real news\n",
    "plt.figure(figsize = (15,15))\n",
    "\n",
    "wc = WordCloud(background_color = \"white\", max_words = 50, width = 1000, height = 500,\n",
    "               stopwords = \"portuguese\").generate(real_news)\n",
    "plt.imshow(wc, interpolation = 'bilinear')\n",
    "plt.savefig('real.png')"
   ]
  },
  {
   "cell_type": "code",
   "execution_count": null,
   "id": "133ef965",
   "metadata": {},
   "outputs": [],
   "source": [
    "fake_news = \" \".join(news[news['rating']==0.0]['text'])"
   ]
  },
  {
   "cell_type": "code",
   "execution_count": null,
   "id": "917ddee5",
   "metadata": {},
   "outputs": [],
   "source": [
    "#### Wordcloud for fake news\n",
    "plt.figure(figsize = (15,15))\n",
    "\n",
    "wc = WordCloud(background_color = \"white\", max_words = 50, width = 1000, height = 500, \n",
    "               stopwords = \"portuguese\").generate(fake_news)\n",
    "plt.imshow(wc, interpolation = 'bilinear')\n",
    "plt.savefig('fake.png')"
   ]
  },
  {
   "cell_type": "code",
   "execution_count": null,
   "id": "89cc129e",
   "metadata": {},
   "outputs": [],
   "source": [
    "#### Tag distribution\n",
    "plt.figure(figsize = (7, 5))\n",
    "\n",
    "histograma = plt.hist(news['tag'], bins = 7)\n",
    "\n",
    "plt.title(\"Rating distribution\", weight = 'bold', size = 16)\n",
    "plt.xlabel('Classes', weight = 'bold', size = 14)\n",
    "plt.ylabel('Number of articles', weight = 'bold', size = 14)\n",
    "plt.ylim(0, 26000)\n",
    "plt.show()"
   ]
  },
  {
   "cell_type": "code",
   "execution_count": null,
   "id": "3dbf0ca8",
   "metadata": {},
   "outputs": [],
   "source": [
    "seq_len = [len(i.split()) for i in news.text]\n",
    "pd.Series(seq_len).hist(bins = 50,color='darkorchid', width=50)\n",
    "plt.xlabel('Number of Words')\n",
    "plt.ylabel('Number of texts')\n",
    "plt.savefig('worddistribution.png')"
   ]
  },
  {
   "cell_type": "code",
   "execution_count": null,
   "id": "9f874224",
   "metadata": {},
   "outputs": [],
   "source": [
    "# Bigram \n",
    "\n",
    "def plot_real_ngrams(corpus, title, ylabel, xlabel=\"Number of Occurences\", n =2):\n",
    "    true_b = (pd.Series(nltk.ngrams(corpus.split(), n)).value_counts())[:20]\n",
    "    true_b.sort_values().plot.barh(color='tab:cyan', width=.9, figsize=(12,8))\n",
    "    plt.title(title)\n",
    "    plt.ylabel(ylabel)\n",
    "    plt.xlabel(xlabel)\n",
    "    plt.show()\n",
    "    \n",
    "plot_real_ngrams(real_news, \"Top 20 Frequently Occuring True News\", \"Words\", n=3)\n",
    "plt.savefig('top 20.png')"
   ]
  },
  {
   "cell_type": "code",
   "execution_count": null,
   "id": "85dce894",
   "metadata": {},
   "outputs": [],
   "source": [
    "def plot_fake_ngrams(corpus, title, ylabel, xlabel=\"Number of Occurences\", n =2):\n",
    "    true_b = (pd.Series(nltk.ngrams(corpus.split(), n)).value_counts())[:20]\n",
    "    true_b.sort_values().plot.barh(color='indianred', width=.9, figsize=(12,8))\n",
    "    plt.title(title)\n",
    "    plt.ylabel(ylabel)\n",
    "    plt.xlabel(xlabel)\n",
    "    plt.show()\n",
    "plot_fake_ngrams(fake_news, 'Top 20 Frequently Occuring Fake News', \"Words\", n=3)"
   ]
  },
  {
   "cell_type": "code",
   "execution_count": 158,
   "id": "1c820db8",
   "metadata": {},
   "outputs": [],
   "source": [
    "news.to_csv(\"news.tsv\")"
   ]
  }
 ],
 "metadata": {
  "kernelspec": {
   "display_name": "Python 3 (ipykernel)",
   "language": "python",
   "name": "python3"
  },
  "language_info": {
   "codemirror_mode": {
    "name": "ipython",
    "version": 3
   },
   "file_extension": ".py",
   "mimetype": "text/x-python",
   "name": "python",
   "nbconvert_exporter": "python",
   "pygments_lexer": "ipython3",
   "version": "3.9.7"
  }
 },
 "nbformat": 4,
 "nbformat_minor": 5
}
