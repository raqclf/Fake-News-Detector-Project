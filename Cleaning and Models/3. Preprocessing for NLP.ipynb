{
 "cells": [
  {
   "cell_type": "markdown",
   "id": "cc2dcbea",
   "metadata": {},
   "source": [
    "# Processing data for NLP"
   ]
  },
  {
   "cell_type": "code",
   "execution_count": 1,
   "id": "a1a33bc8",
   "metadata": {},
   "outputs": [],
   "source": [
    "##Import libraries\n",
    "import pandas as pd\n",
    "import numpy as np\n",
    "\n",
    "import ssl\n",
    "try:\n",
    "    _create_unverified_https_context = ssl._create_unverified_context\n",
    "except AttributeError:\n",
    "    pass\n",
    "else:\n",
    "    ssl._create_default_https_context = _create_unverified_https_context\n",
    "import nltk\n",
    "from nltk.tokenize import word_tokenize\n",
    "from nltk.stem import SnowballStemmer\n",
    "from nltk.stem import WordNetLemmatizer \n",
    "from nltk.corpus import wordnet\n",
    "from nltk.corpus import stopwords"
   ]
  },
  {
   "cell_type": "markdown",
   "id": "f72ba32e",
   "metadata": {},
   "source": [
    "### Defining functions: \n",
    "- Tokenize\n",
    "- Lemmatize\n",
    "- Stemmize\n",
    "- Remove stopwords"
   ]
  },
  {
   "cell_type": "code",
   "execution_count": 2,
   "id": "3b7280f1",
   "metadata": {},
   "outputs": [],
   "source": [
    "def tokenize(s):\n",
    "\n",
    "    tokens = word_tokenize(s)\n",
    "    return tokens\n",
    "\n",
    "def stemmer_words(l):\n",
    "    sb = SnowballStemmer('portuguese')\n",
    "    stemmed = [sb.stem(word) for word in l] \n",
    "    \n",
    "    return stemmed\n",
    "\n",
    "def lemmatize(l):\n",
    "    \n",
    "    lemmatizer = WordNetLemmatizer() \n",
    "    lemmatized = [lemmatizer.lemmatize(word) for word in l]\n",
    "\n",
    "    return lemmatized\n",
    "\n",
    "def remove_stopwords(l):\n",
    "    stopwords.words('portuguese')\n",
    "    without_sw = [word for word in l if not word in stopwords.words()]\n",
    "    \" \".join(without_sw)\n",
    "\n",
    "    return without_sw"
   ]
  },
  {
   "cell_type": "markdown",
   "id": "42b7a723",
   "metadata": {},
   "source": [
    "### Importing dataset"
   ]
  },
  {
   "cell_type": "code",
   "execution_count": 3,
   "id": "c3968525",
   "metadata": {},
   "outputs": [
    {
     "data": {
      "text/html": [
       "<div>\n",
       "<style scoped>\n",
       "    .dataframe tbody tr th:only-of-type {\n",
       "        vertical-align: middle;\n",
       "    }\n",
       "\n",
       "    .dataframe tbody tr th {\n",
       "        vertical-align: top;\n",
       "    }\n",
       "\n",
       "    .dataframe thead th {\n",
       "        text-align: right;\n",
       "    }\n",
       "</style>\n",
       "<table border=\"1\" class=\"dataframe\">\n",
       "  <thead>\n",
       "    <tr style=\"text-align: right;\">\n",
       "      <th></th>\n",
       "      <th>title</th>\n",
       "      <th>text</th>\n",
       "      <th>tag</th>\n",
       "      <th>date</th>\n",
       "      <th>author</th>\n",
       "      <th>url</th>\n",
       "      <th>rating</th>\n",
       "      <th>month</th>\n",
       "      <th>year</th>\n",
       "    </tr>\n",
       "  </thead>\n",
       "  <tbody>\n",
       "    <tr>\n",
       "      <th>0</th>\n",
       "      <td>Corinthians publicou nota de repúdio sobre a...</td>\n",
       "      <td>corinthians noto oficial repúdio o realização ...</td>\n",
       "      <td>entretenimento</td>\n",
       "      <td>2021-02</td>\n",
       "      <td>Edgard Matsuki</td>\n",
       "      <td>boatos.org</td>\n",
       "      <td>0.0</td>\n",
       "      <td>Feb</td>\n",
       "      <td>2021</td>\n",
       "    </tr>\n",
       "    <tr>\n",
       "      <th>1</th>\n",
       "      <td>É falso que família de Ciro Gomes tenha 77 emp...</td>\n",
       "      <td>haver indício o família gomar participar negóc...</td>\n",
       "      <td>política</td>\n",
       "      <td>2020-07</td>\n",
       "      <td>Comprova</td>\n",
       "      <td>projetocomprova.com.br</td>\n",
       "      <td>0.0</td>\n",
       "      <td>Jul</td>\n",
       "      <td>2020</td>\n",
       "    </tr>\n",
       "    <tr>\n",
       "      <th>2</th>\n",
       "      <td>Ex chefe da comunicação da PF volta ao posto a...</td>\n",
       "      <td>o delegar polícia federal fabio ricardo ciavol...</td>\n",
       "      <td>política</td>\n",
       "      <td>2020-05</td>\n",
       "      <td>FelipeNériG1</td>\n",
       "      <td>g1.globo.com</td>\n",
       "      <td>1.0</td>\n",
       "      <td>May</td>\n",
       "      <td>2020</td>\n",
       "    </tr>\n",
       "  </tbody>\n",
       "</table>\n",
       "</div>"
      ],
      "text/plain": [
       "                                               title  \\\n",
       "0    Corinthians publicou nota de repúdio sobre a...   \n",
       "1  É falso que família de Ciro Gomes tenha 77 emp...   \n",
       "2  Ex chefe da comunicação da PF volta ao posto a...   \n",
       "\n",
       "                                                text             tag     date  \\\n",
       "0  corinthians noto oficial repúdio o realização ...  entretenimento  2021-02   \n",
       "1  haver indício o família gomar participar negóc...        política  2020-07   \n",
       "2  o delegar polícia federal fabio ricardo ciavol...        política  2020-05   \n",
       "\n",
       "           author                     url  rating month  year  \n",
       "0  Edgard Matsuki              boatos.org     0.0   Feb  2021  \n",
       "1        Comprova  projetocomprova.com.br     0.0   Jul  2020  \n",
       "2    FelipeNériG1            g1.globo.com     1.0   May  2020  "
      ]
     },
     "execution_count": 3,
     "metadata": {},
     "output_type": "execute_result"
    }
   ],
   "source": [
    "news = pd.read_csv('news.tsv').drop(\"Unnamed: 0\", axis = 1)\n",
    "news.head(3)"
   ]
  },
  {
   "cell_type": "markdown",
   "id": "d0306462",
   "metadata": {},
   "source": [
    "### Encoding tags"
   ]
  },
  {
   "cell_type": "code",
   "execution_count": 4,
   "id": "29ad6223",
   "metadata": {},
   "outputs": [],
   "source": [
    "import sklearn.preprocessing as preprocessing\n",
    "from sklearn.preprocessing import LabelEncoder"
   ]
  },
  {
   "cell_type": "code",
   "execution_count": 5,
   "id": "42259b00",
   "metadata": {},
   "outputs": [],
   "source": [
    "le = LabelEncoder()"
   ]
  },
  {
   "cell_type": "code",
   "execution_count": 6,
   "id": "63dc3d76",
   "metadata": {},
   "outputs": [],
   "source": [
    "news['tagenc']=le.fit_transform(news.tag.tolist())"
   ]
  },
  {
   "cell_type": "code",
   "execution_count": 7,
   "id": "1e83f425",
   "metadata": {},
   "outputs": [],
   "source": [
    "tags=pd.DataFrame(pd.get_dummies(news.rating)[0.0])\n",
    "tags['tagenc']=news['tagenc']"
   ]
  },
  {
   "cell_type": "code",
   "execution_count": 8,
   "id": "8b7ea621",
   "metadata": {},
   "outputs": [
    {
     "data": {
      "text/html": [
       "<div>\n",
       "<style scoped>\n",
       "    .dataframe tbody tr th:only-of-type {\n",
       "        vertical-align: middle;\n",
       "    }\n",
       "\n",
       "    .dataframe tbody tr th {\n",
       "        vertical-align: top;\n",
       "    }\n",
       "\n",
       "    .dataframe thead th {\n",
       "        text-align: right;\n",
       "    }\n",
       "</style>\n",
       "<table border=\"1\" class=\"dataframe\">\n",
       "  <thead>\n",
       "    <tr style=\"text-align: right;\">\n",
       "      <th></th>\n",
       "      <th>0.0</th>\n",
       "      <th>tagenc</th>\n",
       "    </tr>\n",
       "  </thead>\n",
       "  <tbody>\n",
       "    <tr>\n",
       "      <th>0.0</th>\n",
       "      <td>1.000000</td>\n",
       "      <td>-0.426596</td>\n",
       "    </tr>\n",
       "    <tr>\n",
       "      <th>tagenc</th>\n",
       "      <td>-0.426596</td>\n",
       "      <td>1.000000</td>\n",
       "    </tr>\n",
       "  </tbody>\n",
       "</table>\n",
       "</div>"
      ],
      "text/plain": [
       "             0.0    tagenc\n",
       "0.0     1.000000 -0.426596\n",
       "tagenc -0.426596  1.000000"
      ]
     },
     "execution_count": 8,
     "metadata": {},
     "output_type": "execute_result"
    }
   ],
   "source": [
    "tags.corr()"
   ]
  },
  {
   "cell_type": "code",
   "execution_count": 9,
   "id": "9b771f89",
   "metadata": {},
   "outputs": [
    {
     "data": {
      "text/html": [
       "<div>\n",
       "<style scoped>\n",
       "    .dataframe tbody tr th:only-of-type {\n",
       "        vertical-align: middle;\n",
       "    }\n",
       "\n",
       "    .dataframe tbody tr th {\n",
       "        vertical-align: top;\n",
       "    }\n",
       "\n",
       "    .dataframe thead th {\n",
       "        text-align: right;\n",
       "    }\n",
       "</style>\n",
       "<table border=\"1\" class=\"dataframe\">\n",
       "  <thead>\n",
       "    <tr style=\"text-align: right;\">\n",
       "      <th></th>\n",
       "      <th>title</th>\n",
       "      <th>text</th>\n",
       "      <th>date</th>\n",
       "      <th>author</th>\n",
       "      <th>url</th>\n",
       "      <th>rating</th>\n",
       "      <th>month</th>\n",
       "      <th>year</th>\n",
       "      <th>tagenc</th>\n",
       "    </tr>\n",
       "  </thead>\n",
       "  <tbody>\n",
       "    <tr>\n",
       "      <th>0</th>\n",
       "      <td>Corinthians publicou nota de repúdio sobre a...</td>\n",
       "      <td>corinthians noto oficial repúdio o realização ...</td>\n",
       "      <td>2021-02</td>\n",
       "      <td>Edgard Matsuki</td>\n",
       "      <td>boatos.org</td>\n",
       "      <td>0.0</td>\n",
       "      <td>Feb</td>\n",
       "      <td>2021</td>\n",
       "      <td>2</td>\n",
       "    </tr>\n",
       "    <tr>\n",
       "      <th>1</th>\n",
       "      <td>É falso que família de Ciro Gomes tenha 77 emp...</td>\n",
       "      <td>haver indício o família gomar participar negóc...</td>\n",
       "      <td>2020-07</td>\n",
       "      <td>Comprova</td>\n",
       "      <td>projetocomprova.com.br</td>\n",
       "      <td>0.0</td>\n",
       "      <td>Jul</td>\n",
       "      <td>2020</td>\n",
       "      <td>5</td>\n",
       "    </tr>\n",
       "    <tr>\n",
       "      <th>2</th>\n",
       "      <td>Ex chefe da comunicação da PF volta ao posto a...</td>\n",
       "      <td>o delegar polícia federal fabio ricardo ciavol...</td>\n",
       "      <td>2020-05</td>\n",
       "      <td>FelipeNériG1</td>\n",
       "      <td>g1.globo.com</td>\n",
       "      <td>1.0</td>\n",
       "      <td>May</td>\n",
       "      <td>2020</td>\n",
       "      <td>5</td>\n",
       "    </tr>\n",
       "    <tr>\n",
       "      <th>3</th>\n",
       "      <td>bolsonaro assinar decretar proibir o entrar vi...</td>\n",
       "      <td>quinzena setembro recortar jornal começar o co...</td>\n",
       "      <td>2019-09</td>\n",
       "      <td>gilmarlopes</td>\n",
       "      <td>e-farsas.com</td>\n",
       "      <td>0.0</td>\n",
       "      <td>Sep</td>\n",
       "      <td>2019</td>\n",
       "      <td>5</td>\n",
       "    </tr>\n",
       "    <tr>\n",
       "      <th>4</th>\n",
       "      <td>PT e esquerda estão abrindo buracos em estra...</td>\n",
       "      <td>diabólico bandido pt abrir buraco estrar feder...</td>\n",
       "      <td>2019-06</td>\n",
       "      <td>Raiane Gonoli</td>\n",
       "      <td>boatos.org</td>\n",
       "      <td>0.0</td>\n",
       "      <td>Jun</td>\n",
       "      <td>2019</td>\n",
       "      <td>5</td>\n",
       "    </tr>\n",
       "    <tr>\n",
       "      <th>...</th>\n",
       "      <td>...</td>\n",
       "      <td>...</td>\n",
       "      <td>...</td>\n",
       "      <td>...</td>\n",
       "      <td>...</td>\n",
       "      <td>...</td>\n",
       "      <td>...</td>\n",
       "      <td>...</td>\n",
       "      <td>...</td>\n",
       "    </tr>\n",
       "    <tr>\n",
       "      <th>11906</th>\n",
       "      <td>Deolane Bezerra  esposa de MC Kevin  é advog...</td>\n",
       "      <td>o advogar deolane bezerro fichar visitar presa...</td>\n",
       "      <td>2021-05</td>\n",
       "      <td>Raiane Gonoli</td>\n",
       "      <td>boatos.org</td>\n",
       "      <td>0.0</td>\n",
       "      <td>May</td>\n",
       "      <td>2021</td>\n",
       "      <td>2</td>\n",
       "    </tr>\n",
       "    <tr>\n",
       "      <th>11907</th>\n",
       "      <td>Corregedoria da PGR abre sindicância para apur...</td>\n",
       "      <td>o corregedora geral ministério público federal...</td>\n",
       "      <td>2022-05</td>\n",
       "      <td>Aguirre Talento</td>\n",
       "      <td>extra.globo.com</td>\n",
       "      <td>1.0</td>\n",
       "      <td>May</td>\n",
       "      <td>2022</td>\n",
       "      <td>0</td>\n",
       "    </tr>\n",
       "    <tr>\n",
       "      <th>11908</th>\n",
       "      <td>Após se aproximar de Bolsonaro  governador do ...</td>\n",
       "      <td>o governador distrito federal ibaneis rocha md...</td>\n",
       "      <td>2020-04</td>\n",
       "      <td>Julia Lindnere Mateus</td>\n",
       "      <td>noticias.uol.com.br</td>\n",
       "      <td>1.0</td>\n",
       "      <td>Apr</td>\n",
       "      <td>2020</td>\n",
       "      <td>6</td>\n",
       "    </tr>\n",
       "    <tr>\n",
       "      <th>11909</th>\n",
       "      <td>Quando o crime só vem no fim  Ou  Atirando fle...</td>\n",
       "      <td>artigo o livrar suspeição merecer leitura aten...</td>\n",
       "      <td>2020-03</td>\n",
       "      <td>noticias</td>\n",
       "      <td>noticias.uol.com.br</td>\n",
       "      <td>1.0</td>\n",
       "      <td>Mar</td>\n",
       "      <td>2020</td>\n",
       "      <td>5</td>\n",
       "    </tr>\n",
       "    <tr>\n",
       "      <th>11910</th>\n",
       "      <td>Itália ainda não atingiu pico de contágio por ...</td>\n",
       "      <td>o diretor instituto nacional saudar itália sil...</td>\n",
       "      <td>2020-03</td>\n",
       "      <td>noticias</td>\n",
       "      <td>noticias.uol.com.br</td>\n",
       "      <td>1.0</td>\n",
       "      <td>Mar</td>\n",
       "      <td>2020</td>\n",
       "      <td>6</td>\n",
       "    </tr>\n",
       "  </tbody>\n",
       "</table>\n",
       "<p>11911 rows × 9 columns</p>\n",
       "</div>"
      ],
      "text/plain": [
       "                                                   title  \\\n",
       "0        Corinthians publicou nota de repúdio sobre a...   \n",
       "1      É falso que família de Ciro Gomes tenha 77 emp...   \n",
       "2      Ex chefe da comunicação da PF volta ao posto a...   \n",
       "3      bolsonaro assinar decretar proibir o entrar vi...   \n",
       "4        PT e esquerda estão abrindo buracos em estra...   \n",
       "...                                                  ...   \n",
       "11906    Deolane Bezerra  esposa de MC Kevin  é advog...   \n",
       "11907  Corregedoria da PGR abre sindicância para apur...   \n",
       "11908  Após se aproximar de Bolsonaro  governador do ...   \n",
       "11909  Quando o crime só vem no fim  Ou  Atirando fle...   \n",
       "11910  Itália ainda não atingiu pico de contágio por ...   \n",
       "\n",
       "                                                    text     date  \\\n",
       "0      corinthians noto oficial repúdio o realização ...  2021-02   \n",
       "1      haver indício o família gomar participar negóc...  2020-07   \n",
       "2      o delegar polícia federal fabio ricardo ciavol...  2020-05   \n",
       "3      quinzena setembro recortar jornal começar o co...  2019-09   \n",
       "4      diabólico bandido pt abrir buraco estrar feder...  2019-06   \n",
       "...                                                  ...      ...   \n",
       "11906  o advogar deolane bezerro fichar visitar presa...  2021-05   \n",
       "11907  o corregedora geral ministério público federal...  2022-05   \n",
       "11908  o governador distrito federal ibaneis rocha md...  2020-04   \n",
       "11909  artigo o livrar suspeição merecer leitura aten...  2020-03   \n",
       "11910  o diretor instituto nacional saudar itália sil...  2020-03   \n",
       "\n",
       "                      author                     url  rating month  year  \\\n",
       "0             Edgard Matsuki              boatos.org     0.0   Feb  2021   \n",
       "1                   Comprova  projetocomprova.com.br     0.0   Jul  2020   \n",
       "2               FelipeNériG1            g1.globo.com     1.0   May  2020   \n",
       "3                gilmarlopes            e-farsas.com     0.0   Sep  2019   \n",
       "4              Raiane Gonoli              boatos.org     0.0   Jun  2019   \n",
       "...                      ...                     ...     ...   ...   ...   \n",
       "11906          Raiane Gonoli              boatos.org     0.0   May  2021   \n",
       "11907        Aguirre Talento         extra.globo.com     1.0   May  2022   \n",
       "11908  Julia Lindnere Mateus     noticias.uol.com.br     1.0   Apr  2020   \n",
       "11909               noticias     noticias.uol.com.br     1.0   Mar  2020   \n",
       "11910               noticias     noticias.uol.com.br     1.0   Mar  2020   \n",
       "\n",
       "       tagenc  \n",
       "0           2  \n",
       "1           5  \n",
       "2           5  \n",
       "3           5  \n",
       "4           5  \n",
       "...       ...  \n",
       "11906       2  \n",
       "11907       0  \n",
       "11908       6  \n",
       "11909       5  \n",
       "11910       6  \n",
       "\n",
       "[11911 rows x 9 columns]"
      ]
     },
     "execution_count": 9,
     "metadata": {},
     "output_type": "execute_result"
    }
   ],
   "source": [
    "news.drop(columns=['tag'])"
   ]
  },
  {
   "cell_type": "markdown",
   "id": "31c9054a",
   "metadata": {},
   "source": [
    "### Applying functions to text column"
   ]
  },
  {
   "cell_type": "code",
   "execution_count": 10,
   "id": "a187761c",
   "metadata": {},
   "outputs": [],
   "source": [
    "news['text_processed'] = news['text'].apply(tokenize)"
   ]
  },
  {
   "cell_type": "code",
   "execution_count": 11,
   "id": "0480b9e0",
   "metadata": {},
   "outputs": [],
   "source": [
    "news['text_processed'] = news['text_processed'].apply(stemmer_words)"
   ]
  },
  {
   "cell_type": "code",
   "execution_count": 12,
   "id": "434c96d6",
   "metadata": {},
   "outputs": [],
   "source": [
    "# let's apply this to the all the newsfeed \n",
    "#nltk.download('averaged_perceptron_tagger')\n",
    "\n",
    "# unfortunately pos_tag and lemmatize use different codes for parts of speech \n",
    "def get_wordnet_pos(word):\n",
    "    tag = nltk.pos_tag([word])[0][1][0].upper() # gets first letter of POS categorization\n",
    "    tag_dict = {\"J\": wordnet.ADJ, \n",
    "                \"N\": wordnet.NOUN,\n",
    "                \"V\": wordnet.VERB,\n",
    "                \"R\": wordnet.ADV}\n",
    "    return tag_dict.get(tag, wordnet.NOUN) # get returns second argument if first key does not exist #default value if its not of the possibilties"
   ]
  },
  {
   "cell_type": "code",
   "execution_count": 13,
   "id": "ad9607d0",
   "metadata": {},
   "outputs": [],
   "source": [
    "news['text_processed'] = news['text_processed'].apply(lemmatize)"
   ]
  },
  {
   "cell_type": "code",
   "execution_count": 14,
   "id": "bb4d4cb2",
   "metadata": {},
   "outputs": [],
   "source": [
    "news['text_processed'] =news['text_processed'].apply(remove_stopwords)"
   ]
  },
  {
   "cell_type": "markdown",
   "id": "095716d2",
   "metadata": {},
   "source": [
    "## Creating a different set for validation and train-test"
   ]
  },
  {
   "cell_type": "code",
   "execution_count": 15,
   "id": "eb41fd86",
   "metadata": {},
   "outputs": [],
   "source": [
    "#saving a sample for validation"
   ]
  },
  {
   "cell_type": "code",
   "execution_count": 16,
   "id": "c636b582",
   "metadata": {},
   "outputs": [],
   "source": [
    "# Remove month and year again - leave only date\n",
    "news.drop(columns = ['month', 'year'], inplace = True)"
   ]
  },
  {
   "cell_type": "code",
   "execution_count": 17,
   "id": "d5449ef0",
   "metadata": {},
   "outputs": [
    {
     "data": {
      "text/plain": [
       "(11911, 9)"
      ]
     },
     "execution_count": 17,
     "metadata": {},
     "output_type": "execute_result"
    }
   ],
   "source": [
    "news.shape"
   ]
  },
  {
   "cell_type": "code",
   "execution_count": 18,
   "id": "dbea8315",
   "metadata": {},
   "outputs": [],
   "source": [
    "val_news = news.loc[0:999]"
   ]
  },
  {
   "cell_type": "code",
   "execution_count": 19,
   "id": "85915ad8",
   "metadata": {},
   "outputs": [
    {
     "data": {
      "text/plain": [
       "(1000, 9)"
      ]
     },
     "execution_count": 19,
     "metadata": {},
     "output_type": "execute_result"
    }
   ],
   "source": [
    "val_news.shape"
   ]
  },
  {
   "cell_type": "code",
   "execution_count": 20,
   "id": "f20b013a",
   "metadata": {},
   "outputs": [],
   "source": [
    "val_news.to_csv(\"val_news.tsv\")"
   ]
  },
  {
   "cell_type": "code",
   "execution_count": 21,
   "id": "f4b6aa7c",
   "metadata": {},
   "outputs": [],
   "source": [
    "newsu = news.loc[1000:]"
   ]
  },
  {
   "cell_type": "code",
   "execution_count": 22,
   "id": "6b4d188a",
   "metadata": {},
   "outputs": [
    {
     "data": {
      "text/plain": [
       "title             0\n",
       "text              0\n",
       "tag               0\n",
       "date              0\n",
       "author            0\n",
       "url               0\n",
       "rating            0\n",
       "tagenc            0\n",
       "text_processed    0\n",
       "dtype: int64"
      ]
     },
     "execution_count": 22,
     "metadata": {},
     "output_type": "execute_result"
    }
   ],
   "source": [
    "newsu.isna().sum()"
   ]
  },
  {
   "cell_type": "code",
   "execution_count": 23,
   "id": "c8624a4f",
   "metadata": {},
   "outputs": [
    {
     "data": {
      "text/plain": [
       "1.0    5468\n",
       "0.0    5443\n",
       "Name: rating, dtype: int64"
      ]
     },
     "execution_count": 23,
     "metadata": {},
     "output_type": "execute_result"
    }
   ],
   "source": [
    "newsu['rating'].value_counts()"
   ]
  },
  {
   "cell_type": "code",
   "execution_count": 24,
   "id": "ca443820",
   "metadata": {},
   "outputs": [],
   "source": [
    "newsu.to_csv(\"newsu.tsv\")"
   ]
  },
  {
   "cell_type": "code",
   "execution_count": null,
   "id": "e6fa2f6d",
   "metadata": {},
   "outputs": [],
   "source": []
  },
  {
   "cell_type": "code",
   "execution_count": null,
   "id": "f18acdd3",
   "metadata": {},
   "outputs": [],
   "source": []
  }
 ],
 "metadata": {
  "kernelspec": {
   "display_name": "Python 3 (ipykernel)",
   "language": "python",
   "name": "python3"
  },
  "language_info": {
   "codemirror_mode": {
    "name": "ipython",
    "version": 3
   },
   "file_extension": ".py",
   "mimetype": "text/x-python",
   "name": "python",
   "nbconvert_exporter": "python",
   "pygments_lexer": "ipython3",
   "version": "3.9.7"
  }
 },
 "nbformat": 4,
 "nbformat_minor": 5
}
