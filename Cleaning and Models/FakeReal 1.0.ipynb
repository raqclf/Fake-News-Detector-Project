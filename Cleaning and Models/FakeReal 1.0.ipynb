{
 "cells": [
  {
   "cell_type": "markdown",
   "id": "b1cba2b5",
   "metadata": {},
   "source": [
    "## FakeReal 1.0"
   ]
  },
  {
   "cell_type": "code",
   "execution_count": 1,
   "id": "8caba9a0",
   "metadata": {},
   "outputs": [],
   "source": [
    "import pandas as pd\n",
    "import numpy as np\n",
    "import matplotlib.pyplot as plt\n",
    "import seaborn as sns\n",
    "import calendar\n",
    "\n",
    "import re\n",
    "import string\n",
    "import nltk\n",
    "from nltk.stem.porter import PorterStemmer\n",
    "from nltk.stem import WordNetLemmatizer\n",
    "\n",
    "from sklearn.preprocessing import LabelEncoder\n",
    "#from imblearn.over_sampling import SMOTE\n",
    "from sklearn.model_selection import train_test_split\n",
    "from sklearn.pipeline import Pipeline\n",
    "from sklearn.model_selection import GridSearchCV\n",
    "from sklearn.feature_extraction.text import CountVectorizer\n",
    "from sklearn.feature_extraction.text import TfidfVectorizer\n",
    "from sklearn.naive_bayes import MultinomialNB\n",
    "from sklearn.svm import LinearSVC\n",
    "\n",
    "from sklearn.metrics import plot_confusion_matrix, classification_report\n",
    "from sklearn.metrics import accuracy_score"
   ]
  },
  {
   "cell_type": "code",
   "execution_count": 2,
   "id": "186abaa7",
   "metadata": {
    "scrolled": false
   },
   "outputs": [
    {
     "data": {
      "text/html": [
       "<div>\n",
       "<style scoped>\n",
       "    .dataframe tbody tr th:only-of-type {\n",
       "        vertical-align: middle;\n",
       "    }\n",
       "\n",
       "    .dataframe tbody tr th {\n",
       "        vertical-align: top;\n",
       "    }\n",
       "\n",
       "    .dataframe thead th {\n",
       "        text-align: right;\n",
       "    }\n",
       "</style>\n",
       "<table border=\"1\" class=\"dataframe\">\n",
       "  <thead>\n",
       "    <tr style=\"text-align: right;\">\n",
       "      <th></th>\n",
       "      <th>title</th>\n",
       "      <th>text</th>\n",
       "      <th>tag</th>\n",
       "      <th>date</th>\n",
       "      <th>author</th>\n",
       "      <th>url</th>\n",
       "      <th>rating</th>\n",
       "      <th>tagenc</th>\n",
       "      <th>text_processed</th>\n",
       "    </tr>\n",
       "  </thead>\n",
       "  <tbody>\n",
       "    <tr>\n",
       "      <th>0</th>\n",
       "      <td>Weintraub diz que alunos inscritos decidirão d...</td>\n",
       "      <td>horar anunciar pesquisar aluno inscrito enem o...</td>\n",
       "      <td>saúde</td>\n",
       "      <td>2020-05</td>\n",
       "      <td>educacao</td>\n",
       "      <td>educacao.uol.com.br</td>\n",
       "      <td>1.0</td>\n",
       "      <td>6</td>\n",
       "      <td>['hor', 'anunc', 'pesquis', 'alun', 'inscrit',...</td>\n",
       "    </tr>\n",
       "    <tr>\n",
       "      <th>1</th>\n",
       "      <td>Segunda dose da CoronaVac não está relacionada...</td>\n",
       "      <td>dose escalonar comum programar vacinação e ser...</td>\n",
       "      <td>saúde</td>\n",
       "      <td>2021-01</td>\n",
       "      <td>Comprova</td>\n",
       "      <td>projetocomprova.com.br</td>\n",
       "      <td>0.0</td>\n",
       "      <td>6</td>\n",
       "      <td>['escalon', 'comum', 'program', 'vacin', 'serv...</td>\n",
       "    </tr>\n",
       "    <tr>\n",
       "      <th>2</th>\n",
       "      <td>Prisão na CPI é suco de Brasil  onde as leis v...</td>\n",
       "      <td>o ex diretor logístico ministério saudar rober...</td>\n",
       "      <td>brasil</td>\n",
       "      <td>2021-07</td>\n",
       "      <td>noticias</td>\n",
       "      <td>noticias.uol.com.br</td>\n",
       "      <td>0.0</td>\n",
       "      <td>0</td>\n",
       "      <td>['ex', 'diretor', 'logíst', 'ministéri', 'saud...</td>\n",
       "    </tr>\n",
       "  </tbody>\n",
       "</table>\n",
       "</div>"
      ],
      "text/plain": [
       "                                               title  \\\n",
       "0  Weintraub diz que alunos inscritos decidirão d...   \n",
       "1  Segunda dose da CoronaVac não está relacionada...   \n",
       "2  Prisão na CPI é suco de Brasil  onde as leis v...   \n",
       "\n",
       "                                                text     tag     date  \\\n",
       "0  horar anunciar pesquisar aluno inscrito enem o...   saúde  2020-05   \n",
       "1  dose escalonar comum programar vacinação e ser...   saúde  2021-01   \n",
       "2  o ex diretor logístico ministério saudar rober...  brasil  2021-07   \n",
       "\n",
       "     author                     url  rating  tagenc  \\\n",
       "0  educacao     educacao.uol.com.br     1.0       6   \n",
       "1  Comprova  projetocomprova.com.br     0.0       6   \n",
       "2  noticias     noticias.uol.com.br     0.0       0   \n",
       "\n",
       "                                      text_processed  \n",
       "0  ['hor', 'anunc', 'pesquis', 'alun', 'inscrit',...  \n",
       "1  ['escalon', 'comum', 'program', 'vacin', 'serv...  \n",
       "2  ['ex', 'diretor', 'logíst', 'ministéri', 'saud...  "
      ]
     },
     "execution_count": 2,
     "metadata": {},
     "output_type": "execute_result"
    }
   ],
   "source": [
    "import pandas as pd\n",
    "newsu = pd.read_csv('newsu.tsv').drop(\"Unnamed: 0\", axis = 1)\n",
    "newsu.head(3)"
   ]
  },
  {
   "cell_type": "code",
   "execution_count": 3,
   "id": "9ed93262",
   "metadata": {},
   "outputs": [],
   "source": [
    "messages = newsu.copy()\n",
    "messages.reset_index(inplace = True)"
   ]
  },
  {
   "cell_type": "code",
   "execution_count": 4,
   "id": "a3c6c389",
   "metadata": {},
   "outputs": [],
   "source": [
    "y = messages['rating']\n",
    "X = messages.drop('rating', axis = 1)\n",
    "X = "
   ]
  },
  {
   "cell_type": "code",
   "execution_count": 5,
   "id": "56e39136",
   "metadata": {},
   "outputs": [],
   "source": [
    "X_train, X_test, y_train, y_test = train_test_split(X['text_processed'], y, test_size = 0.33,random_state = 0)"
   ]
  },
  {
   "cell_type": "code",
   "execution_count": 6,
   "id": "b13f7c37",
   "metadata": {},
   "outputs": [
    {
     "name": "stdout",
     "output_type": "stream",
     "text": [
      " X_train: (7310,)\n",
      " y_train: (7310,)\n",
      " X_test: (3601,)\n",
      " y_test: (3601,)\n"
     ]
    }
   ],
   "source": [
    "print(f' X_train: {X_train.shape}')\n",
    "print(f' y_train: {y_train.shape}')\n",
    "print(f' X_test: {X_test.shape}')\n",
    "print(f' y_test: {y_test.shape}')"
   ]
  },
  {
   "cell_type": "code",
   "execution_count": 7,
   "id": "e7a7f46c",
   "metadata": {},
   "outputs": [],
   "source": [
    "from sklearn.feature_extraction.text import CountVectorizer,TfidfVectorizer"
   ]
  },
  {
   "cell_type": "code",
   "execution_count": 8,
   "id": "9824825c",
   "metadata": {},
   "outputs": [],
   "source": [
    "pip_count_nb = Pipeline([('vec', CountVectorizer()), ('clf_multi_nb', MultinomialNB(alpha = 0.001))])\n",
    "pip_count_svm = Pipeline([('vec', CountVectorizer()), ('clf_svm_linear', LinearSVC(C = 0.5, max_iter = 100000))])\n",
    "pip_tfidf_nb = Pipeline([('tfidf', TfidfVectorizer()), ('clf_multi_nb', MultinomialNB(alpha = 0.001))])\n",
    "pip_tfidf_svm = Pipeline([('tfidf', TfidfVectorizer()), ('clf_svm_linear', LinearSVC(C = 3.0))])"
   ]
  },
  {
   "cell_type": "code",
   "execution_count": 9,
   "id": "14281a99",
   "metadata": {},
   "outputs": [
    {
     "name": "stdout",
     "output_type": "stream",
     "text": [
      "0.892202462380301\n",
      "Pipeline(steps=[('tfidf', TfidfVectorizer()),\n",
      "                ('clf_multi_nb', MultinomialNB(alpha=0.1))])\n"
     ]
    }
   ],
   "source": [
    "#------------Best parameters alpha for MultinomialNB------------#\n",
    "\n",
    "param_grid = {'clf_multi_nb__alpha': [0.001, 0.01, 0.1]}\n",
    "param_grid = {'clf_multi_nb__alpha': [0.001, 0.01, 0.1]}\n",
    "\n",
    "grid = GridSearchCV(pip_count_nb, param_grid)\n",
    "grid = GridSearchCV(pip_tfidf_nb, param_grid)\n",
    "\n",
    "grid.fit(X_train.values, y_train)\n",
    "\n",
    "print(grid.best_score_)\n",
    "print(grid.best_estimator_)"
   ]
  },
  {
   "cell_type": "code",
   "execution_count": 10,
   "id": "874e377c",
   "metadata": {},
   "outputs": [
    {
     "name": "stdout",
     "output_type": "stream",
     "text": [
      "0.9240766073871409\n",
      "Pipeline(steps=[('tfidf', TfidfVectorizer()),\n",
      "                ('clf_svm_linear', LinearSVC(C=1.5))])\n"
     ]
    }
   ],
   "source": [
    "#------------Best parameters C for LinearSVC------------#\n",
    "\n",
    "param_grid = {'clf_svm_linear__C': [0.5, 1.0, 1.5]}\n",
    "param_grid = {'clf_svm_linear__C': [1.5, 2.5, 3.0, 3.5]}\n",
    "\n",
    "grid = GridSearchCV(pip_count_svm, param_grid)\n",
    "grid = GridSearchCV(pip_tfidf_svm, param_grid)\n",
    "\n",
    "grid.fit(X_train.values, y_train)\n",
    "\n",
    "print(grid.best_score_)\n",
    "print(grid.best_estimator_)"
   ]
  },
  {
   "cell_type": "code",
   "execution_count": 11,
   "id": "2b7658f9",
   "metadata": {},
   "outputs": [
    {
     "name": "stdout",
     "output_type": "stream",
     "text": [
      "              precision    recall  f1-score   support\n",
      "\n",
      "        Real       0.90      0.86      0.88      1766\n",
      "        Fake       0.87      0.91      0.89      1835\n",
      "\n",
      "    accuracy                           0.89      3601\n",
      "   macro avg       0.89      0.89      0.89      3601\n",
      "weighted avg       0.89      0.89      0.89      3601\n",
      "\n"
     ]
    },
    {
     "name": "stderr",
     "output_type": "stream",
     "text": [
      "C:\\Users\\franc\\anaconda3\\lib\\site-packages\\sklearn\\utils\\deprecation.py:87: FutureWarning: Function plot_confusion_matrix is deprecated; Function `plot_confusion_matrix` is deprecated in 1.0 and will be removed in 1.2. Use one of the class methods: ConfusionMatrixDisplay.from_predictions or ConfusionMatrixDisplay.from_estimator.\n",
      "  warnings.warn(msg, category=FutureWarning)\n"
     ]
    },
    {
     "data": {
      "image/png": "[encoded data removed]",
      "text/plain": [
       "<Figure size 432x288 with 2 Axes>"
      ]
     },
     "metadata": {
      "needs_background": "light"
     },
     "output_type": "display_data"
    }
   ],
   "source": [
    "#Pipelines\n",
    "# Dict for comparison of accuracy\n",
    "accuracy = {}\n",
    "#CountVectorizer and multinomialNB\n",
    "pip_count_nb.fit(X_train.values, y_train)\n",
    "y_pred_count_nb = pip_count_nb.predict(X_test.values)\n",
    "\n",
    "# Classification report\n",
    "print(classification_report(y_test, y_pred_count_nb, target_names = ['Real', 'Fake']))\n",
    "\n",
    "# Confusion matrix\n",
    "plot_confusion_matrix(pip_count_nb, X_test.values, y_test, display_labels = ['Real', 'Fake'],\n",
    "                      normalize = 'true', cmap=plt.cm.Greens);\n",
    "# Score\n",
    "accuracy['countVectorizer_multinomialNB'] = accuracy_score(y_pred_count_nb, y_test)"
   ]
  },
  {
   "cell_type": "code",
   "execution_count": 12,
   "id": "a5912373",
   "metadata": {},
   "outputs": [
    {
     "name": "stdout",
     "output_type": "stream",
     "text": [
      "              precision    recall  f1-score   support\n",
      "\n",
      "        real       0.90      0.91      0.91      1766\n",
      "        fake       0.91      0.91      0.91      1835\n",
      "\n",
      "    accuracy                           0.91      3601\n",
      "   macro avg       0.91      0.91      0.91      3601\n",
      "weighted avg       0.91      0.91      0.91      3601\n",
      "\n"
     ]
    },
    {
     "name": "stderr",
     "output_type": "stream",
     "text": [
      "C:\\Users\\franc\\anaconda3\\lib\\site-packages\\sklearn\\utils\\deprecation.py:87: FutureWarning: Function plot_confusion_matrix is deprecated; Function `plot_confusion_matrix` is deprecated in 1.0 and will be removed in 1.2. Use one of the class methods: ConfusionMatrixDisplay.from_predictions or ConfusionMatrixDisplay.from_estimator.\n",
      "  warnings.warn(msg, category=FutureWarning)\n"
     ]
    },
    {
     "data": {
      "image/png": "[encoded data removed]",
      "text/plain": [
       "<Figure size 432x288 with 2 Axes>"
      ]
     },
     "metadata": {
      "needs_background": "light"
     },
     "output_type": "display_data"
    }
   ],
   "source": [
    "#CountVectorizer and linearSVC\n",
    "pip_count_svm.fit(X_train.values, y_train)\n",
    "y_pred_count_svm = pip_count_svm.predict(X_test.values)\n",
    "\n",
    "# Classification report\n",
    "print(classification_report(y_test, y_pred_count_svm, target_names = ['real', 'fake']))\n",
    "# Confusion matrix\n",
    "plot_confusion_matrix(pip_count_svm, X_test.values, y_test, display_labels = ['real', 'fake'], \n",
    "                      normalize = 'true', cmap=plt.cm.Greens);\n",
    "# Score\n",
    "accuracy['countVectorizer_linearSVC'] = accuracy_score(y_pred_count_svm, y_test)"
   ]
  },
  {
   "cell_type": "code",
   "execution_count": 13,
   "id": "b47f3299",
   "metadata": {},
   "outputs": [
    {
     "name": "stdout",
     "output_type": "stream",
     "text": [
      "              precision    recall  f1-score   support\n",
      "\n",
      "        real       0.89      0.86      0.87      1766\n",
      "        fake       0.87      0.89      0.88      1835\n",
      "\n",
      "    accuracy                           0.88      3601\n",
      "   macro avg       0.88      0.88      0.88      3601\n",
      "weighted avg       0.88      0.88      0.88      3601\n",
      "\n"
     ]
    },
    {
     "name": "stderr",
     "output_type": "stream",
     "text": [
      "C:\\Users\\franc\\anaconda3\\lib\\site-packages\\sklearn\\utils\\deprecation.py:87: FutureWarning: Function plot_confusion_matrix is deprecated; Function `plot_confusion_matrix` is deprecated in 1.0 and will be removed in 1.2. Use one of the class methods: ConfusionMatrixDisplay.from_predictions or ConfusionMatrixDisplay.from_estimator.\n",
      "  warnings.warn(msg, category=FutureWarning)\n"
     ]
    },
    {
     "data": {
      "image/png": "[encoded data removed]",
      "text/plain": [
       "<Figure size 432x288 with 2 Axes>"
      ]
     },
     "metadata": {
      "needs_background": "light"
     },
     "output_type": "display_data"
    }
   ],
   "source": [
    "#TfidfVectorizer e multinomialNB\n",
    "pip_tfidf_nb.fit(X_train.values, y_train)\n",
    "y_pred_tfidf_nb = pip_tfidf_nb.predict(X_test.values)\n",
    "\n",
    "# Classification report\n",
    "print(classification_report(y_test, y_pred_tfidf_nb, target_names = ['real', 'fake']))\n",
    "# Confusion matrix\n",
    "plot_confusion_matrix(pip_tfidf_nb, X_test.values, y_test, display_labels = ['real', 'fake'], \n",
    "                      normalize = 'true', cmap=plt.cm.Greens);\n",
    "# Score\n",
    "accuracy['tfidfVectorizer_multinomialNB'] = accuracy_score(y_pred_tfidf_nb, y_test)"
   ]
  },
  {
   "cell_type": "code",
   "execution_count": 14,
   "id": "03a05d0c",
   "metadata": {},
   "outputs": [
    {
     "name": "stdout",
     "output_type": "stream",
     "text": [
      "              precision    recall  f1-score   support\n",
      "\n",
      "        Real       0.93      0.93      0.93      1766\n",
      "        Fake       0.93      0.93      0.93      1835\n",
      "\n",
      "    accuracy                           0.93      3601\n",
      "   macro avg       0.93      0.93      0.93      3601\n",
      "weighted avg       0.93      0.93      0.93      3601\n",
      "\n"
     ]
    },
    {
     "name": "stderr",
     "output_type": "stream",
     "text": [
      "C:\\Users\\franc\\anaconda3\\lib\\site-packages\\sklearn\\utils\\deprecation.py:87: FutureWarning: Function plot_confusion_matrix is deprecated; Function `plot_confusion_matrix` is deprecated in 1.0 and will be removed in 1.2. Use one of the class methods: ConfusionMatrixDisplay.from_predictions or ConfusionMatrixDisplay.from_estimator.\n",
      "  warnings.warn(msg, category=FutureWarning)\n"
     ]
    },
    {
     "data": {
      "image/png": "[encoded data removed]",
      "text/plain": [
       "<Figure size 432x288 with 2 Axes>"
      ]
     },
     "metadata": {
      "needs_background": "light"
     },
     "output_type": "display_data"
    }
   ],
   "source": [
    "#TfidfVectorizer e linearSVC\n",
    "pip_tfidf_svm.fit(X_train.values, y_train)\n",
    "y_pred_tfidf_svm = pip_tfidf_svm.predict(X_test.values)\n",
    "# Classification report\n",
    "print(classification_report(y_test, y_pred_tfidf_svm, target_names = ['Real', 'Fake']))\n",
    "# Confusion matrix\n",
    "plot_confusion_matrix(pip_tfidf_svm, X_test.values, y_test, display_labels = ['Real', 'Fake'], \n",
    "                      normalize = 'true', cmap=plt.cm.Greens);\n",
    "# Score\n",
    "accuracy['tfidfVectorizer_linearSVC'] = accuracy_score(y_pred_tfidf_svm, y_test)\n",
    "\n"
   ]
  },
  {
   "cell_type": "markdown",
   "id": "d5c850df",
   "metadata": {},
   "source": [
    "# Validation 1"
   ]
  },
  {
   "cell_type": "code",
   "execution_count": 15,
   "id": "f36ad60e",
   "metadata": {},
   "outputs": [
    {
     "ename": "NameError",
     "evalue": "name 'X_val' is not defined",
     "output_type": "error",
     "traceback": [
      "\u001b[1;31m---------------------------------------------------------------------------\u001b[0m",
      "\u001b[1;31mNameError\u001b[0m                                 Traceback (most recent call last)",
      "\u001b[1;32m~\\AppData\\Local\\Temp/ipykernel_13084/1418684956.py\u001b[0m in \u001b[0;36m<module>\u001b[1;34m\u001b[0m\n\u001b[1;32m----> 1\u001b[1;33m \u001b[0mvalidation\u001b[0m \u001b[1;33m=\u001b[0m \u001b[0mpip_tfidf_svm\u001b[0m\u001b[1;33m.\u001b[0m\u001b[0mpredict\u001b[0m\u001b[1;33m(\u001b[0m\u001b[0mX_val\u001b[0m\u001b[1;33m.\u001b[0m\u001b[0mvalues\u001b[0m\u001b[1;33m)\u001b[0m\u001b[1;33m\u001b[0m\u001b[1;33m\u001b[0m\u001b[0m\n\u001b[0m",
      "\u001b[1;31mNameError\u001b[0m: name 'X_val' is not defined"
     ]
    }
   ],
   "source": [
    "validation = pip_tfidf_svm.predict(X_val.values)"
   ]
  },
  {
   "cell_type": "code",
   "execution_count": null,
   "id": "2287b556",
   "metadata": {},
   "outputs": [],
   "source": [
    "# Classification report\n",
    "print(classification_report(y_val, validation, target_names = ['Real', 'Fake']))\n",
    "# Confusion matrix\n",
    "plot_confusion_matrix(pip_tfidf_svm, X_val.values, y_val, display_labels = ['Real', 'Fake'], \n",
    "                      normalize = 'true', cmap=plt.cm.Greens);"
   ]
  },
  {
   "cell_type": "markdown",
   "id": "27463960",
   "metadata": {},
   "source": [
    "# More models"
   ]
  },
  {
   "cell_type": "code",
   "execution_count": null,
   "id": "e6b5e109",
   "metadata": {},
   "outputs": [],
   "source": [
    "bag = []\n",
    "for i in range(0, len(messages)):\n",
    "    bag.append(messages['text'][i])"
   ]
  },
  {
   "cell_type": "code",
   "execution_count": null,
   "id": "f715bc4d",
   "metadata": {},
   "outputs": [],
   "source": [
    "cv = CountVectorizer(max_features = 5000,ngram_range=(1,3))\n",
    "X = cv.fit_transform(bag).toarray()\n",
    "X.shape #(18285, 5000)\n",
    "y =messages['rating']"
   ]
  },
  {
   "cell_type": "code",
   "execution_count": null,
   "id": "b2ea82c5",
   "metadata": {},
   "outputs": [],
   "source": [
    "X_train,X_test,y_train,y_test = train_test_split(X,y,test_size = 0.33,random_state = 0)\n",
    "cv.get_feature_names()[:20]"
   ]
  },
  {
   "cell_type": "code",
   "execution_count": null,
   "id": "7db4cc3f",
   "metadata": {},
   "outputs": [],
   "source": [
    "cv.get_params()"
   ]
  },
  {
   "cell_type": "code",
   "execution_count": null,
   "id": "566c8d69",
   "metadata": {},
   "outputs": [],
   "source": [
    "count_df = pd.DataFrame(X_train,columns = cv.get_feature_names())\n",
    "#count_df.head()"
   ]
  },
  {
   "cell_type": "code",
   "execution_count": null,
   "id": "16ed54a0",
   "metadata": {},
   "outputs": [],
   "source": [
    "import matplotlib.pyplot as plt\n",
    "def plot_confusion_matrix(cm, classes,\n",
    "                          normalize=False,\n",
    "                          title='Confusion matrix',\n",
    "                          cmap=plt.cm.Blues):\n",
    "    plt.imshow(cm, interpolation='nearest', cmap=cmap)\n",
    "    plt.title(title)\n",
    "    plt.colorbar()\n",
    "    tick_marks = np.arange(len(classes))\n",
    "    plt.xticks(tick_marks, classes, rotation=45)\n",
    "    plt.yticks(tick_marks, classes)\n",
    "    if normalize:\n",
    "        cm = cm.astype('float') / cm.sum(axis=1)[:, np.newaxis]\n",
    "        print(\"Normalized confusion matrix\")\n",
    "    else:\n",
    "        print('Confusion matrix, without normalization')\n",
    "    thresh = cm.max() / 2.\n",
    "    for i, j in itertools.product(range(cm.shape[0]), range(cm.shape[1])):\n",
    "        plt.text(j, i, cm[i, j],\n",
    "                 horizontalalignment=\"center\",\n",
    "                 color=\"white\" if cm[i, j] > thresh else \"black\")\n",
    "    plt.tight_layout()\n",
    "    plt.ylabel('True label')\n",
    "    plt.xlabel('Predicted label')"
   ]
  },
  {
   "cell_type": "markdown",
   "id": "b44ccc0b",
   "metadata": {},
   "source": [
    "## Multinomial Naive Bayes Algorithm"
   ]
  },
  {
   "cell_type": "code",
   "execution_count": null,
   "id": "8ca3b0bc",
   "metadata": {},
   "outputs": [],
   "source": [
    "from sklearn.naive_bayes import MultinomialNB\n",
    "classifier = MultinomialNB()\n",
    "from sklearn import metrics\n",
    "import numpy as np\n",
    "import itertools\n",
    "classifier1 = classifier.fit(X_train,y_train)\n",
    "pred = classifier.predict(X_test)\n",
    "score = metrics.accuracy_score(y_test,pred)\n",
    "print(\"Accuracy: %0.3f\"%score)\n",
    "cm = metrics.confusion_matrix(y_test,pred)\n",
    "plot_confusion_matrix(cm, classes=['Fake', 'Real'])"
   ]
  },
  {
   "cell_type": "code",
   "execution_count": null,
   "id": "dd9a4422",
   "metadata": {},
   "outputs": [],
   "source": [
    "unique, counts = np.unique(pred, return_counts=True)\n",
    "dict(zip(unique, counts))"
   ]
  },
  {
   "cell_type": "markdown",
   "id": "e2ce350d",
   "metadata": {},
   "source": [
    "# Validation 2"
   ]
  },
  {
   "cell_type": "code",
   "execution_count": null,
   "id": "5847aee6",
   "metadata": {},
   "outputs": [],
   "source": [
    "X_val_t = cv.transform(X_val).toarray()\n",
    "pred1 = classifier.predict(X_val_t)\n",
    "score = metrics.accuracy_score(y_val,pred1)\n",
    "print(\"Accuracy: %0.3f\"%score)\n",
    "cm = metrics.confusion_matrix(y_val,pred1)\n",
    "plot_confusion_matrix(cm, classes=['Fake', 'Real'])"
   ]
  },
  {
   "cell_type": "markdown",
   "id": "4b0fcead",
   "metadata": {},
   "source": [
    "## Passive Aggressive Classifier Algorithm"
   ]
  },
  {
   "cell_type": "code",
   "execution_count": null,
   "id": "2f969e09",
   "metadata": {},
   "outputs": [],
   "source": [
    "from sklearn.linear_model import PassiveAggressiveClassifier\n",
    "linear_clf = PassiveAggressiveClassifier(max_iter=30)\n",
    "linear_clf.fit(X_train,y_train)\n",
    "pred = linear_clf.predict(X_test)\n",
    "score = metrics.accuracy_score(y_test,pred)\n",
    "print(\"Accuracy: %0.3f\"%score)\n",
    "cm = metrics.confusion_matrix(y_test,pred)\n",
    "plot_confusion_matrix(cm,classes = ['Real','Fake'])"
   ]
  },
  {
   "cell_type": "code",
   "execution_count": null,
   "id": "e0c16b07",
   "metadata": {},
   "outputs": [],
   "source": [
    "unique, counts = np.unique(pred, return_counts=True)\n",
    "dict(zip(unique, counts))"
   ]
  },
  {
   "cell_type": "markdown",
   "id": "05144eb5",
   "metadata": {},
   "source": [
    "# Validation 3"
   ]
  },
  {
   "cell_type": "code",
   "execution_count": null,
   "id": "c8f264f4",
   "metadata": {},
   "outputs": [],
   "source": [
    "pred2 = linear_clf.predict(X_val_t)\n",
    "score = metrics.accuracy_score(y_val,pred2)\n",
    "print(\"Accuracy: %0.3f\"%score)\n",
    "cm = metrics.confusion_matrix(y_val,pred2)\n",
    "plot_confusion_matrix(cm,classes = ['Real','Fake'])"
   ]
  },
  {
   "cell_type": "markdown",
   "id": "d239aebe",
   "metadata": {},
   "source": [
    "## BERT Imbau "
   ]
  },
  {
   "cell_type": "code",
   "execution_count": null,
   "id": "8e18ec7f",
   "metadata": {},
   "outputs": [],
   "source": [
    "import torch\n",
    "import torch.nn as nn\n",
    "from sklearn.model_selection import train_test_split\n",
    "from sklearn.metrics import classification_report\n",
    "import transformers\n",
    "from transformers import AutoModel, BertTokenizerFast\n",
    "from sklearn.decomposition import PCA\n",
    "#import tensorflow_hub as hub\n",
    "from sklearn.preprocessing import LabelEncoder\n",
    "from sklearn.metrics import plot_confusion_matrix"
   ]
  },
  {
   "cell_type": "code",
   "execution_count": null,
   "id": "b333dce0",
   "metadata": {},
   "outputs": [],
   "source": [
    "from transformers import AutoModel, AutoTokenizer\n",
    "\n",
    "# Using the community model\n",
    "# BERT Base\n",
    "tokenizer = AutoTokenizer.from_pretrained('neuralmind/bert-base-portuguese-cased')\n",
    "bert = AutoModel.from_pretrained('neuralmind/bert-base-portuguese-cased')"
   ]
  },
  {
   "cell_type": "code",
   "execution_count": null,
   "id": "9a343d68",
   "metadata": {},
   "outputs": [],
   "source": [
    "newsu['label']=pd.get_dummies(newsu.rating)[0.0]"
   ]
  },
  {
   "cell_type": "code",
   "execution_count": null,
   "id": "65968c99",
   "metadata": {},
   "outputs": [],
   "source": [
    "train_text, temp_text, train_labels, temp_labels = train_test_split(newsu['text'], newsu['label'], \n",
    "                                                                    random_state=2018, \n",
    "                                                                    test_size=0.3, \n",
    "                                                                    stratify=newsu['rating'])"
   ]
  },
  {
   "cell_type": "code",
   "execution_count": null,
   "id": "d5d58af5",
   "metadata": {},
   "outputs": [],
   "source": [
    "val_text, test_text, val_labels, test_labels = train_test_split(temp_text, temp_labels, \n",
    "                                                                random_state=2018, \n",
    "                                                                test_size=0.5, \n",
    "                                                                stratify=temp_labels)"
   ]
  },
  {
   "cell_type": "code",
   "execution_count": null,
   "id": "6e72f022",
   "metadata": {},
   "outputs": [],
   "source": [
    "MAX_LENGHT = 15\n",
    "tokens_train = tokenizer.batch_encode_plus(\n",
    "    train_text.tolist(),\n",
    "    max_length = MAX_LENGHT,\n",
    "    pad_to_max_length=True,\n",
    "    truncation=True\n",
    ")\n",
    "\n",
    "# tokenize and encode sequences in the validation set\n",
    "tokens_val = tokenizer.batch_encode_plus(\n",
    "    val_text.tolist(),\n",
    "    max_length = MAX_LENGHT,\n",
    "    pad_to_max_length=True,\n",
    "    truncation=True\n",
    ")\n",
    "\n",
    "# tokenize and encode sequences in the test set\n",
    "tokens_test = tokenizer.batch_encode_plus(\n",
    "    test_text.tolist(),\n",
    "    max_length = MAX_LENGHT,\n",
    "    pad_to_max_length=True,\n",
    "    truncation=True\n",
    ")"
   ]
  },
  {
   "cell_type": "code",
   "execution_count": null,
   "id": "fb8f71c8",
   "metadata": {},
   "outputs": [],
   "source": [
    "## convert lists to tensors\n",
    "\n",
    "train_seq = torch.tensor(tokens_train['input_ids'])\n",
    "train_mask = torch.tensor(tokens_train['attention_mask'])\n",
    "train_y = torch.tensor(train_labels.tolist())\n",
    "\n",
    "val_seq = torch.tensor(tokens_val['input_ids'])\n",
    "val_mask = torch.tensor(tokens_val['attention_mask'])\n",
    "val_y = torch.tensor(val_labels.tolist())\n",
    "\n",
    "test_seq = torch.tensor(tokens_test['input_ids'])\n",
    "test_mask = torch.tensor(tokens_test['attention_mask'])\n",
    "test_y = torch.tensor(test_labels.tolist())"
   ]
  },
  {
   "cell_type": "code",
   "execution_count": null,
   "id": "2f06e278",
   "metadata": {},
   "outputs": [],
   "source": [
    "from torch.utils.data import TensorDataset, DataLoader, RandomSampler, SequentialSampler\n",
    "\n",
    "#define a batch size\n",
    "batch_size = 32\n",
    "\n",
    "# wrap tensors\n",
    "train_data = TensorDataset(train_seq, train_mask, train_y)\n",
    "\n",
    "# sampler for sampling the data during training\n",
    "train_sampler = RandomSampler(train_data)\n",
    "\n",
    "# dataLoader for train set\n",
    "train_dataloader = DataLoader(train_data, sampler=train_sampler, batch_size=batch_size)\n",
    "\n",
    "# wrap tensors\n",
    "val_data = TensorDataset(val_seq, val_mask, val_y)\n",
    "\n",
    "# sampler for sampling the data during training\n",
    "val_sampler = SequentialSampler(val_data)\n",
    "\n",
    "# dataLoader for validation set\n",
    "val_dataloader = DataLoader(val_data, sampler = val_sampler, batch_size=batch_size)"
   ]
  },
  {
   "cell_type": "code",
   "execution_count": null,
   "id": "17ee0c77",
   "metadata": {},
   "outputs": [],
   "source": [
    "for param in bert.parameters():\n",
    "    param.requires_grad = False"
   ]
  },
  {
   "cell_type": "code",
   "execution_count": null,
   "id": "cc5e5894",
   "metadata": {},
   "outputs": [],
   "source": [
    "class BERT_Arch(nn.Module):\n",
    "\n",
    "    def __init__(self, bert):\n",
    "      \n",
    "        super(BERT_Arch, self).__init__()\n",
    "\n",
    "        self.bert = bert \n",
    "      \n",
    "        # dropout layer\n",
    "        self.dropout = nn.Dropout(0.1)\n",
    "      \n",
    "        # relu activation function\n",
    "        self.relu =  nn.ReLU()\n",
    "\n",
    "        # dense layer 1\n",
    "        self.fc1 = nn.Linear(768,512)\n",
    "      \n",
    "        # dense layer 2 (Output layer)\n",
    "        self.fc2 = nn.Linear(512,2)\n",
    "\n",
    "        #softmax activation function\n",
    "        self.softmax = nn.LogSoftmax(dim=1)\n",
    "\n",
    "    #define the forward pass\n",
    "    def forward(self, sent_id, mask):\n",
    "\n",
    "        #pass the inputs to the model  \n",
    "        cls_hs = self.bert(sent_id, attention_mask=mask)['pooler_output']\n",
    "        x = self.fc1(cls_hs)\n",
    "\n",
    "        x = self.relu(x)\n",
    "\n",
    "        x = self.dropout(x)\n",
    "\n",
    "        # output layer\n",
    "        x = self.fc2(x)\n",
    "      \n",
    "        # apply softmax activation\n",
    "        x = self.softmax(x)\n",
    "\n",
    "        return x"
   ]
  },
  {
   "cell_type": "code",
   "execution_count": null,
   "id": "863d66c0",
   "metadata": {},
   "outputs": [],
   "source": [
    "model = BERT_Arch(bert)"
   ]
  },
  {
   "cell_type": "code",
   "execution_count": null,
   "id": "d1987607",
   "metadata": {},
   "outputs": [],
   "source": [
    "from transformers import AdamW\n",
    "\n",
    "# define the optimizer\n",
    "optimizer = AdamW(model.parameters(),\n",
    "                  lr = 1e-5)          # learning rate"
   ]
  },
  {
   "cell_type": "code",
   "execution_count": null,
   "id": "4df2087b",
   "metadata": {},
   "outputs": [],
   "source": [
    "from sklearn.utils.class_weight import compute_class_weight"
   ]
  },
  {
   "cell_type": "code",
   "execution_count": null,
   "id": "1c8c05f6",
   "metadata": {},
   "outputs": [],
   "source": [
    "#compute the class weights\n",
    "class_weights = compute_class_weight('balanced', classes = np.unique(train_labels), y = train_labels)\n",
    "\n",
    "print(\"Class Weights:\",class_weights)"
   ]
  },
  {
   "cell_type": "code",
   "execution_count": null,
   "id": "1d2f6562",
   "metadata": {},
   "outputs": [],
   "source": [
    "weights= torch.tensor(class_weights,dtype=torch.float)\n",
    "\n",
    "# define the loss function\n",
    "cross_entropy  = nn.NLLLoss(weight=weights) \n",
    "\n",
    "# number of training epochs\n",
    "epochs = 10"
   ]
  },
  {
   "cell_type": "code",
   "execution_count": null,
   "id": "ecf9d1f2",
   "metadata": {},
   "outputs": [],
   "source": [
    "def train():\n",
    "  \n",
    "    model.train()\n",
    "\n",
    "    total_loss, total_accuracy = 0, 0\n",
    "  \n",
    "    # empty list to save model predictions\n",
    "    total_preds=[]\n",
    "  \n",
    "    # iterate over batches\n",
    "    for step,batch in enumerate(train_dataloader):\n",
    "    \n",
    "        # progress update after every 50 batches.\n",
    "        if step % 50 == 0 and not step == 0:\n",
    "            print('  Batch {:>5,}  of  {:>5,}.'.format(step, len(train_dataloader)))\n",
    "\n",
    "    # push the batch to gpu\n",
    "    batch = [r for r in batch]\n",
    "    sent_id, mask, labels = batch\n",
    "    #print(type(labels),type(mask),type(sent_id))\n",
    "    #print(sent_id)\n",
    "    # clear previously calculated gradients \n",
    "    model.zero_grad()        \n",
    "    # get model predictions for the current batch\n",
    "    preds = model(sent_id, mask)\n",
    "\n",
    "    # compute the loss between actual and predicted values\n",
    "    loss = cross_entropy(preds, labels)\n",
    "\n",
    "    # add on to the total loss\n",
    "    total_loss = total_loss + loss.item()\n",
    "\n",
    "    # backward pass to calculate the gradients\n",
    "    loss.backward()\n",
    "\n",
    "    # clip the the gradients to 1.0. It helps in preventing the exploding gradient problem\n",
    "    torch.nn.utils.clip_grad_norm_(model.parameters(), 1.0)\n",
    "\n",
    "    # update parameters\n",
    "    optimizer.step()\n",
    "\n",
    "    # model predictions are stored on GPU. So, push it to CPU\n",
    "    preds=preds.detach().cpu().numpy()\n",
    "\n",
    "    # append the model predictions\n",
    "    total_preds.append(preds)\n",
    "\n",
    "    # compute the training loss of the epoch\n",
    "    avg_loss = total_loss / len(train_dataloader)\n",
    "  \n",
    "    # predictions are in the form of (no. of batches, size of batch, no. of classes).\n",
    "    # reshape the predictions in form of (number of samples, no. of classes)\n",
    "    total_preds  = np.concatenate(total_preds, axis=0)\n",
    "\n",
    "    #returns the loss and predictions\n",
    "    return avg_loss, total_preds"
   ]
  },
  {
   "cell_type": "code",
   "execution_count": null,
   "id": "196bf0b5",
   "metadata": {},
   "outputs": [],
   "source": [
    "def evaluate():\n",
    "  \n",
    "    print(\"\\nEvaluating...\")\n",
    "  \n",
    "    # deactivate dropout layers\n",
    "    model.eval()\n",
    "\n",
    "    total_loss, total_accuracy = 0, 0\n",
    "  \n",
    "    # empty list to save the model predictions\n",
    "    total_preds = []\n",
    "\n",
    "    # iterate over batches\n",
    "    for step,batch in enumerate(val_dataloader):\n",
    "    \n",
    "    # Progress update every 50 batches.\n",
    "        if step % 50 == 0 and not step == 0:\n",
    "      \n",
    "        # Calculate elapsed time in minutes.\n",
    "        #elapsed = format_time(time.time() - t0)\n",
    "            \n",
    "        # Report progress.\n",
    "            print('  Batch {:>5,}  of  {:>5,}.'.format(step, len(val_dataloader)))\n",
    "\n",
    "        # push the batch to gpu\n",
    "            batch = [t for t in batch]\n",
    "\n",
    "            sent_id, mask, labels = batch\n",
    "\n",
    "    # deactivate autograd\n",
    "    with torch.no_grad():\n",
    "      \n",
    "        # model predictions\n",
    "        preds = model(sent_id, mask)\n",
    "\n",
    "        # compute the validation loss between actual and predicted values\n",
    "        loss = cross_entropy(preds,labels)\n",
    "\n",
    "        total_loss = total_loss + loss.item()\n",
    "\n",
    "        preds = preds.detach().cpu().numpy()\n",
    "\n",
    "        total_preds.append(preds)\n",
    "\n",
    "    # compute the validation loss of the epoch\n",
    "    avg_loss = total_loss / len(val_dataloader) \n",
    "\n",
    "    # reshape the predictions in form of (number of samples, no. of classes)\n",
    "    total_preds  = np.concatenate(total_preds, axis=0)\n",
    "\n",
    "    return avg_loss, total_preds"
   ]
  },
  {
   "cell_type": "code",
   "execution_count": null,
   "id": "93d3a028",
   "metadata": {},
   "outputs": [],
   "source": [
    "best_valid_loss = float('inf')\n",
    "\n",
    "# empty lists to store training and validation loss of each epoch\n",
    "train_losses=[]\n",
    "valid_losses=[]\n",
    "\n",
    "#for each epoch\n",
    "for epoch in range(epochs):\n",
    "     \n",
    "    print('\\n Epoch {:} / {:}'.format(epoch + 1, epochs))\n",
    "    \n",
    "    #train model\n",
    "    train_loss, _ = train()\n",
    "    \n",
    "    #evaluate model\n",
    "    valid_loss, _ = evaluate()\n",
    "    \n",
    "    #save the best model\n",
    "    if valid_loss < best_valid_loss:\n",
    "        best_valid_loss = valid_loss\n",
    "        torch.save(model.state_dict(), 'saved_weights.pt')\n",
    "    \n",
    "    # append training and validation loss\n",
    "    train_losses.append(train_loss)\n",
    "    valid_losses.append(valid_loss)\n",
    "    \n",
    "    print(f'\\nTraining Loss: {train_loss:.3f}')\n",
    "    print(f'Validation Loss: {valid_loss:.3f}')"
   ]
  },
  {
   "cell_type": "code",
   "execution_count": null,
   "id": "3319551c",
   "metadata": {},
   "outputs": [],
   "source": [
    "#load weights of best model\n",
    "path = 'saved_weights.pt'\n",
    "model.load_state_dict(torch.load(path))"
   ]
  },
  {
   "cell_type": "code",
   "execution_count": null,
   "id": "7c898eac",
   "metadata": {},
   "outputs": [],
   "source": [
    "with torch.no_grad():\n",
    "    preds = model(test_seq, test_mask)\n",
    "    preds = preds.detach().cpu().numpy()"
   ]
  },
  {
   "cell_type": "code",
   "execution_count": null,
   "id": "aaafc10d",
   "metadata": {},
   "outputs": [],
   "source": [
    "preds = np.argmax(preds, axis = 1)\n",
    "print(classification_report(test_y, preds))"
   ]
  },
  {
   "cell_type": "code",
   "execution_count": null,
   "id": "dc927f6b",
   "metadata": {},
   "outputs": [],
   "source": [
    "from sklearn.metrics import confusion_matrix"
   ]
  },
  {
   "cell_type": "code",
   "execution_count": null,
   "id": "7fc00aee",
   "metadata": {},
   "outputs": [],
   "source": [
    "conf = confusion_matrix(preds,test_y)\n",
    "plot_confusion_matrix(conf, classes = ['Fake','Real'])"
   ]
  },
  {
   "cell_type": "markdown",
   "id": "dda0d7bf",
   "metadata": {},
   "source": [
    "### Importing Validation set"
   ]
  },
  {
   "cell_type": "code",
   "execution_count": null,
   "id": "76d64a55",
   "metadata": {},
   "outputs": [],
   "source": [
    "val = pd.read_csv(\"val_news.tsv\").drop(\"Unnamed: 0\", axis = 1)"
   ]
  },
  {
   "cell_type": "code",
   "execution_count": null,
   "id": "9b8d55d9",
   "metadata": {},
   "outputs": [],
   "source": [
    "y_val = val['rating']\n",
    "X_val = val.drop('rating', axis = 1)\n",
    "X_val = X_val['text_processed']"
   ]
  },
  {
   "cell_type": "code",
   "execution_count": null,
   "id": "49f0689d",
   "metadata": {},
   "outputs": [],
   "source": []
  }
 ],
 "metadata": {
  "kernelspec": {
   "display_name": "Python 3 (ipykernel)",
   "language": "python",
   "name": "python3"
  },
  "language_info": {
   "codemirror_mode": {
    "name": "ipython",
    "version": 3
   },
   "file_extension": ".py",
   "mimetype": "text/x-python",
   "name": "python",
   "nbconvert_exporter": "python",
   "pygments_lexer": "ipython3",
   "version": "3.9.7"
  }
 },
 "nbformat": 4,
 "nbformat_minor": 5
}
