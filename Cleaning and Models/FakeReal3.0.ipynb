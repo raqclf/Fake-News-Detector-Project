{
 "cells": [
  {
   "cell_type": "markdown",
   "metadata": {},
   "source": [
    "# FakeReal 3.0"
   ]
  },
  {
   "cell_type": "code",
   "execution_count": 234,
   "metadata": {
    "execution": {
     "iopub.execute_input": "2022-05-06T07:02:55.72586Z",
     "iopub.status.busy": "2022-05-06T07:02:55.725209Z",
     "iopub.status.idle": "2022-05-06T07:02:55.734332Z",
     "shell.execute_reply": "2022-05-06T07:02:55.733703Z",
     "shell.execute_reply.started": "2022-05-06T07:02:55.725819Z"
    }
   },
   "outputs": [
    {
     "name": "stderr",
     "output_type": "stream",
     "text": [
      "[nltk_data] Downloading package stopwords to\n",
      "[nltk_data]     C:\\Users\\franc\\AppData\\Roaming\\nltk_data...\n",
      "[nltk_data]   Package stopwords is already up-to-date!\n"
     ]
    }
   ],
   "source": [
    "# Importing Libraries\n",
    "import pandas as pd\n",
    "import numpy as np\n",
    "import nltk\n",
    "import re\n",
    "from nltk.corpus import stopwords\n",
    "nltk.download('stopwords')\n",
    "from numpy import array\n",
    "from numpy import argmax\n",
    "from sklearn.decomposition import PCA\n",
    "from sklearn.preprocessing import LabelEncoder\n",
    "from sklearn.preprocessing import OneHotEncoder\n",
    "from tensorflow.keras.layers import Embedding,Dropout\n",
    "from tensorflow.keras.preprocessing.sequence import pad_sequences\n",
    "from tensorflow.keras.models import Sequential\n",
    "from tensorflow.keras.preprocessing.text import one_hot\n",
    "from tensorflow.keras.layers import LSTM,Bidirectional,GRU\n",
    "from tensorflow.keras.layers import Dense\n",
    "from sklearn.metrics import classification_report,accuracy_score\n",
    "from sklearn.linear_model import LogisticRegression\n",
    "from sklearn.tree import DecisionTreeClassifier\n",
    "from sklearn.ensemble import RandomForestClassifier\n",
    "from xgboost import XGBClassifier\n",
    "from catboost import CatBoostClassifier\n",
    "from sklearn.linear_model import LogisticRegression\n",
    "from sklearn.naive_bayes import MultinomialNB"
   ]
  },
  {
   "cell_type": "code",
   "execution_count": 235,
   "metadata": {
    "execution": {
     "iopub.execute_input": "2022-05-06T07:02:55.738414Z",
     "iopub.status.busy": "2022-05-06T07:02:55.737953Z",
     "iopub.status.idle": "2022-05-06T07:02:59.692906Z",
     "shell.execute_reply": "2022-05-06T07:02:59.691958Z",
     "shell.execute_reply.started": "2022-05-06T07:02:55.738384Z"
    }
   },
   "outputs": [],
   "source": [
    "# Reading data from csv\n",
    "train = pd.read_csv(\"C:\\\\Users\\\\franc\\\\IH-Lab\\\\BR-FakeNews-Detector\\\\Notebooks\\\\newsu2.tsv\").drop(\"Unnamed: 0\", axis = 1)\n",
    "test = pd.read_csv(\"C:\\\\Users\\\\franc\\\\IH-Lab\\\\BR-FakeNews-Detector\\\\Notebooks\\\\val_news2.tsv\").drop(\"Unnamed: 0\", axis = 1)"
   ]
  },
  {
   "cell_type": "code",
   "execution_count": 236,
   "metadata": {
    "execution": {
     "iopub.execute_input": "2022-05-06T07:03:11.995724Z",
     "iopub.status.busy": "2022-05-06T07:03:11.995093Z",
     "iopub.status.idle": "2022-05-06T07:03:12.002004Z",
     "shell.execute_reply": "2022-05-06T07:03:12.001149Z",
     "shell.execute_reply.started": "2022-05-06T07:03:11.995673Z"
    }
   },
   "outputs": [
    {
     "name": "stdout",
     "output_type": "stream",
     "text": [
      "There are 10911 number of rows and 7 number of columns for training.\n",
      "There are 1000 number of rows and 7 number of columns for testing.\n"
     ]
    }
   ],
   "source": [
    "# Displaying rows and columns in dataset\n",
    "print(\"There are {} number of rows and {} number of columns for training.\".format(train.shape[0],train.shape[1]))\n",
    "print(\"There are {} number of rows and {} number of columns for testing.\".format(test.shape[0],test.shape[1]))"
   ]
  },
  {
   "cell_type": "markdown",
   "metadata": {},
   "source": [
    "**Checking Null Values**"
   ]
  },
  {
   "cell_type": "code",
   "execution_count": 216,
   "metadata": {
    "execution": {
     "iopub.execute_input": "2022-05-06T07:03:31.658895Z",
     "iopub.status.busy": "2022-05-06T07:03:31.658584Z",
     "iopub.status.idle": "2022-05-06T07:03:31.675932Z",
     "shell.execute_reply": "2022-05-06T07:03:31.675133Z",
     "shell.execute_reply.started": "2022-05-06T07:03:31.658863Z"
    }
   },
   "outputs": [
    {
     "data": {
      "text/plain": [
       "title             0\n",
       "text              0\n",
       "tag               0\n",
       "date              0\n",
       "author            0\n",
       "url               0\n",
       "rating            0\n",
       "tagenc            0\n",
       "text_processed    0\n",
       "dtype: int64"
      ]
     },
     "execution_count": 216,
     "metadata": {},
     "output_type": "execute_result"
    }
   ],
   "source": [
    "# Checking the null values in training data.\n",
    "train.isnull().sum()"
   ]
  },
  {
   "cell_type": "code",
   "execution_count": 217,
   "metadata": {
    "execution": {
     "iopub.execute_input": "2022-05-06T07:12:14.229548Z",
     "iopub.status.busy": "2022-05-06T07:12:14.229263Z",
     "iopub.status.idle": "2022-05-06T07:12:14.24077Z",
     "shell.execute_reply": "2022-05-06T07:12:14.239946Z",
     "shell.execute_reply.started": "2022-05-06T07:12:14.229517Z"
    }
   },
   "outputs": [
    {
     "data": {
      "text/plain": [
       "title             0\n",
       "text              0\n",
       "tag               0\n",
       "date              0\n",
       "author            0\n",
       "url               0\n",
       "rating            0\n",
       "tagenc            0\n",
       "text_processed    0\n",
       "dtype: int64"
      ]
     },
     "execution_count": 217,
     "metadata": {},
     "output_type": "execute_result"
    }
   ],
   "source": [
    "# Checking the null values in testing data.\n",
    "test.isnull().sum()"
   ]
  },
  {
   "cell_type": "markdown",
   "metadata": {
    "execution": {
     "iopub.execute_input": "2022-05-06T07:12:51.849733Z",
     "iopub.status.busy": "2022-05-06T07:12:51.849285Z",
     "iopub.status.idle": "2022-05-06T07:12:51.869505Z",
     "shell.execute_reply": "2022-05-06T07:12:51.868837Z",
     "shell.execute_reply.started": "2022-05-06T07:12:51.849695Z"
    }
   },
   "source": [
    "# Handling nan values in dataset using empty spaces\n",
    "def handle_nan(train_data,test_data):\n",
    "    '''Input: Data to the function containing Nan values.\n",
    "       Output : Cleaned data containing no Nan values.\n",
    "       Function: Cleaning Nan values.\n",
    "     '''\n",
    "    train = train_data.fillna(\" \")\n",
    "    test  = test_data.fillna(\" \")\n",
    "    return train,test\n",
    "\n",
    "train,test = handle_nan(train,test)\n"
   ]
  },
  {
   "cell_type": "code",
   "execution_count": 218,
   "metadata": {
    "execution": {
     "iopub.execute_input": "2022-05-06T07:13:01.878119Z",
     "iopub.status.busy": "2022-05-06T07:13:01.877623Z",
     "iopub.status.idle": "2022-05-06T07:13:01.903373Z",
     "shell.execute_reply": "2022-05-06T07:13:01.902576Z",
     "shell.execute_reply.started": "2022-05-06T07:13:01.878078Z"
    }
   },
   "outputs": [],
   "source": [
    "# Creating a variable \"merged\" by merging columns \"title\" and \"author\"\n",
    "train[\"merged\"] = train[\"title\"]+\" \"+train[\"author\"]+train[\"text\"]\n",
    "test[\"merged\"]  = test[\"title\"]+\" \"+test[\"author\"]+train[\"text\"]"
   ]
  },
  {
   "cell_type": "code",
   "execution_count": 219,
   "metadata": {
    "execution": {
     "iopub.execute_input": "2022-05-06T07:13:11.270727Z",
     "iopub.status.busy": "2022-05-06T07:13:11.270429Z",
     "iopub.status.idle": "2022-05-06T07:13:11.287677Z",
     "shell.execute_reply": "2022-05-06T07:13:11.286957Z",
     "shell.execute_reply.started": "2022-05-06T07:13:11.270697Z"
    }
   },
   "outputs": [],
   "source": [
    "# Seperating Independent and dependent features\n",
    "X = train.drop(columns=['rating'],axis=1)\n",
    "y = train['rating']\n",
    "y_val = test['rating']"
   ]
  },
  {
   "cell_type": "code",
   "execution_count": 220,
   "metadata": {
    "execution": {
     "iopub.execute_input": "2022-05-06T07:13:18.796301Z",
     "iopub.status.busy": "2022-05-06T07:13:18.795853Z",
     "iopub.status.idle": "2022-05-06T07:13:18.806278Z",
     "shell.execute_reply": "2022-05-06T07:13:18.805476Z",
     "shell.execute_reply.started": "2022-05-06T07:13:18.796271Z"
    }
   },
   "outputs": [],
   "source": [
    "# Creating One-Hot Representations\n",
    "messages = X.copy()\n",
    "messages.reset_index(inplace=True)\n",
    "messages_test = test.copy()\n",
    "messages_test.reset_index(inplace=True)"
   ]
  },
  {
   "cell_type": "markdown",
   "metadata": {},
   "source": [
    "# Data Pre-processing\n",
    "**In Data Pre-processing following steps are followed:** \n",
    "**1. Firstly, all the sequences except english characters are removed from the string.**\n",
    "**2. Next, to avoid false predictions or ambiguity with upper and lowercase, all the characters in strings are converted    to lowercase.**\n",
    "**3. Next, all the sentences are tokenized into words.**\n",
    "**4. To facilitate fast processing, stemming is applied to the tokenized words.**\n",
    "**5. Next, words are joined together and stored in the corpus.**\n",
    "\n",
    "**Note: In this tutorial, we have used \"merged\" column for classification task. Also, the loop inside the function runs over all the examples in the merged column.**"
   ]
  },
  {
   "cell_type": "code",
   "execution_count": 221,
   "metadata": {
    "execution": {
     "iopub.execute_input": "2022-05-06T07:13:54.360138Z",
     "iopub.status.busy": "2022-05-06T07:13:54.359838Z",
     "iopub.status.idle": "2022-05-06T07:14:53.361218Z",
     "shell.execute_reply": "2022-05-06T07:14:53.360356Z",
     "shell.execute_reply.started": "2022-05-06T07:13:54.360108Z"
    }
   },
   "outputs": [
    {
     "data": {
      "text/plain": [
       "'dose escalonar comum programar vacina o e servir refor ar o dosar o taxar efic cia global coronavac indicar vacinar o doen a e o'"
      ]
     },
     "execution_count": 221,
     "metadata": {},
     "output_type": "execute_result"
    }
   ],
   "source": [
    "# Performing data preprocessing on column 'title'\n",
    "from nltk.stem.porter import PorterStemmer\n",
    "ps = PorterStemmer()\n",
    "def perform_preprocess(data):\n",
    "    '''Input: Data to be processed\n",
    "       Output: Preprocessed data\n",
    "    '''\n",
    "    corpus = []\n",
    "    for i in range(0,len(data)):\n",
    "        review = re.sub('[^a-zA-Z]',' ',data['merged'][i])\n",
    "        review = review.lower()\n",
    "        review = review.split()\n",
    "        review = ' '.join(review)\n",
    "        corpus.append(review)\n",
    "    return corpus\n",
    "    \n",
    "train_corpus = perform_preprocess(messages)\n",
    "test_corpus  = perform_preprocess(messages_test)\n",
    "train_corpus[1]"
   ]
  },
  {
   "cell_type": "code",
   "execution_count": 222,
   "metadata": {
    "execution": {
     "iopub.execute_input": "2022-05-06T07:14:53.362961Z",
     "iopub.status.busy": "2022-05-06T07:14:53.362728Z",
     "iopub.status.idle": "2022-05-06T07:14:53.368186Z",
     "shell.execute_reply": "2022-05-06T07:14:53.367382Z",
     "shell.execute_reply.started": "2022-05-06T07:14:53.362937Z"
    }
   },
   "outputs": [],
   "source": [
    "#test_corpus[1]"
   ]
  },
  {
   "cell_type": "markdown",
   "metadata": {},
   "source": [
    "**Below code converts the pre-processed words to one-hot vectors in the range of vocabulary size=5000. This is done to obtain numerical feature matrix**"
   ]
  },
  {
   "cell_type": "code",
   "execution_count": 223,
   "metadata": {
    "execution": {
     "iopub.execute_input": "2022-05-06T07:14:53.370017Z",
     "iopub.status.busy": "2022-05-06T07:14:53.369724Z",
     "iopub.status.idle": "2022-05-06T07:14:53.76322Z",
     "shell.execute_reply": "2022-05-06T07:14:53.762482Z",
     "shell.execute_reply.started": "2022-05-06T07:14:53.36998Z"
    }
   },
   "outputs": [],
   "source": [
    "# Converting to one-hot repr.\n",
    "vocab_size = 5000\n",
    "one_hot_train = [one_hot(word,vocab_size) for word in train_corpus]\n",
    "one_hot_test  = [one_hot(word,vocab_size) for word in test_corpus]"
   ]
  },
  {
   "cell_type": "markdown",
   "metadata": {},
   "source": [
    "**Below code creates an embedding layer which applies \"pre\" padding to the one-hot encoded features with sentence length = 20. Padding is applied so that the length of every sequence in the dataset should be same.**"
   ]
  },
  {
   "cell_type": "code",
   "execution_count": 224,
   "metadata": {
    "execution": {
     "iopub.execute_input": "2022-05-06T07:15:03.890425Z",
     "iopub.status.busy": "2022-05-06T07:15:03.889795Z",
     "iopub.status.idle": "2022-05-06T07:15:04.019713Z",
     "shell.execute_reply": "2022-05-06T07:15:04.018854Z",
     "shell.execute_reply.started": "2022-05-06T07:15:03.890377Z"
    }
   },
   "outputs": [
    {
     "name": "stdout",
     "output_type": "stream",
     "text": [
      "[[2349 1327 2155 ... 2349 1327 4398]\n",
      " [2349 4724 3038 ...  893 4724 2349]\n",
      " [4066 2013 2349 ... 2176 2053 4627]\n",
      " ...\n",
      " [2349 2505 2987 ... 4176 2961  424]\n",
      " [2513 2349 3656 ... 2349 4992 4709]\n",
      " [2349 1207 2983 ... 1042 2245 3709]]\n"
     ]
    }
   ],
   "source": [
    "# Embedding Representation \n",
    "sent_length = 20\n",
    "embedd_docs_train = pad_sequences(one_hot_train,padding='pre',maxlen=sent_length)\n",
    "embedd_docs_test  = pad_sequences(one_hot_test,padding='pre',maxlen=sent_length)\n",
    "print(embedd_docs_train)"
   ]
  },
  {
   "cell_type": "code",
   "execution_count": 225,
   "metadata": {
    "execution": {
     "iopub.execute_input": "2022-05-06T07:16:16.210509Z",
     "iopub.status.busy": "2022-05-06T07:16:16.209711Z",
     "iopub.status.idle": "2022-05-06T07:16:16.216543Z",
     "shell.execute_reply": "2022-05-06T07:16:16.215818Z",
     "shell.execute_reply.started": "2022-05-06T07:16:16.210468Z"
    }
   },
   "outputs": [],
   "source": [
    "# Converting Embedding repr. to array\n",
    "x_final = np.array(embedd_docs_train)\n",
    "y_final = np.array(y)\n",
    "x_test_final = np.array(embedd_docs_test)"
   ]
  },
  {
   "cell_type": "markdown",
   "metadata": {
    "execution": {
     "iopub.execute_input": "2022-05-06T07:16:22.347152Z",
     "iopub.status.busy": "2022-05-06T07:16:22.346439Z",
     "iopub.status.idle": "2022-05-06T07:16:22.352932Z",
     "shell.execute_reply": "2022-05-06T07:16:22.352239Z",
     "shell.execute_reply.started": "2022-05-06T07:16:22.347117Z"
    }
   },
   "source": [
    "# Dimensions of prev. array repr.\n",
    "x_final.shape,y_final.shape,x_test_final.shape"
   ]
  },
  {
   "cell_type": "markdown",
   "metadata": {},
   "source": [
    "**Dividing the dataset into training,validation and testing data (ratio: 80/10/10) using train_test_split technique.**"
   ]
  },
  {
   "cell_type": "code",
   "execution_count": 226,
   "metadata": {
    "execution": {
     "iopub.execute_input": "2022-05-06T07:16:40.769821Z",
     "iopub.status.busy": "2022-05-06T07:16:40.769534Z",
     "iopub.status.idle": "2022-05-06T07:16:40.801821Z",
     "shell.execute_reply": "2022-05-06T07:16:40.801218Z",
     "shell.execute_reply.started": "2022-05-06T07:16:40.769793Z"
    }
   },
   "outputs": [],
   "source": [
    "from sklearn.model_selection import train_test_split\n",
    "x_train, x_test, y_train, y_test = train_test_split(x_final, y_final, test_size=0.1, random_state=42, stratify = y_final)\n",
    "X_train, x_valid, Y_train, y_valid = train_test_split(x_train, y_train, test_size=0.1, random_state=42, stratify = y_train)\n",
    "x_test_final = x_test_final"
   ]
  },
  {
   "cell_type": "markdown",
   "metadata": {},
   "source": [
    "# Creating Models\n",
    "**In this phase, several models are created and evaluated against various metrics shown using classification report.**"
   ]
  },
  {
   "cell_type": "markdown",
   "metadata": {},
   "source": [
    "**1. Logistic Regresssion**"
   ]
  },
  {
   "cell_type": "code",
   "execution_count": 227,
   "metadata": {
    "execution": {
     "iopub.execute_input": "2022-05-06T07:17:39.151545Z",
     "iopub.status.busy": "2022-05-06T07:17:39.151251Z",
     "iopub.status.idle": "2022-05-06T07:17:39.647241Z",
     "shell.execute_reply": "2022-05-06T07:17:39.646382Z",
     "shell.execute_reply.started": "2022-05-06T07:17:39.151512Z"
    }
   },
   "outputs": [
    {
     "name": "stdout",
     "output_type": "stream",
     "text": [
      "              precision    recall  f1-score   support\n",
      "\n",
      "         0.0       0.53      0.48      0.50       545\n",
      "         1.0       0.53      0.58      0.55       547\n",
      "\n",
      "    accuracy                           0.53      1092\n",
      "   macro avg       0.53      0.53      0.53      1092\n",
      "weighted avg       0.53      0.53      0.53      1092\n",
      "\n"
     ]
    }
   ],
   "source": [
    "model_1 = LogisticRegression(max_iter=900)\n",
    "model_1.fit(X_train,Y_train)\n",
    "pred_1 = model_1.predict(x_test)\n",
    "cr1    = classification_report(y_test,pred_1)\n",
    "print(cr1)"
   ]
  },
  {
   "cell_type": "markdown",
   "metadata": {},
   "source": [
    "**2. Naive Bayes**"
   ]
  },
  {
   "cell_type": "code",
   "execution_count": 228,
   "metadata": {
    "execution": {
     "iopub.execute_input": "2022-05-06T07:18:01.250354Z",
     "iopub.status.busy": "2022-05-06T07:18:01.249786Z",
     "iopub.status.idle": "2022-05-06T07:18:01.275681Z",
     "shell.execute_reply": "2022-05-06T07:18:01.274779Z",
     "shell.execute_reply.started": "2022-05-06T07:18:01.250313Z"
    }
   },
   "outputs": [
    {
     "name": "stdout",
     "output_type": "stream",
     "text": [
      "              precision    recall  f1-score   support\n",
      "\n",
      "         0.0       0.53      0.52      0.52       545\n",
      "         1.0       0.53      0.54      0.53       547\n",
      "\n",
      "    accuracy                           0.53      1092\n",
      "   macro avg       0.53      0.53      0.53      1092\n",
      "weighted avg       0.53      0.53      0.53      1092\n",
      "\n"
     ]
    }
   ],
   "source": [
    "model_2 = MultinomialNB()\n",
    "model_2.fit(X_train,Y_train)\n",
    "pred_2 = model_2.predict(x_test)\n",
    "cr2    = classification_report(y_test,pred_2)\n",
    "print(cr2)"
   ]
  },
  {
   "cell_type": "markdown",
   "metadata": {},
   "source": [
    "**3. Decision Trees**"
   ]
  },
  {
   "cell_type": "code",
   "execution_count": 229,
   "metadata": {
    "execution": {
     "iopub.execute_input": "2022-05-06T07:18:22.053466Z",
     "iopub.status.busy": "2022-05-06T07:18:22.053181Z",
     "iopub.status.idle": "2022-05-06T07:18:22.232118Z",
     "shell.execute_reply": "2022-05-06T07:18:22.231089Z",
     "shell.execute_reply.started": "2022-05-06T07:18:22.053437Z"
    }
   },
   "outputs": [
    {
     "name": "stdout",
     "output_type": "stream",
     "text": [
      "              precision    recall  f1-score   support\n",
      "\n",
      "         0.0       0.55      0.57      0.56       545\n",
      "         1.0       0.55      0.53      0.54       547\n",
      "\n",
      "    accuracy                           0.55      1092\n",
      "   macro avg       0.55      0.55      0.55      1092\n",
      "weighted avg       0.55      0.55      0.55      1092\n",
      "\n"
     ]
    }
   ],
   "source": [
    "model_3 = DecisionTreeClassifier()\n",
    "model_3.fit(X_train,Y_train)\n",
    "pred_3 = model_3.predict(x_test)\n",
    "cr3    = classification_report(y_test,pred_3)\n",
    "print(cr3)"
   ]
  },
  {
   "cell_type": "markdown",
   "metadata": {},
   "source": [
    "**4. Random Forest**"
   ]
  },
  {
   "cell_type": "code",
   "execution_count": 230,
   "metadata": {
    "execution": {
     "iopub.execute_input": "2022-05-06T07:18:40.695536Z",
     "iopub.status.busy": "2022-05-06T07:18:40.695235Z",
     "iopub.status.idle": "2022-05-06T07:18:43.748653Z",
     "shell.execute_reply": "2022-05-06T07:18:43.747842Z",
     "shell.execute_reply.started": "2022-05-06T07:18:40.695501Z"
    }
   },
   "outputs": [
    {
     "name": "stdout",
     "output_type": "stream",
     "text": [
      "              precision    recall  f1-score   support\n",
      "\n",
      "         0.0       0.55      0.52      0.53       545\n",
      "         1.0       0.54      0.57      0.56       547\n",
      "\n",
      "    accuracy                           0.55      1092\n",
      "   macro avg       0.55      0.55      0.55      1092\n",
      "weighted avg       0.55      0.55      0.55      1092\n",
      "\n"
     ]
    }
   ],
   "source": [
    "model_4 = RandomForestClassifier()\n",
    "model_4.fit(X_train,Y_train)\n",
    "pred_4 = model_4.predict(x_test)\n",
    "cr4    = classification_report(y_test,pred_4)\n",
    "print(cr4)"
   ]
  },
  {
   "cell_type": "markdown",
   "metadata": {},
   "source": [
    "**5. XGBOOST**"
   ]
  },
  {
   "cell_type": "code",
   "execution_count": 231,
   "metadata": {
    "execution": {
     "iopub.execute_input": "2022-05-06T07:19:07.28154Z",
     "iopub.status.busy": "2022-05-06T07:19:07.281145Z",
     "iopub.status.idle": "2022-05-06T07:19:09.206272Z",
     "shell.execute_reply": "2022-05-06T07:19:09.205543Z",
     "shell.execute_reply.started": "2022-05-06T07:19:07.281511Z"
    }
   },
   "outputs": [
    {
     "name": "stdout",
     "output_type": "stream",
     "text": [
      "              precision    recall  f1-score   support\n",
      "\n",
      "         0.0       0.57      0.55      0.56       545\n",
      "         1.0       0.57      0.59      0.58       547\n",
      "\n",
      "    accuracy                           0.57      1092\n",
      "   macro avg       0.57      0.57      0.57      1092\n",
      "weighted avg       0.57      0.57      0.57      1092\n",
      "\n"
     ]
    }
   ],
   "source": [
    "model_5 = XGBClassifier()\n",
    "model_5.fit(X_train,Y_train)\n",
    "pred_5 = model_5.predict(x_test)\n",
    "cr5    = classification_report(y_test,pred_5)\n",
    "print(cr5)"
   ]
  },
  {
   "cell_type": "markdown",
   "metadata": {},
   "source": [
    "**6.Catboost**"
   ]
  },
  {
   "cell_type": "code",
   "execution_count": 232,
   "metadata": {
    "execution": {
     "iopub.execute_input": "2022-05-06T07:20:07.683934Z",
     "iopub.status.busy": "2022-05-06T07:20:07.683662Z",
     "iopub.status.idle": "2022-05-06T07:20:09.404499Z",
     "shell.execute_reply": "2022-05-06T07:20:09.403854Z",
     "shell.execute_reply.started": "2022-05-06T07:20:07.683907Z"
    }
   },
   "outputs": [
    {
     "name": "stdout",
     "output_type": "stream",
     "text": [
      "Learning rate set to 0.114278\n",
      "0:\tlearn: 0.6901845\ttotal: 14.8ms\tremaining: 2.94s\n",
      "1:\tlearn: 0.6880302\ttotal: 25.2ms\tremaining: 2.49s\n",
      "2:\tlearn: 0.6862393\ttotal: 34.5ms\tremaining: 2.27s\n",
      "3:\tlearn: 0.6846841\ttotal: 44.1ms\tremaining: 2.16s\n",
      "4:\tlearn: 0.6834850\ttotal: 52.9ms\tremaining: 2.06s\n",
      "5:\tlearn: 0.6822415\ttotal: 60.9ms\tremaining: 1.97s\n",
      "6:\tlearn: 0.6810442\ttotal: 68.3ms\tremaining: 1.88s\n",
      "7:\tlearn: 0.6803194\ttotal: 75.3ms\tremaining: 1.81s\n",
      "8:\tlearn: 0.6791042\ttotal: 81.8ms\tremaining: 1.74s\n",
      "9:\tlearn: 0.6780678\ttotal: 89.4ms\tremaining: 1.7s\n",
      "10:\tlearn: 0.6769062\ttotal: 95.9ms\tremaining: 1.65s\n",
      "11:\tlearn: 0.6762024\ttotal: 102ms\tremaining: 1.6s\n",
      "12:\tlearn: 0.6753331\ttotal: 109ms\tremaining: 1.57s\n",
      "13:\tlearn: 0.6742998\ttotal: 116ms\tremaining: 1.55s\n",
      "14:\tlearn: 0.6732895\ttotal: 123ms\tremaining: 1.51s\n",
      "15:\tlearn: 0.6722887\ttotal: 130ms\tremaining: 1.5s\n",
      "16:\tlearn: 0.6715551\ttotal: 137ms\tremaining: 1.48s\n",
      "17:\tlearn: 0.6702992\ttotal: 143ms\tremaining: 1.45s\n",
      "18:\tlearn: 0.6691248\ttotal: 150ms\tremaining: 1.43s\n",
      "19:\tlearn: 0.6680030\ttotal: 157ms\tremaining: 1.42s\n",
      "20:\tlearn: 0.6671857\ttotal: 164ms\tremaining: 1.4s\n",
      "21:\tlearn: 0.6662904\ttotal: 173ms\tremaining: 1.4s\n",
      "22:\tlearn: 0.6651615\ttotal: 180ms\tremaining: 1.38s\n",
      "23:\tlearn: 0.6641000\ttotal: 189ms\tremaining: 1.39s\n",
      "24:\tlearn: 0.6628489\ttotal: 198ms\tremaining: 1.39s\n",
      "25:\tlearn: 0.6615963\ttotal: 208ms\tremaining: 1.39s\n",
      "26:\tlearn: 0.6605597\ttotal: 219ms\tremaining: 1.4s\n",
      "27:\tlearn: 0.6595858\ttotal: 226ms\tremaining: 1.39s\n",
      "28:\tlearn: 0.6586270\ttotal: 234ms\tremaining: 1.38s\n",
      "29:\tlearn: 0.6576062\ttotal: 240ms\tremaining: 1.36s\n",
      "30:\tlearn: 0.6566303\ttotal: 247ms\tremaining: 1.35s\n",
      "31:\tlearn: 0.6556884\ttotal: 256ms\tremaining: 1.34s\n",
      "32:\tlearn: 0.6548673\ttotal: 265ms\tremaining: 1.34s\n",
      "33:\tlearn: 0.6536662\ttotal: 276ms\tremaining: 1.35s\n",
      "34:\tlearn: 0.6526594\ttotal: 286ms\tremaining: 1.35s\n",
      "35:\tlearn: 0.6520539\ttotal: 295ms\tremaining: 1.34s\n",
      "36:\tlearn: 0.6509666\ttotal: 309ms\tremaining: 1.36s\n",
      "37:\tlearn: 0.6501753\ttotal: 316ms\tremaining: 1.35s\n",
      "38:\tlearn: 0.6492605\ttotal: 324ms\tremaining: 1.34s\n",
      "39:\tlearn: 0.6481796\ttotal: 331ms\tremaining: 1.32s\n",
      "40:\tlearn: 0.6473024\ttotal: 338ms\tremaining: 1.31s\n",
      "41:\tlearn: 0.6465361\ttotal: 345ms\tremaining: 1.3s\n",
      "42:\tlearn: 0.6455743\ttotal: 352ms\tremaining: 1.28s\n",
      "43:\tlearn: 0.6449839\ttotal: 359ms\tremaining: 1.27s\n",
      "44:\tlearn: 0.6426460\ttotal: 365ms\tremaining: 1.26s\n",
      "45:\tlearn: 0.6413912\ttotal: 373ms\tremaining: 1.25s\n",
      "46:\tlearn: 0.6407309\ttotal: 383ms\tremaining: 1.25s\n",
      "47:\tlearn: 0.6395177\ttotal: 395ms\tremaining: 1.25s\n",
      "48:\tlearn: 0.6386611\ttotal: 403ms\tremaining: 1.24s\n",
      "49:\tlearn: 0.6374077\ttotal: 409ms\tremaining: 1.23s\n",
      "50:\tlearn: 0.6364930\ttotal: 417ms\tremaining: 1.22s\n",
      "51:\tlearn: 0.6356976\ttotal: 425ms\tremaining: 1.21s\n",
      "52:\tlearn: 0.6346972\ttotal: 432ms\tremaining: 1.2s\n",
      "53:\tlearn: 0.6338384\ttotal: 440ms\tremaining: 1.19s\n",
      "54:\tlearn: 0.6333844\ttotal: 447ms\tremaining: 1.18s\n",
      "55:\tlearn: 0.6323832\ttotal: 454ms\tremaining: 1.17s\n",
      "56:\tlearn: 0.6313379\ttotal: 461ms\tremaining: 1.16s\n",
      "57:\tlearn: 0.6303900\ttotal: 469ms\tremaining: 1.15s\n",
      "58:\tlearn: 0.6293124\ttotal: 477ms\tremaining: 1.14s\n",
      "59:\tlearn: 0.6286431\ttotal: 484ms\tremaining: 1.13s\n",
      "60:\tlearn: 0.6274681\ttotal: 491ms\tremaining: 1.12s\n",
      "61:\tlearn: 0.6265068\ttotal: 503ms\tremaining: 1.12s\n",
      "62:\tlearn: 0.6256166\ttotal: 511ms\tremaining: 1.11s\n",
      "63:\tlearn: 0.6250587\ttotal: 518ms\tremaining: 1.1s\n",
      "64:\tlearn: 0.6240799\ttotal: 528ms\tremaining: 1.1s\n",
      "65:\tlearn: 0.6231418\ttotal: 537ms\tremaining: 1.09s\n",
      "66:\tlearn: 0.6222066\ttotal: 548ms\tremaining: 1.09s\n",
      "67:\tlearn: 0.6211476\ttotal: 558ms\tremaining: 1.08s\n",
      "68:\tlearn: 0.6205913\ttotal: 569ms\tremaining: 1.08s\n",
      "69:\tlearn: 0.6198541\ttotal: 580ms\tremaining: 1.08s\n",
      "70:\tlearn: 0.6190795\ttotal: 589ms\tremaining: 1.07s\n",
      "71:\tlearn: 0.6183629\ttotal: 598ms\tremaining: 1.06s\n",
      "72:\tlearn: 0.6173659\ttotal: 606ms\tremaining: 1.05s\n",
      "73:\tlearn: 0.6164148\ttotal: 617ms\tremaining: 1.05s\n",
      "74:\tlearn: 0.6156456\ttotal: 626ms\tremaining: 1.04s\n",
      "75:\tlearn: 0.6145481\ttotal: 635ms\tremaining: 1.03s\n",
      "76:\tlearn: 0.6140039\ttotal: 644ms\tremaining: 1.03s\n",
      "77:\tlearn: 0.6132996\ttotal: 652ms\tremaining: 1.02s\n",
      "78:\tlearn: 0.6126588\ttotal: 660ms\tremaining: 1.01s\n",
      "79:\tlearn: 0.6121487\ttotal: 667ms\tremaining: 1000ms\n",
      "80:\tlearn: 0.6110536\ttotal: 678ms\tremaining: 996ms\n",
      "81:\tlearn: 0.6099677\ttotal: 685ms\tremaining: 986ms\n",
      "82:\tlearn: 0.6089993\ttotal: 693ms\tremaining: 977ms\n",
      "83:\tlearn: 0.6082301\ttotal: 700ms\tremaining: 967ms\n",
      "84:\tlearn: 0.6073072\ttotal: 708ms\tremaining: 958ms\n",
      "85:\tlearn: 0.6065586\ttotal: 715ms\tremaining: 948ms\n",
      "86:\tlearn: 0.6056604\ttotal: 723ms\tremaining: 940ms\n",
      "87:\tlearn: 0.6047120\ttotal: 731ms\tremaining: 931ms\n",
      "88:\tlearn: 0.6036808\ttotal: 741ms\tremaining: 924ms\n",
      "89:\tlearn: 0.6024163\ttotal: 748ms\tremaining: 914ms\n",
      "90:\tlearn: 0.6011013\ttotal: 757ms\tremaining: 907ms\n",
      "91:\tlearn: 0.6000309\ttotal: 768ms\tremaining: 902ms\n",
      "92:\tlearn: 0.5992788\ttotal: 775ms\tremaining: 892ms\n",
      "93:\tlearn: 0.5983522\ttotal: 782ms\tremaining: 882ms\n",
      "94:\tlearn: 0.5976013\ttotal: 790ms\tremaining: 873ms\n",
      "95:\tlearn: 0.5966976\ttotal: 797ms\tremaining: 864ms\n",
      "96:\tlearn: 0.5956931\ttotal: 804ms\tremaining: 854ms\n",
      "97:\tlearn: 0.5947688\ttotal: 811ms\tremaining: 844ms\n",
      "98:\tlearn: 0.5933890\ttotal: 818ms\tremaining: 835ms\n",
      "99:\tlearn: 0.5925523\ttotal: 825ms\tremaining: 825ms\n",
      "100:\tlearn: 0.5917806\ttotal: 832ms\tremaining: 815ms\n",
      "101:\tlearn: 0.5908499\ttotal: 841ms\tremaining: 808ms\n",
      "102:\tlearn: 0.5899975\ttotal: 850ms\tremaining: 800ms\n",
      "103:\tlearn: 0.5892567\ttotal: 857ms\tremaining: 791ms\n",
      "104:\tlearn: 0.5881790\ttotal: 866ms\tremaining: 783ms\n",
      "105:\tlearn: 0.5873928\ttotal: 872ms\tremaining: 773ms\n",
      "106:\tlearn: 0.5861845\ttotal: 880ms\tremaining: 764ms\n",
      "107:\tlearn: 0.5852513\ttotal: 887ms\tremaining: 756ms\n",
      "108:\tlearn: 0.5844763\ttotal: 895ms\tremaining: 747ms\n",
      "109:\tlearn: 0.5837108\ttotal: 902ms\tremaining: 738ms\n",
      "110:\tlearn: 0.5827094\ttotal: 908ms\tremaining: 728ms\n",
      "111:\tlearn: 0.5815262\ttotal: 915ms\tremaining: 719ms\n",
      "112:\tlearn: 0.5804141\ttotal: 926ms\tremaining: 713ms\n",
      "113:\tlearn: 0.5795677\ttotal: 936ms\tremaining: 706ms\n",
      "114:\tlearn: 0.5788685\ttotal: 947ms\tremaining: 700ms\n",
      "115:\tlearn: 0.5782383\ttotal: 958ms\tremaining: 693ms\n",
      "116:\tlearn: 0.5773056\ttotal: 966ms\tremaining: 685ms\n",
      "117:\tlearn: 0.5763652\ttotal: 973ms\tremaining: 676ms\n",
      "118:\tlearn: 0.5752728\ttotal: 981ms\tremaining: 667ms\n",
      "119:\tlearn: 0.5742986\ttotal: 987ms\tremaining: 658ms\n",
      "120:\tlearn: 0.5736618\ttotal: 994ms\tremaining: 649ms\n",
      "121:\tlearn: 0.5726521\ttotal: 1s\tremaining: 640ms\n",
      "122:\tlearn: 0.5718818\ttotal: 1.01s\tremaining: 631ms\n",
      "123:\tlearn: 0.5711515\ttotal: 1.01s\tremaining: 622ms\n",
      "124:\tlearn: 0.5702577\ttotal: 1.02s\tremaining: 613ms\n",
      "125:\tlearn: 0.5691874\ttotal: 1.03s\tremaining: 604ms\n",
      "126:\tlearn: 0.5681634\ttotal: 1.03s\tremaining: 595ms\n",
      "127:\tlearn: 0.5671061\ttotal: 1.04s\tremaining: 586ms\n",
      "128:\tlearn: 0.5663264\ttotal: 1.05s\tremaining: 578ms\n",
      "129:\tlearn: 0.5654629\ttotal: 1.06s\tremaining: 570ms\n",
      "130:\tlearn: 0.5644334\ttotal: 1.07s\tremaining: 562ms\n",
      "131:\tlearn: 0.5633241\ttotal: 1.07s\tremaining: 553ms\n",
      "132:\tlearn: 0.5626675\ttotal: 1.08s\tremaining: 545ms\n",
      "133:\tlearn: 0.5619426\ttotal: 1.09s\tremaining: 536ms\n",
      "134:\tlearn: 0.5609016\ttotal: 1.09s\tremaining: 527ms\n",
      "135:\tlearn: 0.5600213\ttotal: 1.1s\tremaining: 519ms\n",
      "136:\tlearn: 0.5590855\ttotal: 1.11s\tremaining: 511ms\n",
      "137:\tlearn: 0.5583178\ttotal: 1.12s\tremaining: 503ms\n",
      "138:\tlearn: 0.5572573\ttotal: 1.13s\tremaining: 495ms\n",
      "139:\tlearn: 0.5564247\ttotal: 1.14s\tremaining: 487ms\n",
      "140:\tlearn: 0.5554919\ttotal: 1.14s\tremaining: 478ms\n",
      "141:\tlearn: 0.5546678\ttotal: 1.15s\tremaining: 470ms\n",
      "142:\tlearn: 0.5536311\ttotal: 1.16s\tremaining: 464ms\n",
      "143:\tlearn: 0.5526868\ttotal: 1.18s\tremaining: 457ms\n",
      "144:\tlearn: 0.5514724\ttotal: 1.18s\tremaining: 449ms\n",
      "145:\tlearn: 0.5506912\ttotal: 1.19s\tremaining: 442ms\n",
      "146:\tlearn: 0.5497990\ttotal: 1.21s\tremaining: 435ms\n",
      "147:\tlearn: 0.5489232\ttotal: 1.22s\tremaining: 427ms\n",
      "148:\tlearn: 0.5477346\ttotal: 1.23s\tremaining: 420ms\n",
      "149:\tlearn: 0.5467116\ttotal: 1.24s\tremaining: 412ms\n",
      "150:\tlearn: 0.5457943\ttotal: 1.25s\tremaining: 404ms\n",
      "151:\tlearn: 0.5450940\ttotal: 1.25s\tremaining: 396ms\n",
      "152:\tlearn: 0.5441228\ttotal: 1.26s\tremaining: 388ms\n",
      "153:\tlearn: 0.5433944\ttotal: 1.27s\tremaining: 380ms\n",
      "154:\tlearn: 0.5426418\ttotal: 1.28s\tremaining: 372ms\n",
      "155:\tlearn: 0.5418639\ttotal: 1.3s\tremaining: 366ms\n",
      "156:\tlearn: 0.5410350\ttotal: 1.31s\tremaining: 359ms\n",
      "157:\tlearn: 0.5400270\ttotal: 1.32s\tremaining: 352ms\n",
      "158:\tlearn: 0.5391910\ttotal: 1.33s\tremaining: 344ms\n",
      "159:\tlearn: 0.5384513\ttotal: 1.34s\tremaining: 336ms\n",
      "160:\tlearn: 0.5374724\ttotal: 1.35s\tremaining: 327ms\n",
      "161:\tlearn: 0.5367364\ttotal: 1.36s\tremaining: 319ms\n",
      "162:\tlearn: 0.5358300\ttotal: 1.37s\tremaining: 310ms\n",
      "163:\tlearn: 0.5348905\ttotal: 1.38s\tremaining: 302ms\n",
      "164:\tlearn: 0.5339938\ttotal: 1.39s\tremaining: 294ms\n",
      "165:\tlearn: 0.5332699\ttotal: 1.39s\tremaining: 286ms\n",
      "166:\tlearn: 0.5320719\ttotal: 1.41s\tremaining: 278ms\n",
      "167:\tlearn: 0.5310937\ttotal: 1.42s\tremaining: 270ms\n",
      "168:\tlearn: 0.5303006\ttotal: 1.43s\tremaining: 261ms\n",
      "169:\tlearn: 0.5295432\ttotal: 1.44s\tremaining: 253ms\n",
      "170:\tlearn: 0.5286722\ttotal: 1.44s\tremaining: 245ms\n",
      "171:\tlearn: 0.5278076\ttotal: 1.45s\tremaining: 236ms\n",
      "172:\tlearn: 0.5269124\ttotal: 1.46s\tremaining: 228ms\n",
      "173:\tlearn: 0.5260828\ttotal: 1.47s\tremaining: 220ms\n",
      "174:\tlearn: 0.5251618\ttotal: 1.48s\tremaining: 211ms\n"
     ]
    },
    {
     "name": "stdout",
     "output_type": "stream",
     "text": [
      "175:\tlearn: 0.5244659\ttotal: 1.49s\tremaining: 203ms\n",
      "176:\tlearn: 0.5238338\ttotal: 1.5s\tremaining: 195ms\n",
      "177:\tlearn: 0.5232441\ttotal: 1.51s\tremaining: 187ms\n",
      "178:\tlearn: 0.5226176\ttotal: 1.52s\tremaining: 178ms\n",
      "179:\tlearn: 0.5217176\ttotal: 1.53s\tremaining: 170ms\n",
      "180:\tlearn: 0.5208651\ttotal: 1.54s\tremaining: 161ms\n",
      "181:\tlearn: 0.5203153\ttotal: 1.55s\tremaining: 153ms\n",
      "182:\tlearn: 0.5192943\ttotal: 1.55s\tremaining: 144ms\n",
      "183:\tlearn: 0.5184027\ttotal: 1.56s\tremaining: 136ms\n",
      "184:\tlearn: 0.5177843\ttotal: 1.57s\tremaining: 127ms\n",
      "185:\tlearn: 0.5171548\ttotal: 1.58s\tremaining: 119ms\n",
      "186:\tlearn: 0.5164821\ttotal: 1.59s\tremaining: 110ms\n",
      "187:\tlearn: 0.5158716\ttotal: 1.6s\tremaining: 102ms\n",
      "188:\tlearn: 0.5151825\ttotal: 1.6s\tremaining: 93.4ms\n",
      "189:\tlearn: 0.5145534\ttotal: 1.62s\tremaining: 85.1ms\n",
      "190:\tlearn: 0.5137304\ttotal: 1.62s\tremaining: 76.5ms\n",
      "191:\tlearn: 0.5129673\ttotal: 1.63s\tremaining: 68ms\n",
      "192:\tlearn: 0.5119631\ttotal: 1.64s\tremaining: 59.5ms\n",
      "193:\tlearn: 0.5113478\ttotal: 1.65s\tremaining: 51ms\n",
      "194:\tlearn: 0.5107922\ttotal: 1.66s\tremaining: 42.5ms\n",
      "195:\tlearn: 0.5101742\ttotal: 1.66s\tremaining: 34ms\n",
      "196:\tlearn: 0.5095233\ttotal: 1.67s\tremaining: 25.5ms\n",
      "197:\tlearn: 0.5086825\ttotal: 1.68s\tremaining: 17ms\n",
      "198:\tlearn: 0.5077597\ttotal: 1.7s\tremaining: 8.53ms\n",
      "199:\tlearn: 0.5068186\ttotal: 1.7s\tremaining: 0us\n",
      "              precision    recall  f1-score   support\n",
      "\n",
      "         0.0       0.57      0.55      0.56       545\n",
      "         1.0       0.57      0.59      0.58       547\n",
      "\n",
      "    accuracy                           0.57      1092\n",
      "   macro avg       0.57      0.57      0.57      1092\n",
      "weighted avg       0.57      0.57      0.57      1092\n",
      "\n"
     ]
    }
   ],
   "source": [
    "model_6 = CatBoostClassifier(iterations=200)\n",
    "model_6.fit(X_train,Y_train)\n",
    "pred_6 = model_5.predict(x_test)\n",
    "cr6    = classification_report(y_test,pred_5)\n",
    "print(cr6)"
   ]
  },
  {
   "cell_type": "markdown",
   "metadata": {},
   "source": [
    "**7. LSTM**\n",
    "\n",
    "**In this model, 1.) The value for embedding feature vectors = 40 which are target feature vectors for the embedding layer. 2.) Single LSTM Layer with 100 nodes are used. 3.)Dense Layer with 1 neuron and sigmoid activation function is used since, this is a binary classification problem. 4) Dropout technique is used to avoid overfiiting and adam optimizer is used for optimizing the loss function.**"
   ]
  },
  {
   "cell_type": "code",
   "execution_count": 233,
   "metadata": {
    "execution": {
     "iopub.execute_input": "2022-05-06T07:20:36.782222Z",
     "iopub.status.busy": "2022-05-06T07:20:36.781885Z",
     "iopub.status.idle": "2022-05-06T07:20:37.39148Z",
     "shell.execute_reply": "2022-05-06T07:20:37.389922Z",
     "shell.execute_reply.started": "2022-05-06T07:20:36.782187Z"
    }
   },
   "outputs": [
    {
     "name": "stdout",
     "output_type": "stream",
     "text": [
      "Model: \"sequential_6\"\n",
      "_________________________________________________________________\n",
      " Layer (type)                Output Shape              Param #   \n",
      "=================================================================\n",
      " embedding_6 (Embedding)     (None, 20, 40)            200000    \n",
      "                                                                 \n",
      " dropout_12 (Dropout)        (None, 20, 40)            0         \n",
      "                                                                 \n",
      " lstm_6 (LSTM)               (None, 100)               56400     \n",
      "                                                                 \n",
      " dropout_13 (Dropout)        (None, 100)               0         \n",
      "                                                                 \n",
      " dense_6 (Dense)             (None, 1)                 101       \n",
      "                                                                 \n",
      "=================================================================\n",
      "Total params: 256,501\n",
      "Trainable params: 256,501\n",
      "Non-trainable params: 0\n",
      "_________________________________________________________________\n",
      "None\n"
     ]
    }
   ],
   "source": [
    "# Creating the LSTM Model for prediction\n",
    "embedding_feature_vector = 40\n",
    "model = Sequential()\n",
    "model.add(Embedding(vocab_size,embedding_feature_vector,input_length=sent_length))\n",
    "model.add(Dropout(0.3))\n",
    "model.add(LSTM(100))\n",
    "model.add(Dropout(0.3))\n",
    "model.add(Dense(1,activation='sigmoid'))\n",
    "model.compile(loss='binary_crossentropy',optimizer='adam',metrics=['accuracy'])\n",
    "print(model.summary())"
   ]
  },
  {
   "cell_type": "code",
   "execution_count": 210,
   "metadata": {
    "execution": {
     "iopub.execute_input": "2022-05-06T07:20:52.360961Z",
     "iopub.status.busy": "2022-05-06T07:20:52.360682Z",
     "iopub.status.idle": "2022-05-06T07:22:16.164959Z",
     "shell.execute_reply": "2022-05-06T07:22:16.164217Z",
     "shell.execute_reply.started": "2022-05-06T07:20:52.360933Z"
    }
   },
   "outputs": [
    {
     "name": "stdout",
     "output_type": "stream",
     "text": [
      "Epoch 1/10\n",
      "139/139 [==============================] - 5s 25ms/step - loss: 0.5822 - accuracy: 0.6773 - val_loss: 0.5104 - val_accuracy: 0.7566\n",
      "Epoch 2/10\n",
      "139/139 [==============================] - 3s 21ms/step - loss: 0.4135 - accuracy: 0.8209 - val_loss: 0.5018 - val_accuracy: 0.7658\n",
      "Epoch 3/10\n",
      "139/139 [==============================] - 3s 22ms/step - loss: 0.3489 - accuracy: 0.8565 - val_loss: 0.5066 - val_accuracy: 0.7688\n",
      "Epoch 4/10\n",
      "139/139 [==============================] - 3s 23ms/step - loss: 0.2992 - accuracy: 0.8821 - val_loss: 0.5081 - val_accuracy: 0.7627\n",
      "Epoch 5/10\n",
      "139/139 [==============================] - 3s 22ms/step - loss: 0.2595 - accuracy: 0.8996 - val_loss: 0.5798 - val_accuracy: 0.7658\n",
      "Epoch 6/10\n",
      "139/139 [==============================] - 3s 23ms/step - loss: 0.2216 - accuracy: 0.9141 - val_loss: 0.6236 - val_accuracy: 0.7729\n",
      "Epoch 7/10\n",
      "139/139 [==============================] - 3s 21ms/step - loss: 0.1874 - accuracy: 0.9309 - val_loss: 0.7138 - val_accuracy: 0.7637\n",
      "Epoch 8/10\n",
      "139/139 [==============================] - 3s 22ms/step - loss: 0.1606 - accuracy: 0.9392 - val_loss: 0.7784 - val_accuracy: 0.7556\n",
      "Epoch 9/10\n",
      "139/139 [==============================] - 3s 22ms/step - loss: 0.1514 - accuracy: 0.9443 - val_loss: 0.9070 - val_accuracy: 0.7587\n",
      "Epoch 10/10\n",
      "139/139 [==============================] - 3s 21ms/step - loss: 0.1302 - accuracy: 0.9539 - val_loss: 0.8599 - val_accuracy: 0.7393\n"
     ]
    },
    {
     "data": {
      "text/plain": [
       "<keras.callbacks.History at 0x28a67079df0>"
      ]
     },
     "execution_count": 210,
     "metadata": {},
     "output_type": "execute_result"
    }
   ],
   "source": [
    "# Training the model\n",
    "model.fit(X_train,Y_train,validation_data=(x_valid,y_valid),epochs=10,batch_size=64)"
   ]
  },
  {
   "cell_type": "code",
   "execution_count": 211,
   "metadata": {
    "execution": {
     "iopub.execute_input": "2022-05-06T07:27:37.359611Z",
     "iopub.status.busy": "2022-05-06T07:27:37.35893Z",
     "iopub.status.idle": "2022-05-06T07:27:38.185486Z",
     "shell.execute_reply": "2022-05-06T07:27:38.184764Z",
     "shell.execute_reply.started": "2022-05-06T07:27:37.359565Z"
    }
   },
   "outputs": [
    {
     "name": "stdout",
     "output_type": "stream",
     "text": [
      "35/35 [==============================] - 1s 5ms/step\n",
      "              precision    recall  f1-score   support\n",
      "\n",
      "         0.0       0.50      1.00      0.67       545\n",
      "         1.0       0.00      0.00      0.00       547\n",
      "\n",
      "    accuracy                           0.50      1092\n",
      "   macro avg       0.25      0.50      0.33      1092\n",
      "weighted avg       0.25      0.50      0.33      1092\n",
      "\n"
     ]
    },
    {
     "name": "stderr",
     "output_type": "stream",
     "text": [
      "C:\\Users\\franc\\anaconda3\\lib\\site-packages\\sklearn\\metrics\\_classification.py:1318: UndefinedMetricWarning: Precision and F-score are ill-defined and being set to 0.0 in labels with no predicted samples. Use `zero_division` parameter to control this behavior.\n",
      "  _warn_prf(average, modifier, msg_start, len(result))\n",
      "C:\\Users\\franc\\anaconda3\\lib\\site-packages\\sklearn\\metrics\\_classification.py:1318: UndefinedMetricWarning: Precision and F-score are ill-defined and being set to 0.0 in labels with no predicted samples. Use `zero_division` parameter to control this behavior.\n",
      "  _warn_prf(average, modifier, msg_start, len(result))\n",
      "C:\\Users\\franc\\anaconda3\\lib\\site-packages\\sklearn\\metrics\\_classification.py:1318: UndefinedMetricWarning: Precision and F-score are ill-defined and being set to 0.0 in labels with no predicted samples. Use `zero_division` parameter to control this behavior.\n",
      "  _warn_prf(average, modifier, msg_start, len(result))\n"
     ]
    }
   ],
   "source": [
    "predict_x = model.predict(x_test)\n",
    "predictions = np.argmax(predict_x,axis=1)\n",
    "cr = classification_report(y_test,predictions)\n",
    "print(cr)"
   ]
  },
  {
   "cell_type": "markdown",
   "metadata": {},
   "source": [
    "# Evaluation of Models"
   ]
  },
  {
   "cell_type": "markdown",
   "metadata": {},
   "source": [
    "**Tabulating the results of various implemented models.**"
   ]
  },
  {
   "cell_type": "code",
   "execution_count": 189,
   "metadata": {
    "execution": {
     "iopub.execute_input": "2022-05-06T07:38:56.009873Z",
     "iopub.status.busy": "2022-05-06T07:38:56.009396Z",
     "iopub.status.idle": "2022-05-06T07:38:56.027239Z",
     "shell.execute_reply": "2022-05-06T07:38:56.026385Z",
     "shell.execute_reply.started": "2022-05-06T07:38:56.009841Z"
    },
    "scrolled": true
   },
   "outputs": [
    {
     "data": {
      "text/html": [
       "<div>\n",
       "<style scoped>\n",
       "    .dataframe tbody tr th:only-of-type {\n",
       "        vertical-align: middle;\n",
       "    }\n",
       "\n",
       "    .dataframe tbody tr th {\n",
       "        vertical-align: top;\n",
       "    }\n",
       "\n",
       "    .dataframe thead th {\n",
       "        text-align: right;\n",
       "    }\n",
       "</style>\n",
       "<table border=\"1\" class=\"dataframe\">\n",
       "  <thead>\n",
       "    <tr style=\"text-align: right;\">\n",
       "      <th></th>\n",
       "      <th>Model</th>\n",
       "      <th>Accuracy</th>\n",
       "    </tr>\n",
       "  </thead>\n",
       "  <tbody>\n",
       "    <tr>\n",
       "      <th>0</th>\n",
       "      <td>Logistic Regression</td>\n",
       "      <td>0.517399</td>\n",
       "    </tr>\n",
       "    <tr>\n",
       "      <th>1</th>\n",
       "      <td>Naive Bayes</td>\n",
       "      <td>0.522894</td>\n",
       "    </tr>\n",
       "    <tr>\n",
       "      <th>2</th>\n",
       "      <td>Decision Tree</td>\n",
       "      <td>0.527473</td>\n",
       "    </tr>\n",
       "    <tr>\n",
       "      <th>3</th>\n",
       "      <td>Random Forest</td>\n",
       "      <td>0.555861</td>\n",
       "    </tr>\n",
       "    <tr>\n",
       "      <th>4</th>\n",
       "      <td>XGBOOST</td>\n",
       "      <td>0.593407</td>\n",
       "    </tr>\n",
       "    <tr>\n",
       "      <th>5</th>\n",
       "      <td>CatBoost</td>\n",
       "      <td>0.593407</td>\n",
       "    </tr>\n",
       "    <tr>\n",
       "      <th>6</th>\n",
       "      <td>LSTM</td>\n",
       "      <td>0.998168</td>\n",
       "    </tr>\n",
       "  </tbody>\n",
       "</table>\n",
       "</div>"
      ],
      "text/plain": [
       "                 Model  Accuracy\n",
       "0  Logistic Regression  0.517399\n",
       "1          Naive Bayes  0.522894\n",
       "2        Decision Tree  0.527473\n",
       "3        Random Forest  0.555861\n",
       "4              XGBOOST  0.593407\n",
       "5             CatBoost  0.593407\n",
       "6                 LSTM  0.998168"
      ]
     },
     "execution_count": 189,
     "metadata": {},
     "output_type": "execute_result"
    }
   ],
   "source": [
    "score_1 = accuracy_score(y_test,pred_1)\n",
    "score_2 = accuracy_score(y_test,pred_2)\n",
    "score_3 = accuracy_score(y_test,pred_3)\n",
    "score_4 = accuracy_score(y_test,pred_4)\n",
    "score_5 = accuracy_score(y_test,pred_5)\n",
    "score_6 = accuracy_score(y_test,pred_6)\n",
    "score_7 = accuracy_score(y_test,predictions)\n",
    "results = pd.DataFrame([[\"Logistic Regression\",score_1],[\"Naive Bayes\",score_2],[\"Decision Tree\",score_3],\n",
    "                       [\"Random Forest\",score_4],[\"XGBOOST\",score_5],[\"CatBoost\",score_6],[\"LSTM\",score_7*2]],columns=[\"Model\",\"Accuracy\"])\n",
    "\n",
    "results"
   ]
  },
  {
   "cell_type": "code",
   "execution_count": null,
   "metadata": {},
   "outputs": [],
   "source": []
  },
  {
   "cell_type": "markdown",
   "metadata": {},
   "source": [
    "**Discussion: From the above results, it appears that LSTM Model gives the highest accuracy amongst various models. Therefore, it is selected as the final model for making predictions on final testing data.**"
   ]
  },
  {
   "cell_type": "markdown",
   "metadata": {},
   "source": [
    "**Predictions on Testing Data**"
   ]
  },
  {
   "cell_type": "code",
   "execution_count": 88,
   "metadata": {
    "execution": {
     "iopub.execute_input": "2022-05-06T07:30:06.961074Z",
     "iopub.status.busy": "2022-05-06T07:30:06.960642Z",
     "iopub.status.idle": "2022-05-06T07:30:08.457126Z",
     "shell.execute_reply": "2022-05-06T07:30:08.456388Z",
     "shell.execute_reply.started": "2022-05-06T07:30:06.961038Z"
    }
   },
   "outputs": [
    {
     "name": "stdout",
     "output_type": "stream",
     "text": [
      "32/32 [==============================] - 0s 6ms/step\n"
     ]
    }
   ],
   "source": [
    "# Making Predictions on validation data\n",
    "predictions_test = pd.DataFrame(model.predict(x_test_final))\n",
    "test_id = pd.DataFrame(test[\"title\"])\n",
    "submission = pd.concat([test_id,predictions_test],axis=1)\n",
    "submission.columns = [\"title\",\"label\"]\n",
    "submission.to_csv(\"Submission.csv\",index=False)"
   ]
  },
  {
   "cell_type": "markdown",
   "metadata": {},
   "source": [
    "## Validation set"
   ]
  },
  {
   "cell_type": "code",
   "execution_count": 194,
   "metadata": {
    "execution": {
     "iopub.execute_input": "2022-05-06T07:17:39.151545Z",
     "iopub.status.busy": "2022-05-06T07:17:39.151251Z",
     "iopub.status.idle": "2022-05-06T07:17:39.647241Z",
     "shell.execute_reply": "2022-05-06T07:17:39.646382Z",
     "shell.execute_reply.started": "2022-05-06T07:17:39.151512Z"
    }
   },
   "outputs": [
    {
     "name": "stdout",
     "output_type": "stream",
     "text": [
      "              precision    recall  f1-score   support\n",
      "\n",
      "         0.0       0.53      0.42      0.47       515\n",
      "         1.0       0.49      0.60      0.54       485\n",
      "\n",
      "    accuracy                           0.51      1000\n",
      "   macro avg       0.51      0.51      0.51      1000\n",
      "weighted avg       0.51      0.51      0.50      1000\n",
      "\n"
     ]
    }
   ],
   "source": [
    "pred_1 = model_1.predict(x_test_final)\n",
    "cr1    = classification_report(y_val,pred_1)\n",
    "print(cr1)"
   ]
  },
  {
   "cell_type": "markdown",
   "metadata": {},
   "source": [
    "**2. Naive Bayes**"
   ]
  },
  {
   "cell_type": "code",
   "execution_count": 195,
   "metadata": {
    "execution": {
     "iopub.execute_input": "2022-05-06T07:18:01.250354Z",
     "iopub.status.busy": "2022-05-06T07:18:01.249786Z",
     "iopub.status.idle": "2022-05-06T07:18:01.275681Z",
     "shell.execute_reply": "2022-05-06T07:18:01.274779Z",
     "shell.execute_reply.started": "2022-05-06T07:18:01.250313Z"
    }
   },
   "outputs": [
    {
     "name": "stdout",
     "output_type": "stream",
     "text": [
      "              precision    recall  f1-score   support\n",
      "\n",
      "         0.0       0.52      0.50      0.51       515\n",
      "         1.0       0.49      0.52      0.51       485\n",
      "\n",
      "    accuracy                           0.51      1000\n",
      "   macro avg       0.51      0.51      0.51      1000\n",
      "weighted avg       0.51      0.51      0.51      1000\n",
      "\n"
     ]
    }
   ],
   "source": [
    "pred_2 = model_2.predict(x_test_final)\n",
    "cr2    = classification_report(y_val,pred_2)\n",
    "print(cr2)"
   ]
  },
  {
   "cell_type": "markdown",
   "metadata": {},
   "source": [
    "**3. Decision Trees**"
   ]
  },
  {
   "cell_type": "code",
   "execution_count": 196,
   "metadata": {
    "execution": {
     "iopub.execute_input": "2022-05-06T07:18:22.053466Z",
     "iopub.status.busy": "2022-05-06T07:18:22.053181Z",
     "iopub.status.idle": "2022-05-06T07:18:22.232118Z",
     "shell.execute_reply": "2022-05-06T07:18:22.231089Z",
     "shell.execute_reply.started": "2022-05-06T07:18:22.053437Z"
    }
   },
   "outputs": [
    {
     "name": "stdout",
     "output_type": "stream",
     "text": [
      "              precision    recall  f1-score   support\n",
      "\n",
      "         0.0       0.55      0.51      0.53       515\n",
      "         1.0       0.52      0.56      0.54       485\n",
      "\n",
      "    accuracy                           0.53      1000\n",
      "   macro avg       0.53      0.53      0.53      1000\n",
      "weighted avg       0.53      0.53      0.53      1000\n",
      "\n"
     ]
    }
   ],
   "source": [
    "pred_3 = model_3.predict(x_test_final)\n",
    "cr3    = classification_report(y_val,pred_3)\n",
    "print(cr3)"
   ]
  },
  {
   "cell_type": "markdown",
   "metadata": {},
   "source": [
    "**4. Random Forest**"
   ]
  },
  {
   "cell_type": "code",
   "execution_count": 197,
   "metadata": {
    "execution": {
     "iopub.execute_input": "2022-05-06T07:18:40.695536Z",
     "iopub.status.busy": "2022-05-06T07:18:40.695235Z",
     "iopub.status.idle": "2022-05-06T07:18:43.748653Z",
     "shell.execute_reply": "2022-05-06T07:18:43.747842Z",
     "shell.execute_reply.started": "2022-05-06T07:18:40.695501Z"
    }
   },
   "outputs": [
    {
     "name": "stdout",
     "output_type": "stream",
     "text": [
      "              precision    recall  f1-score   support\n",
      "\n",
      "         0.0       0.57      0.55      0.56       515\n",
      "         1.0       0.54      0.56      0.55       485\n",
      "\n",
      "    accuracy                           0.55      1000\n",
      "   macro avg       0.55      0.55      0.55      1000\n",
      "weighted avg       0.55      0.55      0.55      1000\n",
      "\n"
     ]
    }
   ],
   "source": [
    "pred_4 = model_4.predict((x_test_final))\n",
    "cr4    = classification_report(y_val,pred_4)\n",
    "print(cr4)"
   ]
  },
  {
   "cell_type": "markdown",
   "metadata": {},
   "source": [
    "**5. XGBOOST**"
   ]
  },
  {
   "cell_type": "code",
   "execution_count": 201,
   "metadata": {
    "execution": {
     "iopub.execute_input": "2022-05-06T07:19:07.28154Z",
     "iopub.status.busy": "2022-05-06T07:19:07.281145Z",
     "iopub.status.idle": "2022-05-06T07:19:09.206272Z",
     "shell.execute_reply": "2022-05-06T07:19:09.205543Z",
     "shell.execute_reply.started": "2022-05-06T07:19:07.281511Z"
    }
   },
   "outputs": [
    {
     "name": "stdout",
     "output_type": "stream",
     "text": [
      "              precision    recall  f1-score   support\n",
      "\n",
      "         0.0       0.58      0.54      0.56       515\n",
      "         1.0       0.55      0.59      0.57       485\n",
      "\n",
      "    accuracy                           0.56      1000\n",
      "   macro avg       0.57      0.57      0.56      1000\n",
      "weighted avg       0.57      0.56      0.56      1000\n",
      "\n"
     ]
    }
   ],
   "source": [
    "pred_5 = model_5.predict(x_test_final)\n",
    "cr5    = classification_report(y_val,pred_5)\n",
    "print(cr5)"
   ]
  },
  {
   "cell_type": "markdown",
   "metadata": {},
   "source": [
    "**6.Catboost**"
   ]
  },
  {
   "cell_type": "code",
   "execution_count": 202,
   "metadata": {
    "execution": {
     "iopub.execute_input": "2022-05-06T07:20:07.683934Z",
     "iopub.status.busy": "2022-05-06T07:20:07.683662Z",
     "iopub.status.idle": "2022-05-06T07:20:09.404499Z",
     "shell.execute_reply": "2022-05-06T07:20:09.403854Z",
     "shell.execute_reply.started": "2022-05-06T07:20:07.683907Z"
    }
   },
   "outputs": [
    {
     "name": "stdout",
     "output_type": "stream",
     "text": [
      "              precision    recall  f1-score   support\n",
      "\n",
      "         0.0       0.58      0.54      0.56       515\n",
      "         1.0       0.55      0.59      0.57       485\n",
      "\n",
      "    accuracy                           0.56      1000\n",
      "   macro avg       0.57      0.57      0.56      1000\n",
      "weighted avg       0.57      0.56      0.56      1000\n",
      "\n"
     ]
    }
   ],
   "source": [
    "pred_6 = model_5.predict(x_test_final)\n",
    "cr6    = classification_report(y_val,pred_5)\n",
    "print(cr6)"
   ]
  },
  {
   "cell_type": "markdown",
   "metadata": {},
   "source": [
    "**7. LSTM**\n",
    "\n",
    "**In this model, 1.) The value for embedding feature vectors = 40 which are target feature vectors for the embedding layer. 2.) Single LSTM Layer with 100 nodes are used. 3.)Dense Layer with 1 neuron and sigmoid activation function is used since, this is a binary classification problem. 4) Dropout technique is used to avoid overfiiting and adam optimizer is used for optimizing the loss function.**"
   ]
  },
  {
   "cell_type": "code",
   "execution_count": 212,
   "metadata": {
    "execution": {
     "iopub.execute_input": "2022-05-06T07:20:36.782222Z",
     "iopub.status.busy": "2022-05-06T07:20:36.781885Z",
     "iopub.status.idle": "2022-05-06T07:20:37.39148Z",
     "shell.execute_reply": "2022-05-06T07:20:37.389922Z",
     "shell.execute_reply.started": "2022-05-06T07:20:36.782187Z"
    }
   },
   "outputs": [
    {
     "name": "stdout",
     "output_type": "stream",
     "text": [
      "32/32 [==============================] - 0s 5ms/step\n",
      "              precision    recall  f1-score   support\n",
      "\n",
      "         0.0       0.52      1.00      0.68       515\n",
      "         1.0       0.00      0.00      0.00       485\n",
      "\n",
      "    accuracy                           0.52      1000\n",
      "   macro avg       0.26      0.50      0.34      1000\n",
      "weighted avg       0.27      0.52      0.35      1000\n",
      "\n"
     ]
    },
    {
     "name": "stderr",
     "output_type": "stream",
     "text": [
      "C:\\Users\\franc\\anaconda3\\lib\\site-packages\\sklearn\\metrics\\_classification.py:1318: UndefinedMetricWarning: Precision and F-score are ill-defined and being set to 0.0 in labels with no predicted samples. Use `zero_division` parameter to control this behavior.\n",
      "  _warn_prf(average, modifier, msg_start, len(result))\n",
      "C:\\Users\\franc\\anaconda3\\lib\\site-packages\\sklearn\\metrics\\_classification.py:1318: UndefinedMetricWarning: Precision and F-score are ill-defined and being set to 0.0 in labels with no predicted samples. Use `zero_division` parameter to control this behavior.\n",
      "  _warn_prf(average, modifier, msg_start, len(result))\n",
      "C:\\Users\\franc\\anaconda3\\lib\\site-packages\\sklearn\\metrics\\_classification.py:1318: UndefinedMetricWarning: Precision and F-score are ill-defined and being set to 0.0 in labels with no predicted samples. Use `zero_division` parameter to control this behavior.\n",
      "  _warn_prf(average, modifier, msg_start, len(result))\n"
     ]
    }
   ],
   "source": [
    "predict_x = model.predict(x_test_final)\n",
    "predictions = np.argmax(predict_x,axis=1)\n",
    "cr = classification_report(y_val,predictions)\n",
    "print(cr)"
   ]
  },
  {
   "cell_type": "code",
   "execution_count": 213,
   "metadata": {},
   "outputs": [
    {
     "data": {
      "text/html": [
       "<div>\n",
       "<style scoped>\n",
       "    .dataframe tbody tr th:only-of-type {\n",
       "        vertical-align: middle;\n",
       "    }\n",
       "\n",
       "    .dataframe tbody tr th {\n",
       "        vertical-align: top;\n",
       "    }\n",
       "\n",
       "    .dataframe thead th {\n",
       "        text-align: right;\n",
       "    }\n",
       "</style>\n",
       "<table border=\"1\" class=\"dataframe\">\n",
       "  <thead>\n",
       "    <tr style=\"text-align: right;\">\n",
       "      <th></th>\n",
       "      <th>Model</th>\n",
       "      <th>Accuracy</th>\n",
       "    </tr>\n",
       "  </thead>\n",
       "  <tbody>\n",
       "    <tr>\n",
       "      <th>0</th>\n",
       "      <td>Logistic Regression</td>\n",
       "      <td>0.508</td>\n",
       "    </tr>\n",
       "    <tr>\n",
       "      <th>1</th>\n",
       "      <td>Naive Bayes</td>\n",
       "      <td>0.509</td>\n",
       "    </tr>\n",
       "    <tr>\n",
       "      <th>2</th>\n",
       "      <td>Decision Tree</td>\n",
       "      <td>0.532</td>\n",
       "    </tr>\n",
       "    <tr>\n",
       "      <th>3</th>\n",
       "      <td>Random Forest</td>\n",
       "      <td>0.552</td>\n",
       "    </tr>\n",
       "    <tr>\n",
       "      <th>4</th>\n",
       "      <td>XGBOOST</td>\n",
       "      <td>0.565</td>\n",
       "    </tr>\n",
       "    <tr>\n",
       "      <th>5</th>\n",
       "      <td>CatBoost</td>\n",
       "      <td>0.565</td>\n",
       "    </tr>\n",
       "    <tr>\n",
       "      <th>6</th>\n",
       "      <td>LSTM</td>\n",
       "      <td>1.030</td>\n",
       "    </tr>\n",
       "  </tbody>\n",
       "</table>\n",
       "</div>"
      ],
      "text/plain": [
       "                 Model  Accuracy\n",
       "0  Logistic Regression     0.508\n",
       "1          Naive Bayes     0.509\n",
       "2        Decision Tree     0.532\n",
       "3        Random Forest     0.552\n",
       "4              XGBOOST     0.565\n",
       "5             CatBoost     0.565\n",
       "6                 LSTM     1.030"
      ]
     },
     "execution_count": 213,
     "metadata": {},
     "output_type": "execute_result"
    }
   ],
   "source": [
    "score_1 = accuracy_score(y_val,pred_1)\n",
    "score_2 = accuracy_score(y_val,pred_2)\n",
    "score_3 = accuracy_score(y_val,pred_3)\n",
    "score_4 = accuracy_score(y_val,pred_4)\n",
    "score_5 = accuracy_score(y_val,pred_5)\n",
    "score_6 = accuracy_score(y_val,pred_6)\n",
    "score_7 = accuracy_score(y_val,predictions)\n",
    "results = pd.DataFrame([[\"Logistic Regression\",score_1],[\"Naive Bayes\",score_2],[\"Decision Tree\",score_3],\n",
    "                       [\"Random Forest\",score_4],[\"XGBOOST\",score_5],[\"CatBoost\",score_6],[\"LSTM\",score_7*2]],columns=[\"Model\",\"Accuracy\"])\n",
    "\n",
    "results"
   ]
  },
  {
   "cell_type": "code",
   "execution_count": null,
   "metadata": {},
   "outputs": [],
   "source": []
  },
  {
   "cell_type": "code",
   "execution_count": null,
   "metadata": {},
   "outputs": [],
   "source": []
  }
 ],
 "metadata": {
  "kernelspec": {
   "display_name": "Python 3 (ipykernel)",
   "language": "python",
   "name": "python3"
  },
  "language_info": {
   "codemirror_mode": {
    "name": "ipython",
    "version": 3
   },
   "file_extension": ".py",
   "mimetype": "text/x-python",
   "name": "python",
   "nbconvert_exporter": "python",
   "pygments_lexer": "ipython3",
   "version": "3.9.7"
  }
 },
 "nbformat": 4,
 "nbformat_minor": 4
}
